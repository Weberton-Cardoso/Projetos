{
  "nbformat": 4,
  "nbformat_minor": 0,
  "metadata": {
    "colab": {
      "name": "Previsão de preço Dogecoin.ipynb",
      "provenance": [],
      "authorship_tag": "ABX9TyNv8ytcJfdCRG/tMlOIloEV",
      "include_colab_link": true
    },
    "kernelspec": {
      "name": "python3",
      "display_name": "Python 3"
    },
    "language_info": {
      "name": "python"
    }
  },
  "cells": [
    {
      "cell_type": "markdown",
      "metadata": {
        "id": "view-in-github",
        "colab_type": "text"
      },
      "source": [
        "<a href=\"https://colab.research.google.com/github/Weberton-Cardoso/Projetos/blob/master/Previs%C3%A3o_de_pre%C3%A7o_Dogecoin.ipynb\" target=\"_parent\"><img src=\"https://colab.research.google.com/assets/colab-badge.svg\" alt=\"Open In Colab\"/></a>"
      ]
    },
    {
      "cell_type": "markdown",
      "source": [
        "#Previsão de preço Dogecoin\n",
        "Prever o preço de uma criptomoeda é um problema de regressão no aprendizado de máquina. O Bitcoin é um dos exemplos mais bem-sucedidos de criptomoeda, mas recentemente vimos uma grande queda nos preços do bitcoin devido ao dogecoin. Ao contrário do bitcoin, o dogecoin é muito barato no momento, mas especialistas financeiros estão prevendo que podemos ver um grande aumento nos preços do dogecoin.\n",
        "\n",
        "Existem muitas abordagens de aprendizado de máquina que podemos usar para a tarefa de previsão de preços do Dogecoin. Você pode treinar um modelo de aprendizado de máquina ou também pode usar um modelo poderoso já disponível, como o Facebook Prophet Model. Mas na seção abaixo, usarei a biblioteca autots em Python para a tarefa de previsão de preços Dogecoin com aprendizado de máquina."
      ],
      "metadata": {
        "id": "D-LeFu5eEi2f"
      }
    },
    {
      "cell_type": "code",
      "execution_count": 1,
      "metadata": {
        "id": "lZyGGQb3wneZ"
      },
      "outputs": [],
      "source": [
        "import numpy as np\n",
        "import pandas as pd\n",
        "import matplotlib.pyplot as plt\n",
        "import seaborn as sns\n",
        "from seaborn import regression\n"
      ]
    },
    {
      "cell_type": "markdown",
      "source": [
        ""
      ],
      "metadata": {
        "id": "IufOTM9bE1I6"
      }
    },
    {
      "cell_type": "code",
      "source": [
        "sns.set()"
      ],
      "metadata": {
        "id": "iV66Dfo95cxD"
      },
      "execution_count": 2,
      "outputs": []
    },
    {
      "cell_type": "code",
      "source": [
        "plt.style.use('seaborn-whitegrid')"
      ],
      "metadata": {
        "id": "AYiXPPta5ioP"
      },
      "execution_count": 3,
      "outputs": []
    },
    {
      "cell_type": "code",
      "source": [
        "data = pd.read_csv('/content/DOGE-USD.csv')"
      ],
      "metadata": {
        "id": "23uyUPWN5sB_"
      },
      "execution_count": 9,
      "outputs": []
    },
    {
      "cell_type": "code",
      "source": [
        "print(data.head())"
      ],
      "metadata": {
        "colab": {
          "base_uri": "https://localhost:8080/"
        },
        "id": "WmoUI9u-555e",
        "outputId": "374bafc3-b1b6-449a-8a94-30ae99ea6421"
      },
      "execution_count": 10,
      "outputs": [
        {
          "output_type": "stream",
          "name": "stdout",
          "text": [
            "         Date      Open      High       Low     Close  Adj Close     Volume\n",
            "0  2021-01-20  0.009096  0.009153  0.008529  0.009060   0.009060  220205442\n",
            "1  2021-01-21  0.009062  0.009089  0.008061  0.008166   0.008166  215419839\n",
            "2  2021-01-22  0.008165  0.008769  0.007654  0.008524   0.008524  185490003\n",
            "3  2021-01-23  0.008520  0.008808  0.008388  0.008579   0.008579  154393737\n",
            "4  2021-01-24  0.008578  0.008951  0.008516  0.008727   0.008727  162191977\n"
          ]
        }
      ]
    },
    {
      "cell_type": "markdown",
      "source": [
        "### Neste conjunto de dados, a coluna “close” contém os valores cujos valores futuros queremos prever, então vamos dar uma olhada nos valores históricos dos preços de fechamento do Dogecoin:"
      ],
      "metadata": {
        "id": "_957NseZ7GPG"
      }
    },
    {
      "cell_type": "code",
      "source": [
        "data.dropna()\n",
        "plt.figure(figsize=(10, 4))\n",
        "plt.title(\"DogeCoin Price INR\")\n",
        "plt.xlabel(\"Date\")\n",
        "plt.ylabel(\"Close\")\n",
        "plt.plot(data[\"Close\"])\n",
        "plt.show()"
      ],
      "metadata": {
        "colab": {
          "base_uri": "https://localhost:8080/",
          "height": 293
        },
        "id": "KPCLc16S7Y8w",
        "outputId": "92402944-9ce0-4159-a8e1-cf0211b470a6"
      },
      "execution_count": 15,
      "outputs": [
        {
          "output_type": "display_data",
          "data": {
            "image/png": "[encoded data removed]",
            "text/plain": [
              "<Figure size 720x288 with 1 Axes>"
            ]
          },
          "metadata": {}
        }
      ]
    },
    {
      "cell_type": "markdown",
      "source": [
        "## Agora estarei usando a biblioteca autots em Python para treinar um modelo de aprendizado de máquina para prever os preços futuros do Dogecoin. "
      ],
      "metadata": {
        "id": "Wl0Jr8SR8a5k"
      }
    },
    {
      "cell_type": "code",
      "source": [
        "pip install autots"
      ],
      "metadata": {
        "colab": {
          "base_uri": "https://localhost:8080/"
        },
        "id": "R-AQDb8k8pAu",
        "outputId": "34204687-6fda-44fa-d934-e8bd89e89590"
      },
      "execution_count": 17,
      "outputs": [
        {
          "output_type": "stream",
          "name": "stdout",
          "text": [
            "Collecting autots\n",
            "  Downloading AutoTS-0.3.12-py3-none-any.whl (442 kB)\n",
            "\u001b[?25l\r\u001b[K     |▊                               | 10 kB 24.2 MB/s eta 0:00:01\r\u001b[K     |█▌                              | 20 kB 11.1 MB/s eta 0:00:01\r\u001b[K     |██▎                             | 30 kB 9.1 MB/s eta 0:00:01\r\u001b[K     |███                             | 40 kB 8.2 MB/s eta 0:00:01\r\u001b[K     |███▊                            | 51 kB 5.0 MB/s eta 0:00:01\r\u001b[K     |████▌                           | 61 kB 5.2 MB/s eta 0:00:01\r\u001b[K     |█████▏                          | 71 kB 5.4 MB/s eta 0:00:01\r\u001b[K     |██████                          | 81 kB 6.0 MB/s eta 0:00:01\r\u001b[K     |██████▊                         | 92 kB 4.7 MB/s eta 0:00:01\r\u001b[K     |███████▍                        | 102 kB 5.0 MB/s eta 0:00:01\r\u001b[K     |████████▏                       | 112 kB 5.0 MB/s eta 0:00:01\r\u001b[K     |█████████                       | 122 kB 5.0 MB/s eta 0:00:01\r\u001b[K     |█████████▋                      | 133 kB 5.0 MB/s eta 0:00:01\r\u001b[K     |██████████▍                     | 143 kB 5.0 MB/s eta 0:00:01\r\u001b[K     |███████████▏                    | 153 kB 5.0 MB/s eta 0:00:01\r\u001b[K     |███████████▉                    | 163 kB 5.0 MB/s eta 0:00:01\r\u001b[K     |████████████▋                   | 174 kB 5.0 MB/s eta 0:00:01\r\u001b[K     |█████████████▍                  | 184 kB 5.0 MB/s eta 0:00:01\r\u001b[K     |██████████████                  | 194 kB 5.0 MB/s eta 0:00:01\r\u001b[K     |██████████████▉                 | 204 kB 5.0 MB/s eta 0:00:01\r\u001b[K     |███████████████▋                | 215 kB 5.0 MB/s eta 0:00:01\r\u001b[K     |████████████████▎               | 225 kB 5.0 MB/s eta 0:00:01\r\u001b[K     |█████████████████               | 235 kB 5.0 MB/s eta 0:00:01\r\u001b[K     |█████████████████▉              | 245 kB 5.0 MB/s eta 0:00:01\r\u001b[K     |██████████████████▌             | 256 kB 5.0 MB/s eta 0:00:01\r\u001b[K     |███████████████████▎            | 266 kB 5.0 MB/s eta 0:00:01\r\u001b[K     |████████████████████            | 276 kB 5.0 MB/s eta 0:00:01\r\u001b[K     |████████████████████▊           | 286 kB 5.0 MB/s eta 0:00:01\r\u001b[K     |█████████████████████▌          | 296 kB 5.0 MB/s eta 0:00:01\r\u001b[K     |██████████████████████▎         | 307 kB 5.0 MB/s eta 0:00:01\r\u001b[K     |███████████████████████         | 317 kB 5.0 MB/s eta 0:00:01\r\u001b[K     |███████████████████████▊        | 327 kB 5.0 MB/s eta 0:00:01\r\u001b[K     |████████████████████████▌       | 337 kB 5.0 MB/s eta 0:00:01\r\u001b[K     |█████████████████████████▏      | 348 kB 5.0 MB/s eta 0:00:01\r\u001b[K     |██████████████████████████      | 358 kB 5.0 MB/s eta 0:00:01\r\u001b[K     |██████████████████████████▊     | 368 kB 5.0 MB/s eta 0:00:01\r\u001b[K     |███████████████████████████▍    | 378 kB 5.0 MB/s eta 0:00:01\r\u001b[K     |████████████████████████████▏   | 389 kB 5.0 MB/s eta 0:00:01\r\u001b[K     |█████████████████████████████   | 399 kB 5.0 MB/s eta 0:00:01\r\u001b[K     |█████████████████████████████▋  | 409 kB 5.0 MB/s eta 0:00:01\r\u001b[K     |██████████████████████████████▍ | 419 kB 5.0 MB/s eta 0:00:01\r\u001b[K     |███████████████████████████████▏| 430 kB 5.0 MB/s eta 0:00:01\r\u001b[K     |███████████████████████████████▉| 440 kB 5.0 MB/s eta 0:00:01\r\u001b[K     |████████████████████████████████| 442 kB 5.0 MB/s \n",
            "\u001b[?25hRequirement already satisfied: pandas>=0.25.* in /usr/local/lib/python3.7/dist-packages (from autots) (1.1.5)\n",
            "Requirement already satisfied: statsmodels>=0.10.* in /usr/local/lib/python3.7/dist-packages (from autots) (0.10.2)\n",
            "Requirement already satisfied: scikit-learn>=0.20.* in /usr/local/lib/python3.7/dist-packages (from autots) (1.0.2)\n",
            "Requirement already satisfied: numpy>=1.14.6 in /usr/local/lib/python3.7/dist-packages (from autots) (1.19.5)\n",
            "Requirement already satisfied: pytz>=2017.2 in /usr/local/lib/python3.7/dist-packages (from pandas>=0.25.*->autots) (2018.9)\n",
            "Requirement already satisfied: python-dateutil>=2.7.3 in /usr/local/lib/python3.7/dist-packages (from pandas>=0.25.*->autots) (2.8.2)\n",
            "Requirement already satisfied: six>=1.5 in /usr/local/lib/python3.7/dist-packages (from python-dateutil>=2.7.3->pandas>=0.25.*->autots) (1.15.0)\n",
            "Requirement already satisfied: scipy>=1.1.0 in /usr/local/lib/python3.7/dist-packages (from scikit-learn>=0.20.*->autots) (1.4.1)\n",
            "Requirement already satisfied: joblib>=0.11 in /usr/local/lib/python3.7/dist-packages (from scikit-learn>=0.20.*->autots) (1.1.0)\n",
            "Requirement already satisfied: threadpoolctl>=2.0.0 in /usr/local/lib/python3.7/dist-packages (from scikit-learn>=0.20.*->autots) (3.0.0)\n",
            "Requirement already satisfied: patsy>=0.4.0 in /usr/local/lib/python3.7/dist-packages (from statsmodels>=0.10.*->autots) (0.5.2)\n",
            "Installing collected packages: autots\n",
            "Successfully installed autots-0.3.12\n"
          ]
        }
      ]
    },
    {
      "cell_type": "code",
      "source": [
        "#Agora vamos treinar o modelo de previsão de preços do Dogecoin e dar uma olhada nos preços futuros do Dogecoin:\n",
        "\n",
        "from autots import AutoTS\n",
        "model = AutoTS(forecast_length=10, frequency='infer', ensemble='simple', drop_data_older_than_periods=200)\n",
        "model = model.fit(data, date_col='Date', value_col='Close', id_col=None)\n",
        "\n",
        "\n",
        "prediction = model.predict()\n",
        "forecast = prediction.forecast\n",
        "print(\"Dogecoin Price Prediction\")\n",
        "print(forecast)"
      ],
      "metadata": {
        "colab": {
          "base_uri": "https://localhost:8080/"
        },
        "id": "ehEr_Vu08dAA",
        "outputId": "21c8db7e-a54a-46e4-f749-3f8679a12287"
      },
      "execution_count": 23,
      "outputs": [
        {
          "output_type": "stream",
          "name": "stdout",
          "text": [
            "Inferred frequency is: D\n",
            "Old data dropped by `drop_data_older_than_periods`.\n",
            "Model Number: 1 with model AverageValueNaive in generation 0 of 10\n",
            "Model Number: 2 with model AverageValueNaive in generation 0 of 10\n",
            "Model Number: 3 with model AverageValueNaive in generation 0 of 10\n",
            "Model Number: 4 with model DatepartRegression in generation 0 of 10\n",
            "Model Number: 5 with model DatepartRegression in generation 0 of 10\n",
            "Model Number: 6 with model DatepartRegression in generation 0 of 10\n"
          ]
        },
        {
          "output_type": "stream",
          "name": "stderr",
          "text": [
            "/usr/local/lib/python3.7/dist-packages/sklearn/svm/_base.py:1208: ConvergenceWarning: Liblinear failed to converge, increase the number of iterations.\n",
            "  ConvergenceWarning,\n",
            "/usr/local/lib/python3.7/dist-packages/sklearn/neural_network/_multilayer_perceptron.py:549: ConvergenceWarning: lbfgs failed to converge (status=1):\n",
            "STOP: TOTAL NO. of ITERATIONS REACHED LIMIT.\n",
            "\n",
            "Increase the number of iterations (max_iter) or scale the data as shown in:\n",
            "    https://scikit-learn.org/stable/modules/preprocessing.html\n",
            "  self.n_iter_ = _check_optimize_result(\"lbfgs\", opt_res, self.max_iter)\n"
          ]
        },
        {
          "output_type": "stream",
          "name": "stdout",
          "text": [
            "Model Number: 7 with model DatepartRegression in generation 0 of 10\n",
            "Epoch 1/50\n",
            "6/6 [==============================] - 6s 8ms/step - loss: 0.4088\n",
            "Epoch 2/50\n",
            "6/6 [==============================] - 0s 7ms/step - loss: 0.3968\n",
            "Epoch 3/50\n",
            "6/6 [==============================] - 0s 6ms/step - loss: 0.3948\n",
            "Epoch 4/50\n",
            "6/6 [==============================] - 0s 7ms/step - loss: 0.3881\n",
            "Epoch 5/50\n",
            "6/6 [==============================] - 0s 7ms/step - loss: 0.3881\n",
            "Epoch 6/50\n",
            "6/6 [==============================] - 0s 6ms/step - loss: 0.3857\n",
            "Epoch 7/50\n",
            "6/6 [==============================] - 0s 6ms/step - loss: 0.3844\n",
            "Epoch 8/50\n",
            "6/6 [==============================] - 0s 6ms/step - loss: 0.3850\n",
            "Epoch 9/50\n",
            "6/6 [==============================] - 0s 6ms/step - loss: 0.3843\n",
            "Epoch 10/50\n",
            "6/6 [==============================] - 0s 6ms/step - loss: 0.3771\n",
            "Epoch 11/50\n",
            "6/6 [==============================] - 0s 7ms/step - loss: 0.3823\n",
            "Epoch 12/50\n",
            "6/6 [==============================] - 0s 6ms/step - loss: 0.3793\n",
            "Epoch 13/50\n",
            "6/6 [==============================] - 0s 6ms/step - loss: 0.3803\n",
            "Epoch 14/50\n",
            "6/6 [==============================] - 0s 6ms/step - loss: 0.3805\n",
            "Epoch 15/50\n",
            "6/6 [==============================] - 0s 7ms/step - loss: 0.3766\n",
            "Epoch 16/50\n",
            "6/6 [==============================] - 0s 7ms/step - loss: 0.3751\n",
            "Epoch 17/50\n",
            "6/6 [==============================] - 0s 7ms/step - loss: 0.3760\n",
            "Epoch 18/50\n",
            "6/6 [==============================] - 0s 8ms/step - loss: 0.3721\n",
            "Epoch 19/50\n",
            "6/6 [==============================] - 0s 7ms/step - loss: 0.3732\n",
            "Epoch 20/50\n",
            "6/6 [==============================] - 0s 7ms/step - loss: 0.3696\n",
            "Epoch 21/50\n",
            "6/6 [==============================] - 0s 7ms/step - loss: 0.3726\n",
            "Epoch 22/50\n",
            "6/6 [==============================] - 0s 7ms/step - loss: 0.3719\n",
            "Epoch 23/50\n",
            "6/6 [==============================] - 0s 8ms/step - loss: 0.3676\n",
            "Epoch 24/50\n",
            "6/6 [==============================] - 0s 7ms/step - loss: 0.3677\n",
            "Epoch 25/50\n",
            "6/6 [==============================] - 0s 7ms/step - loss: 0.3620\n",
            "Epoch 26/50\n",
            "6/6 [==============================] - 0s 7ms/step - loss: 0.3567\n",
            "Epoch 27/50\n",
            "6/6 [==============================] - 0s 7ms/step - loss: 0.3631\n",
            "Epoch 28/50\n",
            "6/6 [==============================] - 0s 7ms/step - loss: 0.3560\n",
            "Epoch 29/50\n",
            "6/6 [==============================] - 0s 8ms/step - loss: 0.3549\n",
            "Epoch 30/50\n",
            "6/6 [==============================] - 0s 7ms/step - loss: 0.3569\n",
            "Epoch 31/50\n",
            "6/6 [==============================] - 0s 7ms/step - loss: 0.3556\n",
            "Epoch 32/50\n",
            "6/6 [==============================] - 0s 7ms/step - loss: 0.3517\n",
            "Epoch 33/50\n",
            "6/6 [==============================] - 0s 8ms/step - loss: 0.3574\n",
            "Epoch 34/50\n",
            "6/6 [==============================] - 0s 8ms/step - loss: 0.3503\n",
            "Epoch 35/50\n",
            "6/6 [==============================] - 0s 7ms/step - loss: 0.3565\n",
            "Epoch 36/50\n",
            "6/6 [==============================] - 0s 7ms/step - loss: 0.3433\n",
            "Epoch 37/50\n",
            "6/6 [==============================] - 0s 7ms/step - loss: 0.3529\n",
            "Epoch 38/50\n",
            "6/6 [==============================] - 0s 7ms/step - loss: 0.3447\n",
            "Epoch 39/50\n",
            "6/6 [==============================] - 0s 7ms/step - loss: 0.3468\n",
            "Epoch 40/50\n",
            "6/6 [==============================] - 0s 7ms/step - loss: 0.3491\n",
            "Epoch 41/50\n",
            "6/6 [==============================] - 0s 7ms/step - loss: 0.3499\n",
            "Epoch 42/50\n",
            "6/6 [==============================] - 0s 8ms/step - loss: 0.3462\n",
            "Epoch 43/50\n",
            "6/6 [==============================] - 0s 9ms/step - loss: 0.3437\n",
            "Epoch 44/50\n",
            "6/6 [==============================] - 0s 8ms/step - loss: 0.3380\n",
            "Epoch 45/50\n",
            "6/6 [==============================] - 0s 7ms/step - loss: 0.3390\n",
            "Epoch 46/50\n",
            "6/6 [==============================] - 0s 7ms/step - loss: 0.3482\n",
            "Epoch 47/50\n",
            "6/6 [==============================] - 0s 7ms/step - loss: 0.3428\n",
            "Epoch 48/50\n",
            "6/6 [==============================] - 0s 7ms/step - loss: 0.3450\n",
            "Epoch 49/50\n",
            "6/6 [==============================] - 0s 7ms/step - loss: 0.3458\n",
            "Epoch 50/50\n",
            "6/6 [==============================] - 0s 6ms/step - loss: 0.3363\n",
            "Model Number: 8 with model ETS in generation 0 of 10\n",
            "Model Number: 9 with model ETS in generation 0 of 10\n",
            "Model Number: 10 with model GLM in generation 0 of 10\n",
            "Model Number: 11 with model GLM in generation 0 of 10\n",
            "Model Number: 12 with model GLS in generation 0 of 10\n",
            "Model Number: 13 with model GLS in generation 0 of 10\n",
            "Model Number: 14 with model GluonTS in generation 0 of 10\n",
            "Template Eval Error: ImportError('GluonTS installation not found or installed version is incompatible with AutoTS.') in model 14: GluonTS\n",
            "Model Number: 15 with model GluonTS in generation 0 of 10\n",
            "Template Eval Error: ImportError('GluonTS installation not found or installed version is incompatible with AutoTS.') in model 15: GluonTS\n",
            "Model Number: 16 with model GluonTS in generation 0 of 10\n",
            "Template Eval Error: ImportError('GluonTS installation not found or installed version is incompatible with AutoTS.') in model 16: GluonTS\n",
            "Model Number: 17 with model GluonTS in generation 0 of 10\n",
            "Template Eval Error: ImportError('GluonTS installation not found or installed version is incompatible with AutoTS.') in model 17: GluonTS\n",
            "Model Number: 18 with model GluonTS in generation 0 of 10\n",
            "Template Eval Error: ImportError('GluonTS installation not found or installed version is incompatible with AutoTS.') in model 18: GluonTS\n",
            "Model Number: 19 with model GluonTS in generation 0 of 10\n",
            "Template Eval Error: ImportError('GluonTS installation not found or installed version is incompatible with AutoTS.') in model 19: GluonTS\n",
            "Model Number: 20 with model LastValueNaive in generation 0 of 10\n",
            "Model Number: 21 with model LastValueNaive in generation 0 of 10\n",
            "Model Number: 22 with model LastValueNaive in generation 0 of 10\n",
            "Model Number: 23 with model LastValueNaive in generation 0 of 10\n",
            "Model Number: 24 with model SeasonalNaive in generation 0 of 10\n",
            "Model Number: 25 with model SeasonalNaive in generation 0 of 10\n",
            "Model Number: 26 with model SeasonalNaive in generation 0 of 10\n",
            "Model Number: 27 with model SeasonalNaive in generation 0 of 10\n",
            "Model Number: 28 with model UnobservedComponents in generation 0 of 10\n",
            "Template Eval Error: ValueError('Provided exogenous values are not of the appropriate shape. Required (10, 1), got (10,).') in model 28: UnobservedComponents\n",
            "Model Number: 29 with model UnobservedComponents in generation 0 of 10\n",
            "Model Number: 30 with model UnobservedComponents in generation 0 of 10\n",
            "Model Number: 31 with model VAR in generation 0 of 10\n",
            "Template Eval Error: ValueError('Only gave one variable to VAR') in model 31: VAR\n",
            "Model Number: 32 with model VAR in generation 0 of 10\n",
            "Template Eval Error: ValueError('Only gave one variable to VAR') in model 32: VAR\n",
            "Model Number: 33 with model VAR in generation 0 of 10\n",
            "Template Eval Error: ValueError('Only gave one variable to VAR') in model 33: VAR\n",
            "Model Number: 34 with model VECM in generation 0 of 10\n",
            "Template Eval Error: ValueError('Only gave one variable to VECM') in model 34: VECM\n",
            "Model Number: 35 with model VECM in generation 0 of 10\n",
            "Template Eval Error: ValueError('Only gave one variable to VECM') in model 35: VECM\n",
            "Model Number: 36 with model VECM in generation 0 of 10\n",
            "Template Eval Error: ValueError('Only gave one variable to VECM') in model 36: VECM\n",
            "Model Number: 37 with model VECM in generation 0 of 10\n",
            "Template Eval Error: ValueError('Only gave one variable to VECM') in model 37: VECM\n",
            "Model Number: 38 with model WindowRegression in generation 0 of 10\n",
            "Model Number: 39 with model ZeroesNaive in generation 0 of 10\n",
            "Model Number: 40 with model ZeroesNaive in generation 0 of 10\n",
            "Model Number: 41 with model LastValueNaive in generation 0 of 10\n"
          ]
        },
        {
          "output_type": "stream",
          "name": "stderr",
          "text": [
            "/usr/local/lib/python3.7/dist-packages/sklearn/neural_network/_multilayer_perceptron.py:549: ConvergenceWarning: lbfgs failed to converge (status=1):\n",
            "STOP: TOTAL NO. of ITERATIONS REACHED LIMIT.\n",
            "\n",
            "Increase the number of iterations (max_iter) or scale the data as shown in:\n",
            "    https://scikit-learn.org/stable/modules/preprocessing.html\n",
            "  self.n_iter_ = _check_optimize_result(\"lbfgs\", opt_res, self.max_iter)\n"
          ]
        },
        {
          "output_type": "stream",
          "name": "stdout",
          "text": [
            "Model Number: 42 with model AverageValueNaive in generation 0 of 10\n",
            "Model Number: 43 with model GLS in generation 0 of 10\n",
            "Model Number: 44 with model SeasonalNaive in generation 0 of 10\n",
            "Model Number: 45 with model GLM in generation 0 of 10\n",
            "Model Number: 46 with model ETS in generation 0 of 10\n",
            "Model Number: 47 with model FBProphet in generation 0 of 10\n"
          ]
        },
        {
          "output_type": "stream",
          "name": "stderr",
          "text": [
            "INFO:fbprophet:Disabling yearly seasonality. Run prophet with yearly_seasonality=True to override this.\n",
            "INFO:fbprophet:Disabling daily seasonality. Run prophet with daily_seasonality=True to override this.\n"
          ]
        },
        {
          "output_type": "stream",
          "name": "stdout",
          "text": [
            "Model Number: 48 with model GluonTS in generation 0 of 10\n",
            "Template Eval Error: ImportError('GluonTS installation not found or installed version is incompatible with AutoTS.') in model 48: GluonTS\n",
            "Model Number: 49 with model UnobservedComponents in generation 0 of 10\n",
            "Model Number: 50 with model VAR in generation 0 of 10\n",
            "Template Eval Error: ValueError('Only gave one variable to VAR') in model 50: VAR\n",
            "Model Number: 51 with model VECM in generation 0 of 10\n",
            "Template Eval Error: ValueError('Only gave one variable to VECM') in model 51: VECM\n",
            "Model Number: 52 with model WindowRegression in generation 0 of 10\n",
            "Model Number: 53 with model DatepartRegression in generation 0 of 10\n",
            "Model Number: 54 with model UnivariateMotif in generation 0 of 10\n",
            "Template Eval Error: AttributeError(\"module 'numpy.lib.stride_tricks' has no attribute 'sliding_window_view'\") in model 54: UnivariateMotif\n",
            "Model Number: 55 with model MultivariateMotif in generation 0 of 10\n",
            "Template Eval Error: ImportError(\"cannot import name 'STL' from 'statsmodels.tsa.seasonal' (/usr/local/lib/python3.7/dist-packages/statsmodels/tsa/seasonal.py)\") in model 55: MultivariateMotif\n",
            "Model Number: 56 with model SectionalMotif in generation 0 of 10\n",
            "Model Number: 57 with model NVAR in generation 0 of 10\n",
            "Model Number: 58 with model Theta in generation 0 of 10\n",
            "Template Eval Error: ModuleNotFoundError(\"No module named 'statsmodels.tsa.forecasting'\") in model 58: Theta\n",
            "Model Number: 59 with model ARDL in generation 0 of 10\n",
            "Template Eval Error: ValueError(\"regression_type='User' but future_regressor not supplied\") in model 59: ARDL\n",
            "Model Number: 60 with model GluonTS in generation 0 of 10\n",
            "Template Eval Error: ImportError('GluonTS installation not found or installed version is incompatible with AutoTS.') in model 60: GluonTS\n",
            "Model Number: 61 with model VAR in generation 0 of 10\n",
            "Template Eval Error: ValueError('Only gave one variable to VAR') in model 61: VAR\n",
            "Model Number: 62 with model ZeroesNaive in generation 0 of 10\n",
            "Model Number: 63 with model VAR in generation 0 of 10\n",
            "Template Eval Error: ValueError('Only gave one variable to VAR') in model 63: VAR\n",
            "Model Number: 64 with model ETS in generation 0 of 10\n",
            "Model Number: 65 with model LastValueNaive in generation 0 of 10\n",
            "Model Number: 66 with model ETS in generation 0 of 10\n",
            "Model Number: 67 with model Theta in generation 0 of 10\n",
            "Template Eval Error: ModuleNotFoundError(\"No module named 'statsmodels.tsa.forecasting'\") in model 67: Theta\n",
            "Model Number: 68 with model ETS in generation 0 of 10\n",
            "Model Number: 69 with model GluonTS in generation 0 of 10\n",
            "Template Eval Error: ImportError('GluonTS installation not found or installed version is incompatible with AutoTS.') in model 69: GluonTS\n",
            "Model Number: 70 with model UnobservedComponents in generation 0 of 10\n",
            "Model Number: 71 with model ARDL in generation 0 of 10\n",
            "Template Eval Error: ImportError(\"cannot import name 'ARDL' from 'statsmodels.tsa.api' (/usr/local/lib/python3.7/dist-packages/statsmodels/tsa/api.py)\") in model 71: ARDL\n"
          ]
        },
        {
          "output_type": "stream",
          "name": "stderr",
          "text": [
            "INFO:fbprophet:Disabling yearly seasonality. Run prophet with yearly_seasonality=True to override this.\n",
            "INFO:fbprophet:Disabling daily seasonality. Run prophet with daily_seasonality=True to override this.\n"
          ]
        },
        {
          "output_type": "stream",
          "name": "stdout",
          "text": [
            "Model Number: 72 with model Theta in generation 0 of 10\n",
            "Template Eval Error: ModuleNotFoundError(\"No module named 'statsmodels.tsa.forecasting'\") in model 72: Theta\n",
            "Model Number: 73 with model FBProphet in generation 0 of 10\n"
          ]
        },
        {
          "output_type": "stream",
          "name": "stderr",
          "text": [
            "INFO:fbprophet:Disabling yearly seasonality. Run prophet with yearly_seasonality=True to override this.\n",
            "INFO:fbprophet:Disabling daily seasonality. Run prophet with daily_seasonality=True to override this.\n"
          ]
        },
        {
          "output_type": "stream",
          "name": "stdout",
          "text": [
            "Model Number: 74 with model FBProphet in generation 0 of 10\n",
            "Model Number: 75 with model DatepartRegression in generation 0 of 10\n",
            "Model Number: 76 with model ETS in generation 0 of 10\n"
          ]
        },
        {
          "output_type": "stream",
          "name": "stderr",
          "text": [
            "/usr/local/lib/python3.7/dist-packages/sklearn/neural_network/_multilayer_perceptron.py:696: ConvergenceWarning:\n",
            "\n",
            "Stochastic Optimizer: Maximum iterations (250) reached and the optimization hasn't converged yet.\n",
            "\n"
          ]
        },
        {
          "output_type": "stream",
          "name": "stdout",
          "text": [
            "Model Number: 77 with model SectionalMotif in generation 0 of 10\n",
            "Template Eval Error: ValueError(\"regression_type=='User' but no future_regressor supplied\") in model 77: SectionalMotif\n",
            "Model Number: 78 with model FBProphet in generation 0 of 10\n"
          ]
        },
        {
          "output_type": "stream",
          "name": "stderr",
          "text": [
            "INFO:fbprophet:Disabling yearly seasonality. Run prophet with yearly_seasonality=True to override this.\n",
            "INFO:fbprophet:Disabling daily seasonality. Run prophet with daily_seasonality=True to override this.\n"
          ]
        },
        {
          "output_type": "stream",
          "name": "stdout",
          "text": [
            "Model Number: 79 with model DatepartRegression in generation 0 of 10\n",
            "Template Eval Error: ValueError(\"regression_type='User' but no future_regressor passed\") in model 79: DatepartRegression\n",
            "Model Number: 80 with model SeasonalNaive in generation 0 of 10\n",
            "Model Number: 81 with model VAR in generation 0 of 10\n",
            "Template Eval Error: ValueError('Only gave one variable to VAR') in model 81: VAR\n",
            "Model Number: 82 with model ZeroesNaive in generation 0 of 10\n",
            "Model Number: 83 with model LastValueNaive in generation 0 of 10\n",
            "Model Number: 84 with model SectionalMotif in generation 0 of 10\n",
            "Model Number: 85 with model VECM in generation 0 of 10\n",
            "Template Eval Error: ValueError('Only gave one variable to VECM') in model 85: VECM\n",
            "Model Number: 86 with model SectionalMotif in generation 0 of 10\n",
            "Template Eval Error: ImportError(\"cannot import name 'STL' from 'statsmodels.tsa.seasonal' (/usr/local/lib/python3.7/dist-packages/statsmodels/tsa/seasonal.py)\") in model 86: SectionalMotif\n",
            "Model Number: 87 with model ZeroesNaive in generation 0 of 10\n",
            "Model Number: 88 with model GLM in generation 0 of 10\n",
            "Model Number: 89 with model AverageValueNaive in generation 0 of 10\n"
          ]
        },
        {
          "output_type": "stream",
          "name": "stderr",
          "text": [
            "/usr/local/lib/python3.7/dist-packages/statsmodels/genmod/families/family.py:1440: RuntimeWarning:\n",
            "\n",
            "invalid value encountered in log\n",
            "\n"
          ]
        },
        {
          "output_type": "stream",
          "name": "stdout",
          "text": [
            "Model Number: 90 with model UnobservedComponents in generation 0 of 10\n",
            "Model Number: 91 with model VAR in generation 0 of 10\n",
            "Template Eval Error: IndexError('tuple index out of range') in model 91: VAR\n",
            "Model Number: 92 with model AverageValueNaive in generation 0 of 10\n",
            "Model Number: 93 with model VAR in generation 0 of 10\n",
            "Template Eval Error: ImportError(\"cannot import name 'STL' from 'statsmodels.tsa.seasonal' (/usr/local/lib/python3.7/dist-packages/statsmodels/tsa/seasonal.py)\") in model 93: VAR\n",
            "Model Number: 94 with model DatepartRegression in generation 0 of 10\n",
            "Model Number: 95 with model AverageValueNaive in generation 0 of 10\n",
            "Model Number: 96 with model SeasonalNaive in generation 0 of 10\n"
          ]
        },
        {
          "output_type": "stream",
          "name": "stderr",
          "text": [
            "/usr/local/lib/python3.7/dist-packages/sklearn/svm/_base.py:1208: ConvergenceWarning:\n",
            "\n",
            "Liblinear failed to converge, increase the number of iterations.\n",
            "\n"
          ]
        },
        {
          "output_type": "stream",
          "name": "stdout",
          "text": [
            "Model Number: 97 with model UnobservedComponents in generation 0 of 10\n",
            "Model Number: 98 with model MultivariateMotif in generation 0 of 10\n",
            "Template Eval Error: AttributeError(\"module 'numpy.lib.stride_tricks' has no attribute 'sliding_window_view'\") in model 98: MultivariateMotif\n",
            "Model Number: 99 with model UnobservedComponents in generation 0 of 10\n",
            "Template Eval Error: ValueError('Provided exogenous values are not of the appropriate shape. Required (10, 1), got (10,).') in model 99: UnobservedComponents\n",
            "Model Number: 100 with model VAR in generation 0 of 10\n",
            "Template Eval Error: ValueError('Only gave one variable to VAR') in model 100: VAR\n",
            "Model Number: 101 with model VECM in generation 0 of 10\n",
            "Template Eval Error: ImportError(\"cannot import name 'STL' from 'statsmodels.tsa.seasonal' (/usr/local/lib/python3.7/dist-packages/statsmodels/tsa/seasonal.py)\") in model 101: VECM\n",
            "Model Number: 102 with model WindowRegression in generation 0 of 10\n",
            "Template Eval Error: ValueError(\"regression_type='User' but no future_regressor passed\") in model 102: WindowRegression\n",
            "Model Number: 103 with model DatepartRegression in generation 0 of 10\n",
            "Template Eval Error: ValueError('Model DatepartRegression returned NaN for one or more series') in model 103: DatepartRegression\n",
            "Model Number: 104 with model LastValueNaive in generation 0 of 10\n",
            "Model Number: 105 with model GluonTS in generation 0 of 10\n",
            "Template Eval Error: ImportError('GluonTS installation not found or installed version is incompatible with AutoTS.') in model 105: GluonTS\n",
            "Model Number: 106 with model ZeroesNaive in generation 0 of 10\n"
          ]
        },
        {
          "output_type": "stream",
          "name": "stderr",
          "text": [
            "/usr/local/lib/python3.7/dist-packages/sklearn/neighbors/_regression.py:470: UserWarning:\n",
            "\n",
            "One or more samples have no neighbors within specified radius; predicting NaN.\n",
            "\n"
          ]
        },
        {
          "output_type": "stream",
          "name": "stdout",
          "text": [
            "Model Number: 107 with model UnivariateMotif in generation 0 of 10\n",
            "Template Eval Error: AttributeError(\"module 'numpy.lib.stride_tricks' has no attribute 'sliding_window_view'\") in model 107: UnivariateMotif\n",
            "Model Number: 108 with model GluonTS in generation 0 of 10\n",
            "Template Eval Error: ImportError('GluonTS installation not found or installed version is incompatible with AutoTS.') in model 108: GluonTS\n",
            "Model Number: 109 with model GLS in generation 0 of 10\n",
            "Model Number: 110 with model GLM in generation 0 of 10\n",
            "Model Number: 111 with model NVAR in generation 0 of 10\n",
            "Model Number: 112 with model SectionalMotif in generation 0 of 10\n",
            "Model Number: 113 with model ETS in generation 0 of 10\n",
            "Model Number: 114 with model AverageValueNaive in generation 0 of 10\n",
            "Model Number: 115 with model VECM in generation 0 of 10\n",
            "Template Eval Error: ValueError(\"regression_type='User' but no future_regressor supplied\") in model 115: VECM\n",
            "Model Number: 116 with model VECM in generation 0 of 10\n",
            "Template Eval Error: ValueError('Only gave one variable to VECM') in model 116: VECM\n",
            "Model Number: 117 with model VAR in generation 0 of 10\n",
            "Template Eval Error: ValueError('Only gave one variable to VAR') in model 117: VAR\n",
            "Model Number: 118 with model GluonTS in generation 0 of 10\n",
            "Template Eval Error: ImportError('GluonTS installation not found or installed version is incompatible with AutoTS.') in model 118: GluonTS\n",
            "Model Number: 119 with model Theta in generation 0 of 10\n",
            "Template Eval Error: ModuleNotFoundError(\"No module named 'statsmodels.tsa.forecasting'\") in model 119: Theta\n",
            "Model Number: 120 with model FBProphet in generation 0 of 10\n",
            "Template Eval Error: ValueError(\"regression_type='User' but no future_regressor passed\") in model 120: FBProphet\n",
            "Model Number: 121 with model AverageValueNaive in generation 0 of 10\n",
            "Model Number: 122 with model ETS in generation 0 of 10\n",
            "Model Number: 123 with model ETS in generation 0 of 10\n",
            "Model Number: 124 with model GLM in generation 0 of 10\n"
          ]
        },
        {
          "output_type": "stream",
          "name": "stderr",
          "text": [
            "/usr/local/lib/python3.7/dist-packages/statsmodels/genmod/families/family.py:1440: RuntimeWarning:\n",
            "\n",
            "invalid value encountered in log\n",
            "\n"
          ]
        },
        {
          "output_type": "stream",
          "name": "stdout",
          "text": [
            "Model Number: 125 with model SeasonalNaive in generation 0 of 10\n",
            "Model Number: 126 with model GluonTS in generation 0 of 10\n",
            "Template Eval Error: ImportError(\"cannot import name 'STL' from 'statsmodels.tsa.seasonal' (/usr/local/lib/python3.7/dist-packages/statsmodels/tsa/seasonal.py)\") in model 126: GluonTS\n",
            "Model Number: 127 with model UnivariateMotif in generation 0 of 10\n",
            "Template Eval Error: AttributeError(\"module 'numpy.lib.stride_tricks' has no attribute 'sliding_window_view'\") in model 127: UnivariateMotif\n",
            "Model Number: 128 with model FBProphet in generation 0 of 10\n",
            "Template Eval Error: ValueError(\"regression_type='User' but no future_regressor passed\") in model 128: FBProphet\n",
            "Model Number: 129 with model SectionalMotif in generation 0 of 10\n",
            "Model Number: 130 with model GLS in generation 0 of 10\n",
            "Template Eval Error: ImportError(\"cannot import name 'STL' from 'statsmodels.tsa.seasonal' (/usr/local/lib/python3.7/dist-packages/statsmodels/tsa/seasonal.py)\") in model 130: GLS\n",
            "Model Number: 131 with model MultivariateMotif in generation 0 of 10\n",
            "Template Eval Error: AttributeError(\"module 'numpy.lib.stride_tricks' has no attribute 'sliding_window_view'\") in model 131: MultivariateMotif\n",
            "Model Number: 132 with model SectionalMotif in generation 0 of 10\n",
            "Model Number: 133 with model SeasonalNaive in generation 0 of 10\n",
            "Model Number: 134 with model WindowRegression in generation 0 of 10\n"
          ]
        },
        {
          "output_type": "stream",
          "name": "stderr",
          "text": [
            "INFO:fbprophet:Disabling yearly seasonality. Run prophet with yearly_seasonality=True to override this.\n",
            "INFO:fbprophet:Disabling daily seasonality. Run prophet with daily_seasonality=True to override this.\n"
          ]
        },
        {
          "output_type": "stream",
          "name": "stdout",
          "text": [
            "Model Number: 135 with model FBProphet in generation 0 of 10\n",
            "Model Number: 136 with model GLM in generation 0 of 10\n",
            "Model Number: 137 with model Theta in generation 0 of 10\n",
            "Template Eval Error: ModuleNotFoundError(\"No module named 'statsmodels.tsa.forecasting'\") in model 137: Theta\n",
            "Model Number: 138 with model MultivariateMotif in generation 0 of 10\n",
            "Template Eval Error: ImportError(\"cannot import name 'STL' from 'statsmodels.tsa.seasonal' (/usr/local/lib/python3.7/dist-packages/statsmodels/tsa/seasonal.py)\") in model 138: MultivariateMotif\n",
            "Model Number: 139 with model ARDL in generation 0 of 10\n",
            "Template Eval Error: ImportError(\"cannot import name 'ARDL' from 'statsmodels.tsa.api' (/usr/local/lib/python3.7/dist-packages/statsmodels/tsa/api.py)\") in model 139: ARDL\n",
            "New Generation: 1 of 10\n",
            "Model Number: 140 with model NVAR in generation 1 of 10\n",
            "Model Number: 141 with model NVAR in generation 1 of 10\n",
            "Model Number: 142 with model NVAR in generation 1 of 10\n",
            "Model Number: 143 with model NVAR in generation 1 of 10\n"
          ]
        },
        {
          "output_type": "stream",
          "name": "stderr",
          "text": [
            "INFO:fbprophet:Disabling yearly seasonality. Run prophet with yearly_seasonality=True to override this.\n"
          ]
        },
        {
          "output_type": "stream",
          "name": "stdout",
          "text": [
            "Model Number: 144 with model FBProphet in generation 1 of 10\n"
          ]
        },
        {
          "output_type": "stream",
          "name": "stderr",
          "text": [
            "INFO:fbprophet:Disabling daily seasonality. Run prophet with daily_seasonality=True to override this.\n",
            "INFO:fbprophet:Disabling yearly seasonality. Run prophet with yearly_seasonality=True to override this.\n",
            "INFO:fbprophet:Disabling daily seasonality. Run prophet with daily_seasonality=True to override this.\n"
          ]
        },
        {
          "output_type": "stream",
          "name": "stdout",
          "text": [
            "Model Number: 145 with model FBProphet in generation 1 of 10\n",
            "Template Eval Error: ValueError(\"regression_type='User' but no future_regressor passed\") in model 145: FBProphet\n",
            "Model Number: 146 with model FBProphet in generation 1 of 10\n"
          ]
        },
        {
          "output_type": "stream",
          "name": "stderr",
          "text": [
            "INFO:fbprophet:Disabling yearly seasonality. Run prophet with yearly_seasonality=True to override this.\n",
            "INFO:fbprophet:Disabling daily seasonality. Run prophet with daily_seasonality=True to override this.\n"
          ]
        },
        {
          "output_type": "stream",
          "name": "stdout",
          "text": [
            "Model Number: 147 with model FBProphet in generation 1 of 10\n",
            "Model Number: 148 with model SectionalMotif in generation 1 of 10\n",
            "Model Number: 149 with model SectionalMotif in generation 1 of 10\n",
            "Template Eval Error: ValueError('kth(=20) out of bounds (17)') in model 149: SectionalMotif\n",
            "Model Number: 150 with model SectionalMotif in generation 1 of 10\n",
            "Template Eval Error: ValueError('kth(=20) out of bounds (16)') in model 150: SectionalMotif\n",
            "Model Number: 151 with model SectionalMotif in generation 1 of 10\n",
            "Model Number: 152 with model DatepartRegression in generation 1 of 10\n"
          ]
        },
        {
          "output_type": "stream",
          "name": "stderr",
          "text": [
            "[Parallel(n_jobs=1)]: Using backend SequentialBackend with 1 concurrent workers.\n",
            "[Parallel(n_jobs=1)]: Done 300 out of 300 | elapsed:    0.3s finished\n",
            "[Parallel(n_jobs=1)]: Using backend SequentialBackend with 1 concurrent workers.\n",
            "[Parallel(n_jobs=1)]: Done 300 out of 300 | elapsed:    0.0s finished\n"
          ]
        },
        {
          "output_type": "stream",
          "name": "stdout",
          "text": [
            "Model Number: 153 with model DatepartRegression in generation 1 of 10\n",
            "Epoch 1/50\n",
            "Template Eval Error: TypeError('in user code:\\n\\n    File \"/usr/local/lib/python3.7/dist-packages/keras/engine/training.py\", line 878, in train_function  *\\n        return step_function(self, iterator)\\n    File \"/usr/local/lib/python3.7/dist-packages/keras/engine/training.py\", line 867, in step_function  **\\n        outputs = model.distribute_strategy.run(run_step, args=(data,))\\n    File \"/usr/local/lib/python3.7/dist-packages/keras/engine/training.py\", line 860, in run_step  **\\n        outputs = model.train_step(data)\\n    File \"/usr/local/lib/python3.7/dist-packages/keras/engine/training.py\", line 808, in train_step\\n        y_pred = self(x, training=True)\\n    File \"/usr/local/lib/python3.7/dist-packages/keras/utils/traceback_utils.py\", line 67, in error_handler\\n        raise e.with_traceback(filtered_tb) from None\\n    File \"/usr/local/lib/python3.7/dist-packages/keras/backend.py\", line 2134, in dot\\n        out = tf.matmul(x, y)\\n\\n    TypeError: Exception encountered when calling layer \"forward_lstm\" (type LSTM).\\n    \\n    Input \\'b\\' of \\'MatMul\\' Op has type float32 that does not match type int64 of argument \\'a\\'.\\n    \\n    Call arguments received:\\n      • inputs=tf.Tensor(shape=(None, 1, 7), dtype=int64)\\n      • mask=None\\n      • training=True\\n      • initial_state=None\\n') in model 153: DatepartRegression\n",
            "Model Number: 154 with model DatepartRegression in generation 1 of 10\n",
            "Epoch 1/50\n",
            "5/5 [==============================] - 5s 247ms/step - loss: 16067943.0000 - val_loss: 950.2119\n",
            "Epoch 2/50\n",
            "5/5 [==============================] - 1s 115ms/step - loss: 1265270.6250 - val_loss: 960.6854\n",
            "Epoch 3/50\n",
            "5/5 [==============================] - 1s 114ms/step - loss: 10716547.0000 - val_loss: 945.2991\n",
            "Epoch 4/50\n",
            "5/5 [==============================] - 1s 114ms/step - loss: 12361098.0000 - val_loss: 932.1106\n",
            "Epoch 5/50\n",
            "5/5 [==============================] - 1s 124ms/step - loss: 1711154.7500 - val_loss: 922.4699\n",
            "Epoch 6/50\n",
            "5/5 [==============================] - 1s 116ms/step - loss: 3639010.5000 - val_loss: 916.5488\n",
            "Epoch 7/50\n",
            "5/5 [==============================] - 1s 115ms/step - loss: 4435203.0000 - val_loss: 921.3048\n",
            "Epoch 8/50\n",
            "5/5 [==============================] - 1s 114ms/step - loss: 5296590.0000 - val_loss: 925.3164\n",
            "Epoch 9/50\n",
            "5/5 [==============================] - 1s 116ms/step - loss: 9086459.0000 - val_loss: 918.2964\n",
            "Epoch 10/50\n",
            "5/5 [==============================] - 1s 115ms/step - loss: 6625648.5000 - val_loss: 909.2186\n",
            "Epoch 11/50\n",
            "5/5 [==============================] - 1s 116ms/step - loss: 8003275.0000 - val_loss: 901.3589\n",
            "Epoch 12/50\n",
            "5/5 [==============================] - 1s 118ms/step - loss: 7002589.0000 - val_loss: 893.4967\n",
            "Epoch 13/50\n",
            "5/5 [==============================] - 1s 113ms/step - loss: 10394414.0000 - val_loss: 886.7593\n",
            "Epoch 14/50\n",
            "5/5 [==============================] - 1s 118ms/step - loss: 3370817.2500 - val_loss: 889.9529\n",
            "Epoch 15/50\n",
            "5/5 [==============================] - 1s 116ms/step - loss: 4568166.5000 - val_loss: 893.6968\n",
            "Epoch 16/50\n",
            "5/5 [==============================] - 1s 115ms/step - loss: 8626488.0000 - val_loss: 896.0324\n",
            "Epoch 17/50\n",
            "5/5 [==============================] - 1s 116ms/step - loss: 8632067.0000 - val_loss: 887.8254\n",
            "Epoch 18/50\n",
            "5/5 [==============================] - 1s 113ms/step - loss: 5756595.0000 - val_loss: 881.7402\n",
            "Epoch 19/50\n",
            "5/5 [==============================] - 1s 117ms/step - loss: 2358094.0000 - val_loss: 885.5724\n",
            "Epoch 20/50\n",
            "5/5 [==============================] - 1s 117ms/step - loss: 5856463.0000 - val_loss: 877.2990\n",
            "Epoch 21/50\n",
            "5/5 [==============================] - 1s 115ms/step - loss: 2411593.2500 - val_loss: 881.4684\n",
            "Epoch 22/50\n",
            "5/5 [==============================] - 1s 115ms/step - loss: 5468535.5000 - val_loss: 876.0057\n",
            "Epoch 23/50\n",
            "5/5 [==============================] - 1s 117ms/step - loss: 6766646.5000 - val_loss: 879.3124\n",
            "Epoch 24/50\n",
            "5/5 [==============================] - 1s 119ms/step - loss: 8789786.0000 - val_loss: 873.9062\n",
            "Epoch 25/50\n",
            "5/5 [==============================] - 1s 117ms/step - loss: 12643645.0000 - val_loss: 869.4605\n",
            "Epoch 26/50\n",
            "5/5 [==============================] - 1s 114ms/step - loss: 23614478.0000 - val_loss: 870.5311\n",
            "Epoch 27/50\n",
            "5/5 [==============================] - 1s 116ms/step - loss: 2184639.7500 - val_loss: 866.7243\n",
            "Epoch 28/50\n",
            "5/5 [==============================] - 1s 118ms/step - loss: 8636257.0000 - val_loss: 861.3391\n",
            "Epoch 29/50\n",
            "5/5 [==============================] - 1s 115ms/step - loss: 11462696.0000 - val_loss: 857.6154\n",
            "Epoch 30/50\n",
            "5/5 [==============================] - 1s 116ms/step - loss: 569168.5000 - val_loss: 853.2485\n",
            "Epoch 31/50\n",
            "5/5 [==============================] - 1s 115ms/step - loss: 8629005.0000 - val_loss: 849.2296\n",
            "Epoch 32/50\n",
            "5/5 [==============================] - 1s 114ms/step - loss: 2242147.5000 - val_loss: 851.7092\n",
            "Epoch 33/50\n",
            "5/5 [==============================] - 1s 117ms/step - loss: 19181484.0000 - val_loss: 847.4014\n",
            "Epoch 34/50\n",
            "5/5 [==============================] - 1s 117ms/step - loss: 5012343.5000 - val_loss: 850.1447\n",
            "Epoch 35/50\n",
            "5/5 [==============================] - 1s 115ms/step - loss: 3687713.7500 - val_loss: 853.1190\n",
            "Epoch 36/50\n",
            "5/5 [==============================] - 1s 115ms/step - loss: 8184873.5000 - val_loss: 856.1331\n",
            "Epoch 37/50\n",
            "5/5 [==============================] - 1s 116ms/step - loss: 16811856.0000 - val_loss: 857.4876\n",
            "Epoch 38/50\n",
            "5/5 [==============================] - 1s 114ms/step - loss: 12188537.0000 - val_loss: 859.1608\n",
            "Epoch 39/50\n",
            "5/5 [==============================] - 1s 112ms/step - loss: 10973477.0000 - val_loss: 855.8493\n",
            "Epoch 40/50\n",
            "5/5 [==============================] - 1s 113ms/step - loss: 3722325.0000 - val_loss: 858.0477\n",
            "Epoch 41/50\n",
            "5/5 [==============================] - 1s 115ms/step - loss: 6814743.5000 - val_loss: 854.4476\n",
            "Epoch 42/50\n",
            "5/5 [==============================] - 1s 112ms/step - loss: 3396468.2500 - val_loss: 850.6416\n",
            "Epoch 43/50\n",
            "5/5 [==============================] - 1s 117ms/step - loss: 4260489.5000 - val_loss: 847.7059\n",
            "Model Number: 155 with model LastValueNaive in generation 1 of 10\n",
            "Model Number: 156 with model LastValueNaive in generation 1 of 10\n",
            "Model Number: 157 with model LastValueNaive in generation 1 of 10\n",
            "Model Number: 158 with model UnobservedComponents in generation 1 of 10\n",
            "Model Number: 159 with model UnobservedComponents in generation 1 of 10\n",
            "Model Number: 160 with model UnobservedComponents in generation 1 of 10\n",
            "Template Eval Error: ValueError(\"regression_type='User' but no future_regressor supplied\") in model 160: UnobservedComponents\n",
            "Model Number: 161 with model WindowRegression in generation 1 of 10\n",
            "Model Number: 162 with model WindowRegression in generation 1 of 10\n",
            "Model Number: 163 with model WindowRegression in generation 1 of 10\n",
            "Model Number: 164 with model SeasonalNaive in generation 1 of 10\n",
            "Model Number: 165 with model SeasonalNaive in generation 1 of 10\n",
            "Model Number: 166 with model SeasonalNaive in generation 1 of 10\n",
            "Model Number: 167 with model SeasonalNaive in generation 1 of 10\n",
            "Model Number: 168 with model ZeroesNaive in generation 1 of 10\n",
            "Model Number: 169 with model ZeroesNaive in generation 1 of 10\n",
            "Model Number: 170 with model ZeroesNaive in generation 1 of 10\n",
            "Template Eval Error: ImportError(\"cannot import name 'STL' from 'statsmodels.tsa.seasonal' (/usr/local/lib/python3.7/dist-packages/statsmodels/tsa/seasonal.py)\") in model 170: ZeroesNaive\n",
            "Model Number: 171 with model GLM in generation 1 of 10\n",
            "Model Number: 172 with model GLM in generation 1 of 10\n",
            "Model Number: 173 with model GLM in generation 1 of 10\n",
            "Template Eval Error: ValueError('The first guess on the deviance function returned a nan.  This could be a boundary  problem and should be reported.') in model 173: GLM\n",
            "Model Number: 174 with model GLM in generation 1 of 10\n",
            "Model Number: 175 with model ETS in generation 1 of 10\n"
          ]
        },
        {
          "output_type": "stream",
          "name": "stderr",
          "text": [
            "/usr/local/lib/python3.7/dist-packages/statsmodels/genmod/families/family.py:1440: RuntimeWarning:\n",
            "\n",
            "invalid value encountered in log\n",
            "\n"
          ]
        },
        {
          "output_type": "stream",
          "name": "stdout",
          "text": [
            "Model Number: 176 with model ETS in generation 1 of 10\n",
            "Model Number: 177 with model ETS in generation 1 of 10\n",
            "Model Number: 178 with model ETS in generation 1 of 10\n",
            "Model Number: 179 with model AverageValueNaive in generation 1 of 10\n",
            "Model Number: 180 with model AverageValueNaive in generation 1 of 10\n",
            "Model Number: 181 with model AverageValueNaive in generation 1 of 10\n",
            "Model Number: 182 with model GLS in generation 1 of 10\n",
            "Model Number: 183 with model GLS in generation 1 of 10\n",
            "Model Number: 184 with model GLS in generation 1 of 10\n",
            "Model Number: 185 with model GluonTS in generation 1 of 10\n",
            "Template Eval Error: ImportError('GluonTS installation not found or installed version is incompatible with AutoTS.') in model 185: GluonTS\n",
            "Model Number: 186 with model GluonTS in generation 1 of 10\n",
            "Template Eval Error: ImportError('GluonTS installation not found or installed version is incompatible with AutoTS.') in model 186: GluonTS\n",
            "Model Number: 187 with model GluonTS in generation 1 of 10\n",
            "Template Eval Error: ImportError('GluonTS installation not found or installed version is incompatible with AutoTS.') in model 187: GluonTS\n",
            "Model Number: 188 with model GluonTS in generation 1 of 10\n",
            "Template Eval Error: ImportError('GluonTS installation not found or installed version is incompatible with AutoTS.') in model 188: GluonTS\n",
            "Model Number: 189 with model VAR in generation 1 of 10\n",
            "Template Eval Error: ValueError('Only gave one variable to VAR') in model 189: VAR\n",
            "Model Number: 190 with model VAR in generation 1 of 10\n",
            "Template Eval Error: ValueError('Only gave one variable to VAR') in model 190: VAR\n",
            "Model Number: 191 with model VAR in generation 1 of 10\n",
            "Template Eval Error: ValueError('Only gave one variable to VAR') in model 191: VAR\n",
            "Model Number: 192 with model VAR in generation 1 of 10\n",
            "Template Eval Error: ValueError('Only gave one variable to VAR') in model 192: VAR\n",
            "Model Number: 193 with model VECM in generation 1 of 10\n",
            "Template Eval Error: ValueError('Only gave one variable to VECM') in model 193: VECM\n",
            "Model Number: 194 with model VECM in generation 1 of 10\n",
            "Template Eval Error: ValueError('Only gave one variable to VECM') in model 194: VECM\n",
            "Model Number: 195 with model VECM in generation 1 of 10\n",
            "Template Eval Error: ValueError('Only gave one variable to VECM') in model 195: VECM\n",
            "Model Number: 196 with model VECM in generation 1 of 10\n",
            "Template Eval Error: ValueError('Only gave one variable to VECM') in model 196: VECM\n",
            "Model Number: 197 with model UnivariateMotif in generation 1 of 10\n",
            "Template Eval Error: AttributeError(\"module 'numpy.lib.stride_tricks' has no attribute 'sliding_window_view'\") in model 197: UnivariateMotif\n",
            "Model Number: 198 with model UnivariateMotif in generation 1 of 10\n",
            "Template Eval Error: AttributeError(\"module 'numpy.lib.stride_tricks' has no attribute 'sliding_window_view'\") in model 198: UnivariateMotif\n",
            "Model Number: 199 with model UnivariateMotif in generation 1 of 10\n",
            "Template Eval Error: AttributeError(\"module 'numpy.lib.stride_tricks' has no attribute 'sliding_window_view'\") in model 199: UnivariateMotif\n",
            "Model Number: 200 with model UnivariateMotif in generation 1 of 10\n",
            "Template Eval Error: AttributeError(\"module 'numpy.lib.stride_tricks' has no attribute 'sliding_window_view'\") in model 200: UnivariateMotif\n",
            "Model Number: 201 with model MultivariateMotif in generation 1 of 10\n",
            "Template Eval Error: AttributeError(\"module 'numpy.lib.stride_tricks' has no attribute 'sliding_window_view'\") in model 201: MultivariateMotif\n",
            "Model Number: 202 with model MultivariateMotif in generation 1 of 10\n",
            "Template Eval Error: AttributeError(\"module 'numpy.lib.stride_tricks' has no attribute 'sliding_window_view'\") in model 202: MultivariateMotif\n",
            "Model Number: 203 with model MultivariateMotif in generation 1 of 10\n",
            "Template Eval Error: AttributeError(\"module 'numpy.lib.stride_tricks' has no attribute 'sliding_window_view'\") in model 203: MultivariateMotif\n",
            "Model Number: 204 with model MultivariateMotif in generation 1 of 10\n",
            "Template Eval Error: AttributeError(\"module 'numpy.lib.stride_tricks' has no attribute 'sliding_window_view'\") in model 204: MultivariateMotif\n",
            "Model Number: 205 with model Theta in generation 1 of 10\n",
            "Template Eval Error: ModuleNotFoundError(\"No module named 'statsmodels.tsa.forecasting'\") in model 205: Theta\n",
            "Model Number: 206 with model Theta in generation 1 of 10\n",
            "Template Eval Error: ModuleNotFoundError(\"No module named 'statsmodels.tsa.forecasting'\") in model 206: Theta\n",
            "Model Number: 207 with model Theta in generation 1 of 10\n",
            "Template Eval Error: ModuleNotFoundError(\"No module named 'statsmodels.tsa.forecasting'\") in model 207: Theta\n",
            "Model Number: 208 with model Theta in generation 1 of 10\n",
            "Template Eval Error: ModuleNotFoundError(\"No module named 'statsmodels.tsa.forecasting'\") in model 208: Theta\n",
            "Model Number: 209 with model ARDL in generation 1 of 10\n",
            "Template Eval Error: ImportError(\"cannot import name 'ARDL' from 'statsmodels.tsa.api' (/usr/local/lib/python3.7/dist-packages/statsmodels/tsa/api.py)\") in model 209: ARDL\n",
            "Model Number: 210 with model ARDL in generation 1 of 10\n",
            "Template Eval Error: ValueError(\"regression_type='User' but future_regressor not supplied\") in model 210: ARDL\n",
            "Model Number: 211 with model ARDL in generation 1 of 10\n",
            "Template Eval Error: ImportError(\"cannot import name 'ARDL' from 'statsmodels.tsa.api' (/usr/local/lib/python3.7/dist-packages/statsmodels/tsa/api.py)\") in model 211: ARDL\n",
            "Model Number: 212 with model ARDL in generation 1 of 10\n",
            "Template Eval Error: ImportError(\"cannot import name 'ARDL' from 'statsmodels.tsa.api' (/usr/local/lib/python3.7/dist-packages/statsmodels/tsa/api.py)\") in model 212: ARDL\n",
            "New Generation: 2 of 10\n",
            "Model Number: 213 with model NVAR in generation 2 of 10\n",
            "Model Number: 214 with model NVAR in generation 2 of 10\n",
            "Model Number: 215 with model NVAR in generation 2 of 10\n",
            "Model Number: 216 with model NVAR in generation 2 of 10\n",
            "Model Number: 217 with model FBProphet in generation 2 of 10\n"
          ]
        },
        {
          "output_type": "stream",
          "name": "stderr",
          "text": [
            "INFO:fbprophet:Disabling yearly seasonality. Run prophet with yearly_seasonality=True to override this.\n",
            "INFO:fbprophet:Disabling daily seasonality. Run prophet with daily_seasonality=True to override this.\n",
            "INFO:fbprophet:Disabling yearly seasonality. Run prophet with yearly_seasonality=True to override this.\n",
            "INFO:fbprophet:Disabling daily seasonality. Run prophet with daily_seasonality=True to override this.\n"
          ]
        },
        {
          "output_type": "stream",
          "name": "stdout",
          "text": [
            "Model Number: 218 with model FBProphet in generation 2 of 10\n"
          ]
        },
        {
          "output_type": "stream",
          "name": "stderr",
          "text": [
            "INFO:fbprophet:Disabling yearly seasonality. Run prophet with yearly_seasonality=True to override this.\n",
            "INFO:fbprophet:Disabling daily seasonality. Run prophet with daily_seasonality=True to override this.\n"
          ]
        },
        {
          "output_type": "stream",
          "name": "stdout",
          "text": [
            "Model Number: 219 with model FBProphet in generation 2 of 10\n"
          ]
        },
        {
          "output_type": "stream",
          "name": "stderr",
          "text": [
            "INFO:fbprophet:Disabling yearly seasonality. Run prophet with yearly_seasonality=True to override this.\n",
            "INFO:fbprophet:Disabling daily seasonality. Run prophet with daily_seasonality=True to override this.\n"
          ]
        },
        {
          "output_type": "stream",
          "name": "stdout",
          "text": [
            "Model Number: 220 with model FBProphet in generation 2 of 10\n",
            "Model Number: 221 with model SectionalMotif in generation 2 of 10\n",
            "Model Number: 222 with model SectionalMotif in generation 2 of 10\n",
            "Model Number: 223 with model SectionalMotif in generation 2 of 10\n",
            "Model Number: 224 with model SectionalMotif in generation 2 of 10\n",
            "Model Number: 225 with model DatepartRegression in generation 2 of 10\n",
            "Model Number: 226 with model DatepartRegression in generation 2 of 10\n",
            "Template Eval Error: ValueError(\"regression_type='User' but no future_regressor passed\") in model 226: DatepartRegression\n",
            "Model Number: 227 with model DatepartRegression in generation 2 of 10\n",
            "Epoch 1/50\n",
            "10/10 [==============================] - 6s 149ms/step - loss: 287199876058447872.0000 - val_loss: 274538879405522944.0000\n",
            "Epoch 2/50\n",
            "10/10 [==============================] - 1s 92ms/step - loss: 263717692123381760.0000 - val_loss: 252353741234110464.0000\n",
            "Epoch 3/50\n",
            "10/10 [==============================] - 1s 88ms/step - loss: 252288766968856576.0000 - val_loss: 230895071011012608.0000\n",
            "Epoch 4/50\n",
            "10/10 [==============================] - 1s 90ms/step - loss: 241386799941812224.0000 - val_loss: 209193803855167488.0000\n",
            "Epoch 5/50\n",
            "10/10 [==============================] - 1s 90ms/step - loss: 195991383624908800.0000 - val_loss: 189168467297959936.0000\n",
            "Epoch 6/50\n",
            "10/10 [==============================] - 1s 90ms/step - loss: 193397566975508480.0000 - val_loss: 170469674339794944.0000\n",
            "Epoch 7/50\n",
            "10/10 [==============================] - 1s 90ms/step - loss: 202981855216009216.0000 - val_loss: 151382049402388480.0000\n",
            "Epoch 8/50\n",
            "10/10 [==============================] - 1s 91ms/step - loss: 158115355531673600.0000 - val_loss: 133378749088399360.0000\n",
            "Epoch 9/50\n",
            "10/10 [==============================] - 1s 92ms/step - loss: 169001190661554176.0000 - val_loss: 116006233441304576.0000\n",
            "Epoch 10/50\n",
            "10/10 [==============================] - 1s 91ms/step - loss: 137672427894210560.0000 - val_loss: 99326401529774080.0000\n",
            "Epoch 11/50\n",
            "10/10 [==============================] - 1s 92ms/step - loss: 163112962297430016.0000 - val_loss: 85851731912556544.0000\n",
            "Epoch 12/50\n",
            "10/10 [==============================] - 1s 91ms/step - loss: 128311649751793664.0000 - val_loss: 74963070694195200.0000\n",
            "Epoch 13/50\n",
            "10/10 [==============================] - 1s 89ms/step - loss: 133023065666748416.0000 - val_loss: 63948777387458560.0000\n",
            "Epoch 14/50\n",
            "10/10 [==============================] - 1s 92ms/step - loss: 137374932689485824.0000 - val_loss: 54920807670874112.0000\n",
            "Epoch 15/50\n",
            "10/10 [==============================] - 1s 94ms/step - loss: 130766352410476544.0000 - val_loss: 46798156930744320.0000\n",
            "Epoch 16/50\n",
            "10/10 [==============================] - 1s 93ms/step - loss: 124708747716067328.0000 - val_loss: 39838742248161280.0000\n",
            "Epoch 17/50\n",
            "10/10 [==============================] - 1s 92ms/step - loss: 134298851342286848.0000 - val_loss: 33826333494607872.0000\n",
            "Epoch 18/50\n",
            "10/10 [==============================] - 1s 92ms/step - loss: 127506532362354688.0000 - val_loss: 26438635410685952.0000\n",
            "Epoch 19/50\n",
            "10/10 [==============================] - 1s 94ms/step - loss: 128812838075498496.0000 - val_loss: 18747491444850688.0000\n",
            "Epoch 20/50\n",
            "10/10 [==============================] - 1s 93ms/step - loss: 121818423704420352.0000 - val_loss: 15731503132573696.0000\n",
            "Epoch 21/50\n",
            "10/10 [==============================] - 1s 97ms/step - loss: 123459006722211840.0000 - val_loss: 16105407952977920.0000\n",
            "Epoch 22/50\n",
            "10/10 [==============================] - 1s 93ms/step - loss: 117909951925452800.0000 - val_loss: 14894463398707200.0000\n",
            "Epoch 23/50\n",
            "10/10 [==============================] - 1s 90ms/step - loss: 122363377744871424.0000 - val_loss: 14563887282126848.0000\n",
            "Epoch 24/50\n",
            "10/10 [==============================] - 1s 92ms/step - loss: 112928227948756992.0000 - val_loss: 14598351173451776.0000\n",
            "Epoch 25/50\n",
            "10/10 [==============================] - 1s 93ms/step - loss: 113719833371082752.0000 - val_loss: 13796795385643008.0000\n",
            "Epoch 26/50\n",
            "10/10 [==============================] - 1s 90ms/step - loss: 131701658848591872.0000 - val_loss: 10828310485401600.0000\n",
            "Epoch 27/50\n",
            "10/10 [==============================] - 1s 89ms/step - loss: 133455629002997760.0000 - val_loss: 10268724565114880.0000\n",
            "Epoch 28/50\n",
            "10/10 [==============================] - 1s 89ms/step - loss: 127293596473753600.0000 - val_loss: 9949889815379968.0000\n",
            "Epoch 29/50\n",
            "10/10 [==============================] - 1s 90ms/step - loss: 130654288123789312.0000 - val_loss: 8545103186493440.0000\n",
            "Epoch 30/50\n",
            "10/10 [==============================] - 1s 90ms/step - loss: 118573094875955200.0000 - val_loss: 5805294693122048.0000\n",
            "Epoch 31/50\n",
            "10/10 [==============================] - 1s 88ms/step - loss: 112986347446206464.0000 - val_loss: 155060080214016.0000\n",
            "Epoch 32/50\n",
            "10/10 [==============================] - 1s 89ms/step - loss: 109768807056146432.0000 - val_loss: 323807986319360.0000\n",
            "Epoch 33/50\n",
            "10/10 [==============================] - 1s 92ms/step - loss: 114269589184970752.0000 - val_loss: 68869121114112.0000\n",
            "Epoch 34/50\n",
            "10/10 [==============================] - 1s 91ms/step - loss: 113636425106194432.0000 - val_loss: 2964568695373824.0000\n",
            "Epoch 35/50\n",
            "10/10 [==============================] - 1s 90ms/step - loss: 121617642573266944.0000 - val_loss: 2639334712803328.0000\n",
            "Epoch 36/50\n",
            "10/10 [==============================] - 1s 92ms/step - loss: 116676660656340992.0000 - val_loss: 1989596623667200.0000\n",
            "Epoch 37/50\n",
            "10/10 [==============================] - 1s 92ms/step - loss: 113261620490141696.0000 - val_loss: 2733413555503104.0000\n",
            "Epoch 38/50\n",
            "10/10 [==============================] - 1s 90ms/step - loss: 117110718641209344.0000 - val_loss: 6282762986192896.0000\n",
            "Epoch 39/50\n",
            "10/10 [==============================] - 1s 88ms/step - loss: 115850214459310080.0000 - val_loss: 4190575163080704.0000\n",
            "Epoch 40/50\n",
            "10/10 [==============================] - 1s 89ms/step - loss: 109555003584151552.0000 - val_loss: 722051379757056.0000\n",
            "Epoch 41/50\n",
            "10/10 [==============================] - 1s 90ms/step - loss: 136875385043288064.0000 - val_loss: 1043406671314944.0000\n",
            "Epoch 42/50\n",
            "10/10 [==============================] - 1s 90ms/step - loss: 116356161606778880.0000 - val_loss: 1019402367533056.0000\n",
            "Epoch 43/50\n",
            "10/10 [==============================] - 1s 91ms/step - loss: 131767715445604352.0000 - val_loss: 1956280696569856.0000\n",
            "Model Number: 228 with model LastValueNaive in generation 2 of 10\n",
            "Model Number: 229 with model LastValueNaive in generation 2 of 10\n",
            "Model Number: 230 with model UnobservedComponents in generation 2 of 10\n",
            "Template Eval Error: ValueError(\"regression_type='User' but no future_regressor supplied\") in model 230: UnobservedComponents\n",
            "Model Number: 231 with model UnobservedComponents in generation 2 of 10\n",
            "Template Eval Error: ValueError(\"regression_type='User' but no future_regressor supplied\") in model 231: UnobservedComponents\n",
            "Model Number: 232 with model UnobservedComponents in generation 2 of 10\n",
            "Model Number: 233 with model SeasonalNaive in generation 2 of 10\n",
            "Model Number: 234 with model SeasonalNaive in generation 2 of 10\n",
            "Model Number: 235 with model SeasonalNaive in generation 2 of 10\n",
            "Model Number: 236 with model SeasonalNaive in generation 2 of 10\n",
            "Model Number: 237 with model WindowRegression in generation 2 of 10\n",
            "Template Eval Error: ValueError(\"regression_type='User' but no future_regressor passed\") in model 237: WindowRegression\n",
            "Model Number: 238 with model WindowRegression in generation 2 of 10\n",
            "Template Eval Error: ValueError(\"regression_type='User' but no future_regressor passed\") in model 238: WindowRegression\n",
            "Model Number: 239 with model WindowRegression in generation 2 of 10\n",
            "Template Eval Error: ValueError(\"loss='poisson' requires non-negative y and sum(y) > 0.\") in model 239: WindowRegression\n",
            "Model Number: 240 with model ZeroesNaive in generation 2 of 10\n",
            "Model Number: 241 with model ZeroesNaive in generation 2 of 10\n"
          ]
        },
        {
          "output_type": "stream",
          "name": "stderr",
          "text": [
            "/usr/local/lib/python3.7/dist-packages/sklearn/experimental/enable_hist_gradient_boosting.py:17: UserWarning:\n",
            "\n",
            "Since version 1.0, it is not needed to import enable_hist_gradient_boosting anymore. HistGradientBoostingClassifier and HistGradientBoostingRegressor are now stable and can be normally imported from sklearn.ensemble.\n",
            "\n"
          ]
        },
        {
          "output_type": "stream",
          "name": "stdout",
          "text": [
            "Model Number: 242 with model ZeroesNaive in generation 2 of 10\n",
            "Model Number: 243 with model ETS in generation 2 of 10\n",
            "Model Number: 244 with model ETS in generation 2 of 10\n",
            "Model Number: 245 with model ETS in generation 2 of 10\n",
            "Model Number: 246 with model GLM in generation 2 of 10\n",
            "Model Number: 247 with model GLM in generation 2 of 10\n",
            "Model Number: 248 with model GLM in generation 2 of 10\n"
          ]
        },
        {
          "output_type": "stream",
          "name": "stderr",
          "text": [
            "/usr/local/lib/python3.7/dist-packages/statsmodels/genmod/generalized_linear_model.py:273: DomainWarning:\n",
            "\n",
            "The inverse_power link function does not respect the domain of the Gamma family.\n",
            "\n",
            "/usr/local/lib/python3.7/dist-packages/statsmodels/genmod/generalized_linear_model.py:273: DomainWarning:\n",
            "\n",
            "The inverse_power link function does not respect the domain of the Gamma family.\n",
            "\n"
          ]
        },
        {
          "output_type": "stream",
          "name": "stdout",
          "text": [
            "Model Number: 249 with model GLM in generation 2 of 10\n",
            "Model Number: 250 with model AverageValueNaive in generation 2 of 10\n",
            "Model Number: 251 with model AverageValueNaive in generation 2 of 10\n",
            "Model Number: 252 with model AverageValueNaive in generation 2 of 10\n",
            "Model Number: 253 with model GLS in generation 2 of 10\n",
            "Model Number: 254 with model GLS in generation 2 of 10\n",
            "Model Number: 255 with model GLS in generation 2 of 10\n",
            "Model Number: 256 with model GluonTS in generation 2 of 10\n",
            "Template Eval Error: ImportError('GluonTS installation not found or installed version is incompatible with AutoTS.') in model 256: GluonTS\n",
            "Model Number: 257 with model GluonTS in generation 2 of 10\n",
            "Template Eval Error: ImportError('GluonTS installation not found or installed version is incompatible with AutoTS.') in model 257: GluonTS\n",
            "Model Number: 258 with model GluonTS in generation 2 of 10\n",
            "Template Eval Error: ImportError('GluonTS installation not found or installed version is incompatible with AutoTS.') in model 258: GluonTS\n",
            "Model Number: 259 with model GluonTS in generation 2 of 10\n",
            "Template Eval Error: ImportError('GluonTS installation not found or installed version is incompatible with AutoTS.') in model 259: GluonTS\n",
            "Model Number: 260 with model VAR in generation 2 of 10\n",
            "Template Eval Error: ValueError('Only gave one variable to VAR') in model 260: VAR\n",
            "Model Number: 261 with model VAR in generation 2 of 10\n",
            "Template Eval Error: ValueError('Only gave one variable to VAR') in model 261: VAR\n",
            "Model Number: 262 with model VAR in generation 2 of 10\n",
            "Template Eval Error: ValueError('Only gave one variable to VAR') in model 262: VAR\n",
            "Model Number: 263 with model VAR in generation 2 of 10\n",
            "Template Eval Error: ValueError('Only gave one variable to VAR') in model 263: VAR\n",
            "Model Number: 264 with model VECM in generation 2 of 10\n",
            "Template Eval Error: ValueError(\"regression_type='User' but no future_regressor supplied\") in model 264: VECM\n",
            "Model Number: 265 with model VECM in generation 2 of 10\n",
            "Template Eval Error: ValueError(\"regression_type='User' but no future_regressor supplied\") in model 265: VECM\n",
            "Model Number: 266 with model VECM in generation 2 of 10\n",
            "Template Eval Error: ValueError('Only gave one variable to VECM') in model 266: VECM\n",
            "Model Number: 267 with model VECM in generation 2 of 10\n",
            "Template Eval Error: ValueError('Only gave one variable to VECM') in model 267: VECM\n",
            "Model Number: 268 with model UnivariateMotif in generation 2 of 10\n",
            "Template Eval Error: AttributeError(\"module 'numpy.lib.stride_tricks' has no attribute 'sliding_window_view'\") in model 268: UnivariateMotif\n",
            "Model Number: 269 with model UnivariateMotif in generation 2 of 10\n",
            "Template Eval Error: AttributeError(\"module 'numpy.lib.stride_tricks' has no attribute 'sliding_window_view'\") in model 269: UnivariateMotif\n",
            "Model Number: 270 with model UnivariateMotif in generation 2 of 10\n",
            "Template Eval Error: AttributeError(\"module 'numpy.lib.stride_tricks' has no attribute 'sliding_window_view'\") in model 270: UnivariateMotif\n",
            "Model Number: 271 with model UnivariateMotif in generation 2 of 10\n",
            "Template Eval Error: AttributeError(\"module 'numpy.lib.stride_tricks' has no attribute 'sliding_window_view'\") in model 271: UnivariateMotif\n",
            "Model Number: 272 with model MultivariateMotif in generation 2 of 10\n",
            "Template Eval Error: AttributeError(\"module 'numpy.lib.stride_tricks' has no attribute 'sliding_window_view'\") in model 272: MultivariateMotif\n",
            "Model Number: 273 with model MultivariateMotif in generation 2 of 10\n",
            "Template Eval Error: AttributeError(\"module 'numpy.lib.stride_tricks' has no attribute 'sliding_window_view'\") in model 273: MultivariateMotif\n",
            "Model Number: 274 with model MultivariateMotif in generation 2 of 10\n",
            "Template Eval Error: AttributeError(\"module 'numpy.lib.stride_tricks' has no attribute 'sliding_window_view'\") in model 274: MultivariateMotif\n",
            "Model Number: 275 with model MultivariateMotif in generation 2 of 10\n",
            "Template Eval Error: AttributeError(\"module 'numpy.lib.stride_tricks' has no attribute 'sliding_window_view'\") in model 275: MultivariateMotif\n",
            "Model Number: 276 with model Theta in generation 2 of 10\n",
            "Template Eval Error: ModuleNotFoundError(\"No module named 'statsmodels.tsa.forecasting'\") in model 276: Theta\n",
            "Model Number: 277 with model Theta in generation 2 of 10\n",
            "Template Eval Error: ModuleNotFoundError(\"No module named 'statsmodels.tsa.forecasting'\") in model 277: Theta\n",
            "Model Number: 278 with model Theta in generation 2 of 10\n",
            "Template Eval Error: ModuleNotFoundError(\"No module named 'statsmodels.tsa.forecasting'\") in model 278: Theta\n",
            "Model Number: 279 with model Theta in generation 2 of 10\n",
            "Template Eval Error: ModuleNotFoundError(\"No module named 'statsmodels.tsa.forecasting'\") in model 279: Theta\n",
            "Model Number: 280 with model ARDL in generation 2 of 10\n",
            "Template Eval Error: ImportError(\"cannot import name 'ARDL' from 'statsmodels.tsa.api' (/usr/local/lib/python3.7/dist-packages/statsmodels/tsa/api.py)\") in model 280: ARDL\n",
            "Model Number: 281 with model ARDL in generation 2 of 10\n",
            "Template Eval Error: ImportError(\"cannot import name 'ARDL' from 'statsmodels.tsa.api' (/usr/local/lib/python3.7/dist-packages/statsmodels/tsa/api.py)\") in model 281: ARDL\n",
            "Model Number: 282 with model ARDL in generation 2 of 10\n",
            "Template Eval Error: ImportError(\"cannot import name 'ARDL' from 'statsmodels.tsa.api' (/usr/local/lib/python3.7/dist-packages/statsmodels/tsa/api.py)\") in model 282: ARDL\n",
            "Model Number: 283 with model ARDL in generation 2 of 10\n",
            "Template Eval Error: ImportError(\"cannot import name 'ARDL' from 'statsmodels.tsa.api' (/usr/local/lib/python3.7/dist-packages/statsmodels/tsa/api.py)\") in model 283: ARDL\n",
            "New Generation: 3 of 10\n",
            "Model Number: 284 with model SectionalMotif in generation 3 of 10\n",
            "Model Number: 285 with model SectionalMotif in generation 3 of 10\n",
            "Model Number: 286 with model SectionalMotif in generation 3 of 10\n",
            "Model Number: 287 with model SectionalMotif in generation 3 of 10\n",
            "Model Number: 288 with model NVAR in generation 3 of 10\n",
            "Model Number: 289 with model NVAR in generation 3 of 10\n",
            "Model Number: 290 with model NVAR in generation 3 of 10\n",
            "Model Number: 291 with model NVAR in generation 3 of 10\n",
            "Model Number: 292 with model AverageValueNaive in generation 3 of 10\n",
            "Model Number: 293 with model AverageValueNaive in generation 3 of 10\n",
            "Model Number: 294 with model AverageValueNaive in generation 3 of 10\n",
            "Model Number: 295 with model FBProphet in generation 3 of 10\n"
          ]
        },
        {
          "output_type": "stream",
          "name": "stderr",
          "text": [
            "INFO:fbprophet:Disabling yearly seasonality. Run prophet with yearly_seasonality=True to override this.\n",
            "INFO:fbprophet:Disabling daily seasonality. Run prophet with daily_seasonality=True to override this.\n",
            "INFO:fbprophet:Disabling yearly seasonality. Run prophet with yearly_seasonality=True to override this.\n",
            "INFO:fbprophet:Disabling daily seasonality. Run prophet with daily_seasonality=True to override this.\n"
          ]
        },
        {
          "output_type": "stream",
          "name": "stdout",
          "text": [
            "Model Number: 296 with model FBProphet in generation 3 of 10\n"
          ]
        },
        {
          "output_type": "stream",
          "name": "stderr",
          "text": [
            "INFO:fbprophet:Disabling yearly seasonality. Run prophet with yearly_seasonality=True to override this.\n",
            "INFO:fbprophet:Disabling daily seasonality. Run prophet with daily_seasonality=True to override this.\n"
          ]
        },
        {
          "output_type": "stream",
          "name": "stdout",
          "text": [
            "Model Number: 297 with model FBProphet in generation 3 of 10\n"
          ]
        },
        {
          "output_type": "stream",
          "name": "stderr",
          "text": [
            "INFO:fbprophet:Disabling yearly seasonality. Run prophet with yearly_seasonality=True to override this.\n",
            "INFO:fbprophet:Disabling daily seasonality. Run prophet with daily_seasonality=True to override this.\n"
          ]
        },
        {
          "output_type": "stream",
          "name": "stdout",
          "text": [
            "Model Number: 298 with model FBProphet in generation 3 of 10\n",
            "Model Number: 299 with model DatepartRegression in generation 3 of 10\n",
            "Template Eval Error: ValueError(\"regression_type='User' but no future_regressor passed\") in model 299: DatepartRegression\n",
            "Model Number: 300 with model DatepartRegression in generation 3 of 10\n",
            "Model Number: 301 with model DatepartRegression in generation 3 of 10\n",
            "Epoch 1/50\n",
            "Template Eval Error: TypeError('in user code:\\n\\n    File \"/usr/local/lib/python3.7/dist-packages/keras/engine/training.py\", line 878, in train_function  *\\n        return step_function(self, iterator)\\n    File \"/usr/local/lib/python3.7/dist-packages/keras/engine/training.py\", line 867, in step_function  **\\n        outputs = model.distribute_strategy.run(run_step, args=(data,))\\n    File \"/usr/local/lib/python3.7/dist-packages/keras/engine/training.py\", line 860, in run_step  **\\n        outputs = model.train_step(data)\\n    File \"/usr/local/lib/python3.7/dist-packages/keras/engine/training.py\", line 808, in train_step\\n        y_pred = self(x, training=True)\\n    File \"/usr/local/lib/python3.7/dist-packages/keras/utils/traceback_utils.py\", line 67, in error_handler\\n        raise e.with_traceback(filtered_tb) from None\\n\\n    TypeError: Exception encountered when calling layer \"residual_wrapper\" (type ResidualWrapper).\\n    \\n    in user code:\\n    \\n        File \"/usr/local/lib/python3.7/dist-packages/autots/models/dnn.py\", line 31, in call  *\\n            return inputs + delta\\n    \\n        TypeError: Input \\'y\\' of \\'AddV2\\' Op has type float32 that does not match type int64 of argument \\'x\\'.\\n    \\n    \\n    Call arguments received:\\n      • inputs=tf.Tensor(shape=(None, 4, 1), dtype=int64)\\n      • args=<class \\'inspect._empty\\'>\\n      • kwargs={\\'training\\': \\'True\\'}\\n') in model 301: DatepartRegression\n",
            "Model Number: 302 with model LastValueNaive in generation 3 of 10\n",
            "Model Number: 303 with model LastValueNaive in generation 3 of 10\n",
            "Model Number: 304 with model LastValueNaive in generation 3 of 10\n",
            "Model Number: 305 with model SeasonalNaive in generation 3 of 10\n",
            "Model Number: 306 with model SeasonalNaive in generation 3 of 10\n",
            "Model Number: 307 with model SeasonalNaive in generation 3 of 10\n",
            "Model Number: 308 with model SeasonalNaive in generation 3 of 10\n",
            "Model Number: 309 with model UnobservedComponents in generation 3 of 10\n",
            "Template Eval Error: ValueError('Provided exogenous values are not of the appropriate shape. Required (10, 1), got (10,).') in model 309: UnobservedComponents\n",
            "Model Number: 310 with model UnobservedComponents in generation 3 of 10\n",
            "Model Number: 311 with model UnobservedComponents in generation 3 of 10\n",
            "Model Number: 312 with model WindowRegression in generation 3 of 10\n",
            "Model Number: 313 with model WindowRegression in generation 3 of 10\n",
            "Template Eval Error: ValueError('Found array with 0 sample(s) (shape=(0, 0)) while a minimum of 1 is required.') in model 313: WindowRegression\n",
            "Model Number: 314 with model WindowRegression in generation 3 of 10\n",
            "Template Eval Error: ValueError(\"regression_type='User' but no future_regressor passed\") in model 314: WindowRegression\n",
            "Model Number: 315 with model GLM in generation 3 of 10\n",
            "Template Eval Error: ValueError('NaN, inf or invalid value detected in weights, estimation infeasible.') in model 315: GLM\n",
            "Model Number: 316 with model GLM in generation 3 of 10\n"
          ]
        },
        {
          "output_type": "stream",
          "name": "stderr",
          "text": [
            "/usr/local/lib/python3.7/dist-packages/statsmodels/genmod/families/family.py:428: RuntimeWarning:\n",
            "\n",
            "divide by zero encountered in true_divide\n",
            "\n",
            "/usr/local/lib/python3.7/dist-packages/statsmodels/genmod/families/family.py:134: RuntimeWarning:\n",
            "\n",
            "divide by zero encountered in true_divide\n",
            "\n",
            "/usr/local/lib/python3.7/dist-packages/statsmodels/genmod/generalized_linear_model.py:273: DomainWarning:\n",
            "\n",
            "The inverse_power link function does not respect the domain of the Gamma family.\n",
            "\n",
            "/usr/local/lib/python3.7/dist-packages/statsmodels/genmod/generalized_linear_model.py:273: DomainWarning:\n",
            "\n",
            "The inverse_power link function does not respect the domain of the Gamma family.\n",
            "\n"
          ]
        },
        {
          "output_type": "stream",
          "name": "stdout",
          "text": [
            "Model Number: 317 with model GLM in generation 3 of 10\n",
            "Model Number: 318 with model GLM in generation 3 of 10\n",
            "Model Number: 319 with model ZeroesNaive in generation 3 of 10\n",
            "Model Number: 320 with model ZeroesNaive in generation 3 of 10\n",
            "Model Number: 321 with model ZeroesNaive in generation 3 of 10\n",
            "Model Number: 322 with model ETS in generation 3 of 10\n",
            "Model Number: 323 with model ETS in generation 3 of 10\n",
            "Template Eval Error: ImportError(\"cannot import name 'STL' from 'statsmodels.tsa.seasonal' (/usr/local/lib/python3.7/dist-packages/statsmodels/tsa/seasonal.py)\") in model 323: ETS\n",
            "Model Number: 324 with model ETS in generation 3 of 10\n",
            "Model Number: 325 with model ETS in generation 3 of 10\n",
            "Model Number: 326 with model GLS in generation 3 of 10\n",
            "Model Number: 327 with model GLS in generation 3 of 10\n",
            "Model Number: 328 with model GLS in generation 3 of 10\n",
            "Model Number: 329 with model GluonTS in generation 3 of 10\n",
            "Template Eval Error: ImportError('GluonTS installation not found or installed version is incompatible with AutoTS.') in model 329: GluonTS\n",
            "Model Number: 330 with model GluonTS in generation 3 of 10\n",
            "Template Eval Error: ImportError('GluonTS installation not found or installed version is incompatible with AutoTS.') in model 330: GluonTS\n",
            "Model Number: 331 with model GluonTS in generation 3 of 10\n",
            "Template Eval Error: ImportError('GluonTS installation not found or installed version is incompatible with AutoTS.') in model 331: GluonTS\n",
            "Model Number: 332 with model GluonTS in generation 3 of 10\n",
            "Template Eval Error: ImportError(\"cannot import name 'STL' from 'statsmodels.tsa.seasonal' (/usr/local/lib/python3.7/dist-packages/statsmodels/tsa/seasonal.py)\") in model 332: GluonTS\n",
            "Model Number: 333 with model VAR in generation 3 of 10\n",
            "Template Eval Error: ValueError('Only gave one variable to VAR') in model 333: VAR\n",
            "Model Number: 334 with model VAR in generation 3 of 10\n",
            "Template Eval Error: ValueError('Only gave one variable to VAR') in model 334: VAR\n",
            "Model Number: 335 with model VAR in generation 3 of 10\n",
            "Template Eval Error: ValueError('Only gave one variable to VAR') in model 335: VAR\n",
            "Model Number: 336 with model VAR in generation 3 of 10\n",
            "Template Eval Error: ValueError('Only gave one variable to VAR') in model 336: VAR\n",
            "Model Number: 337 with model VECM in generation 3 of 10\n",
            "Template Eval Error: ValueError('Only gave one variable to VECM') in model 337: VECM\n",
            "Model Number: 338 with model VECM in generation 3 of 10\n",
            "Template Eval Error: ValueError('Only gave one variable to VECM') in model 338: VECM\n",
            "Model Number: 339 with model VECM in generation 3 of 10\n",
            "Template Eval Error: ValueError('Only gave one variable to VECM') in model 339: VECM\n",
            "Model Number: 340 with model VECM in generation 3 of 10\n",
            "Template Eval Error: ValueError('Only gave one variable to VECM') in model 340: VECM\n",
            "Model Number: 341 with model UnivariateMotif in generation 3 of 10\n",
            "Template Eval Error: AttributeError(\"module 'numpy.lib.stride_tricks' has no attribute 'sliding_window_view'\") in model 341: UnivariateMotif\n",
            "Model Number: 342 with model UnivariateMotif in generation 3 of 10\n",
            "Template Eval Error: AttributeError(\"module 'numpy.lib.stride_tricks' has no attribute 'sliding_window_view'\") in model 342: UnivariateMotif\n",
            "Model Number: 343 with model UnivariateMotif in generation 3 of 10\n",
            "Template Eval Error: AttributeError(\"module 'numpy.lib.stride_tricks' has no attribute 'sliding_window_view'\") in model 343: UnivariateMotif\n",
            "Model Number: 344 with model UnivariateMotif in generation 3 of 10\n",
            "Template Eval Error: AttributeError(\"module 'numpy.lib.stride_tricks' has no attribute 'sliding_window_view'\") in model 344: UnivariateMotif\n",
            "Model Number: 345 with model MultivariateMotif in generation 3 of 10\n",
            "Template Eval Error: AttributeError(\"module 'numpy.lib.stride_tricks' has no attribute 'sliding_window_view'\") in model 345: MultivariateMotif\n",
            "Model Number: 346 with model MultivariateMotif in generation 3 of 10\n",
            "Template Eval Error: ImportError(\"cannot import name 'STL' from 'statsmodels.tsa.seasonal' (/usr/local/lib/python3.7/dist-packages/statsmodels/tsa/seasonal.py)\") in model 346: MultivariateMotif\n",
            "Model Number: 347 with model MultivariateMotif in generation 3 of 10\n",
            "Template Eval Error: ImportError(\"cannot import name 'STL' from 'statsmodels.tsa.seasonal' (/usr/local/lib/python3.7/dist-packages/statsmodels/tsa/seasonal.py)\") in model 347: MultivariateMotif\n",
            "Model Number: 348 with model MultivariateMotif in generation 3 of 10\n",
            "Template Eval Error: ImportError(\"cannot import name 'STL' from 'statsmodels.tsa.seasonal' (/usr/local/lib/python3.7/dist-packages/statsmodels/tsa/seasonal.py)\") in model 348: MultivariateMotif\n",
            "Model Number: 349 with model Theta in generation 3 of 10\n",
            "Template Eval Error: ModuleNotFoundError(\"No module named 'statsmodels.tsa.forecasting'\") in model 349: Theta\n",
            "Model Number: 350 with model Theta in generation 3 of 10\n",
            "Template Eval Error: ModuleNotFoundError(\"No module named 'statsmodels.tsa.forecasting'\") in model 350: Theta\n",
            "Model Number: 351 with model Theta in generation 3 of 10\n",
            "Template Eval Error: ModuleNotFoundError(\"No module named 'statsmodels.tsa.forecasting'\") in model 351: Theta\n",
            "Model Number: 352 with model Theta in generation 3 of 10\n",
            "Template Eval Error: ModuleNotFoundError(\"No module named 'statsmodels.tsa.forecasting'\") in model 352: Theta\n",
            "Model Number: 353 with model ARDL in generation 3 of 10\n",
            "Template Eval Error: ValueError(\"regression_type='User' but future_regressor not supplied\") in model 353: ARDL\n",
            "Model Number: 354 with model ARDL in generation 3 of 10\n",
            "Template Eval Error: ValueError(\"regression_type='User' but future_regressor not supplied\") in model 354: ARDL\n",
            "Model Number: 355 with model ARDL in generation 3 of 10\n",
            "Template Eval Error: ImportError(\"cannot import name 'ARDL' from 'statsmodels.tsa.api' (/usr/local/lib/python3.7/dist-packages/statsmodels/tsa/api.py)\") in model 355: ARDL\n",
            "Model Number: 356 with model ARDL in generation 3 of 10\n",
            "Template Eval Error: ImportError(\"cannot import name 'ARDL' from 'statsmodels.tsa.api' (/usr/local/lib/python3.7/dist-packages/statsmodels/tsa/api.py)\") in model 356: ARDL\n",
            "New Generation: 4 of 10\n",
            "Model Number: 357 with model SectionalMotif in generation 4 of 10\n",
            "Model Number: 358 with model SectionalMotif in generation 4 of 10\n",
            "Model Number: 359 with model SectionalMotif in generation 4 of 10\n",
            "Model Number: 360 with model SectionalMotif in generation 4 of 10\n",
            "Model Number: 361 with model NVAR in generation 4 of 10\n",
            "Model Number: 362 with model NVAR in generation 4 of 10\n",
            "Model Number: 363 with model NVAR in generation 4 of 10\n",
            "Model Number: 364 with model NVAR in generation 4 of 10\n",
            "Model Number: 365 with model FBProphet in generation 4 of 10\n"
          ]
        },
        {
          "output_type": "stream",
          "name": "stderr",
          "text": [
            "INFO:fbprophet:Disabling yearly seasonality. Run prophet with yearly_seasonality=True to override this.\n",
            "INFO:fbprophet:Disabling daily seasonality. Run prophet with daily_seasonality=True to override this.\n",
            "INFO:fbprophet:Disabling yearly seasonality. Run prophet with yearly_seasonality=True to override this.\n",
            "INFO:fbprophet:Disabling daily seasonality. Run prophet with daily_seasonality=True to override this.\n"
          ]
        },
        {
          "output_type": "stream",
          "name": "stdout",
          "text": [
            "Model Number: 366 with model FBProphet in generation 4 of 10\n"
          ]
        },
        {
          "output_type": "stream",
          "name": "stderr",
          "text": [
            "INFO:fbprophet:Disabling yearly seasonality. Run prophet with yearly_seasonality=True to override this.\n",
            "INFO:fbprophet:Disabling daily seasonality. Run prophet with daily_seasonality=True to override this.\n"
          ]
        },
        {
          "output_type": "stream",
          "name": "stdout",
          "text": [
            "Model Number: 367 with model FBProphet in generation 4 of 10\n",
            "Template Eval Error: ValueError(\"regression_type='User' but no future_regressor passed\") in model 367: FBProphet\n",
            "Model Number: 368 with model FBProphet in generation 4 of 10\n",
            "Model Number: 369 with model AverageValueNaive in generation 4 of 10\n",
            "Model Number: 370 with model AverageValueNaive in generation 4 of 10\n",
            "Model Number: 371 with model AverageValueNaive in generation 4 of 10\n",
            "Model Number: 372 with model DatepartRegression in generation 4 of 10\n",
            "Model Number: 373 with model DatepartRegression in generation 4 of 10\n",
            "Template Eval Error: ValueError(\"regression_type='User' but no future_regressor passed\") in model 373: DatepartRegression\n",
            "Model Number: 374 with model DatepartRegression in generation 4 of 10\n"
          ]
        },
        {
          "output_type": "stream",
          "name": "stderr",
          "text": [
            "[Parallel(n_jobs=1)]: Using backend SequentialBackend with 1 concurrent workers.\n",
            "[Parallel(n_jobs=1)]: Done 300 out of 300 | elapsed:    0.4s finished\n",
            "[Parallel(n_jobs=1)]: Using backend SequentialBackend with 1 concurrent workers.\n",
            "[Parallel(n_jobs=1)]: Done 300 out of 300 | elapsed:    0.0s finished\n"
          ]
        },
        {
          "output_type": "stream",
          "name": "stdout",
          "text": [
            "Model Number: 375 with model SeasonalNaive in generation 4 of 10\n",
            "Model Number: 376 with model SeasonalNaive in generation 4 of 10\n",
            "Model Number: 377 with model SeasonalNaive in generation 4 of 10\n",
            "Model Number: 378 with model SeasonalNaive in generation 4 of 10\n",
            "Model Number: 379 with model UnobservedComponents in generation 4 of 10\n",
            "Model Number: 380 with model UnobservedComponents in generation 4 of 10\n",
            "Template Eval Error: ValueError('Provided exogenous values are not of the appropriate shape. Required (10, 1), got (10,).') in model 380: UnobservedComponents\n",
            "Model Number: 381 with model UnobservedComponents in generation 4 of 10\n",
            "Model Number: 382 with model LastValueNaive in generation 4 of 10\n",
            "Model Number: 383 with model LastValueNaive in generation 4 of 10\n",
            "Model Number: 384 with model LastValueNaive in generation 4 of 10\n",
            "Model Number: 385 with model WindowRegression in generation 4 of 10\n",
            "Epoch 1/50\n",
            "5/5 [==============================] - 5s 173ms/step - loss: 0.4371 - val_loss: 0.8968\n",
            "Epoch 2/50\n",
            "5/5 [==============================] - 0s 42ms/step - loss: 0.4330 - val_loss: 0.8974\n",
            "Epoch 3/50\n",
            "5/5 [==============================] - 0s 33ms/step - loss: 0.4281 - val_loss: 0.8980\n",
            "Epoch 4/50\n",
            "5/5 [==============================] - 0s 37ms/step - loss: 0.4236 - val_loss: 0.8986\n",
            "Epoch 5/50\n",
            "5/5 [==============================] - 0s 34ms/step - loss: 0.4236 - val_loss: 0.8993\n",
            "Epoch 6/50\n",
            "5/5 [==============================] - 0s 33ms/step - loss: 0.4165 - val_loss: 0.8997\n",
            "Epoch 7/50\n",
            "5/5 [==============================] - 0s 32ms/step - loss: 0.4157 - val_loss: 0.9003\n",
            "Epoch 8/50\n",
            "5/5 [==============================] - 0s 35ms/step - loss: 0.4118 - val_loss: 0.9009\n",
            "Epoch 9/50\n",
            "5/5 [==============================] - 0s 32ms/step - loss: 0.4099 - val_loss: 0.9015\n",
            "Epoch 10/50\n",
            "5/5 [==============================] - 0s 35ms/step - loss: 0.4020 - val_loss: 0.9025\n",
            "Epoch 11/50\n",
            "5/5 [==============================] - 0s 36ms/step - loss: 0.4038 - val_loss: 0.9032\n",
            "Model Number: 386 with model WindowRegression in generation 4 of 10\n",
            "Template Eval Error: ValueError('Found array with 0 sample(s) (shape=(0, 0)) while a minimum of 1 is required.') in model 386: WindowRegression\n",
            "Model Number: 387 with model WindowRegression in generation 4 of 10\n",
            "Model Number: 388 with model GLM in generation 4 of 10\n",
            "Model Number: 389 with model GLM in generation 4 of 10\n",
            "Template Eval Error: ValueError('regression_type=user and no future_regressor passed') in model 389: GLM\n",
            "Model Number: 390 with model GLM in generation 4 of 10\n",
            "Template Eval Error: ImportError(\"cannot import name 'STL' from 'statsmodels.tsa.seasonal' (/usr/local/lib/python3.7/dist-packages/statsmodels/tsa/seasonal.py)\") in model 390: GLM\n",
            "Model Number: 391 with model GLM in generation 4 of 10\n",
            "Model Number: 392 with model ZeroesNaive in generation 4 of 10\n",
            "Model Number: 393 with model ZeroesNaive in generation 4 of 10\n",
            "Model Number: 394 with model ZeroesNaive in generation 4 of 10\n",
            "Model Number: 395 with model ETS in generation 4 of 10\n",
            "Model Number: 396 with model ETS in generation 4 of 10\n",
            "Model Number: 397 with model ETS in generation 4 of 10\n",
            "Model Number: 398 with model ETS in generation 4 of 10\n",
            "Model Number: 399 with model GLS in generation 4 of 10\n",
            "Model Number: 400 with model GLS in generation 4 of 10\n",
            "Model Number: 401 with model GluonTS in generation 4 of 10\n",
            "Template Eval Error: ImportError('GluonTS installation not found or installed version is incompatible with AutoTS.') in model 401: GluonTS\n",
            "Model Number: 402 with model GluonTS in generation 4 of 10\n",
            "Template Eval Error: ImportError('GluonTS installation not found or installed version is incompatible with AutoTS.') in model 402: GluonTS\n",
            "Model Number: 403 with model GluonTS in generation 4 of 10\n",
            "Template Eval Error: ImportError('GluonTS installation not found or installed version is incompatible with AutoTS.') in model 403: GluonTS\n",
            "Model Number: 404 with model GluonTS in generation 4 of 10\n",
            "Template Eval Error: ImportError('GluonTS installation not found or installed version is incompatible with AutoTS.') in model 404: GluonTS\n",
            "Model Number: 405 with model VAR in generation 4 of 10\n",
            "Template Eval Error: ValueError('Only gave one variable to VAR') in model 405: VAR\n",
            "Model Number: 406 with model VAR in generation 4 of 10\n",
            "Template Eval Error: ValueError('Only gave one variable to VAR') in model 406: VAR\n",
            "Model Number: 407 with model VAR in generation 4 of 10\n",
            "Template Eval Error: IndexError('tuple index out of range') in model 407: VAR\n",
            "Model Number: 408 with model VAR in generation 4 of 10\n",
            "Template Eval Error: ValueError('Only gave one variable to VAR') in model 408: VAR\n",
            "Model Number: 409 with model VECM in generation 4 of 10\n",
            "Template Eval Error: ValueError('Only gave one variable to VECM') in model 409: VECM\n",
            "Model Number: 410 with model VECM in generation 4 of 10\n",
            "Template Eval Error: ValueError('Only gave one variable to VECM') in model 410: VECM\n",
            "Model Number: 411 with model VECM in generation 4 of 10\n",
            "Template Eval Error: ValueError('Only gave one variable to VECM') in model 411: VECM\n",
            "Model Number: 412 with model VECM in generation 4 of 10\n",
            "Template Eval Error: ValueError('Only gave one variable to VECM') in model 412: VECM\n",
            "Model Number: 413 with model UnivariateMotif in generation 4 of 10\n",
            "Template Eval Error: ImportError(\"cannot import name 'STL' from 'statsmodels.tsa.seasonal' (/usr/local/lib/python3.7/dist-packages/statsmodels/tsa/seasonal.py)\") in model 413: UnivariateMotif\n",
            "Model Number: 414 with model UnivariateMotif in generation 4 of 10\n",
            "Template Eval Error: ImportError(\"cannot import name 'STL' from 'statsmodels.tsa.seasonal' (/usr/local/lib/python3.7/dist-packages/statsmodels/tsa/seasonal.py)\") in model 414: UnivariateMotif\n",
            "Model Number: 415 with model UnivariateMotif in generation 4 of 10\n",
            "Template Eval Error: AttributeError(\"module 'numpy.lib.stride_tricks' has no attribute 'sliding_window_view'\") in model 415: UnivariateMotif\n",
            "Model Number: 416 with model UnivariateMotif in generation 4 of 10\n",
            "Template Eval Error: AttributeError(\"module 'numpy.lib.stride_tricks' has no attribute 'sliding_window_view'\") in model 416: UnivariateMotif\n",
            "Model Number: 417 with model MultivariateMotif in generation 4 of 10\n",
            "Template Eval Error: AttributeError(\"module 'numpy.lib.stride_tricks' has no attribute 'sliding_window_view'\") in model 417: MultivariateMotif\n",
            "Model Number: 418 with model MultivariateMotif in generation 4 of 10\n",
            "Template Eval Error: AttributeError(\"module 'numpy.lib.stride_tricks' has no attribute 'sliding_window_view'\") in model 418: MultivariateMotif\n",
            "Model Number: 419 with model MultivariateMotif in generation 4 of 10\n",
            "Template Eval Error: AttributeError(\"module 'numpy.lib.stride_tricks' has no attribute 'sliding_window_view'\") in model 419: MultivariateMotif\n",
            "Model Number: 420 with model MultivariateMotif in generation 4 of 10\n",
            "Template Eval Error: AttributeError(\"module 'numpy.lib.stride_tricks' has no attribute 'sliding_window_view'\") in model 420: MultivariateMotif\n",
            "Model Number: 421 with model Theta in generation 4 of 10\n",
            "Template Eval Error: ModuleNotFoundError(\"No module named 'statsmodels.tsa.forecasting'\") in model 421: Theta\n",
            "Model Number: 422 with model Theta in generation 4 of 10\n",
            "Template Eval Error: ModuleNotFoundError(\"No module named 'statsmodels.tsa.forecasting'\") in model 422: Theta\n",
            "Model Number: 423 with model Theta in generation 4 of 10\n",
            "Template Eval Error: ModuleNotFoundError(\"No module named 'statsmodels.tsa.forecasting'\") in model 423: Theta\n",
            "Model Number: 424 with model Theta in generation 4 of 10\n",
            "Template Eval Error: ModuleNotFoundError(\"No module named 'statsmodels.tsa.forecasting'\") in model 424: Theta\n",
            "Model Number: 425 with model ARDL in generation 4 of 10\n",
            "Template Eval Error: ImportError(\"cannot import name 'ARDL' from 'statsmodels.tsa.api' (/usr/local/lib/python3.7/dist-packages/statsmodels/tsa/api.py)\") in model 425: ARDL\n",
            "Model Number: 426 with model ARDL in generation 4 of 10\n",
            "Template Eval Error: ImportError(\"cannot import name 'ARDL' from 'statsmodels.tsa.api' (/usr/local/lib/python3.7/dist-packages/statsmodels/tsa/api.py)\") in model 426: ARDL\n",
            "Model Number: 427 with model ARDL in generation 4 of 10\n",
            "Template Eval Error: ValueError(\"regression_type='User' but future_regressor not supplied\") in model 427: ARDL\n",
            "Model Number: 428 with model ARDL in generation 4 of 10\n",
            "Template Eval Error: ImportError(\"cannot import name 'ARDL' from 'statsmodels.tsa.api' (/usr/local/lib/python3.7/dist-packages/statsmodels/tsa/api.py)\") in model 428: ARDL\n",
            "New Generation: 5 of 10\n",
            "Model Number: 429 with model SectionalMotif in generation 5 of 10\n",
            "Model Number: 430 with model SectionalMotif in generation 5 of 10\n",
            "Model Number: 431 with model SectionalMotif in generation 5 of 10\n",
            "Model Number: 432 with model SectionalMotif in generation 5 of 10\n",
            "Model Number: 433 with model NVAR in generation 5 of 10\n",
            "Model Number: 434 with model NVAR in generation 5 of 10\n",
            "Model Number: 435 with model NVAR in generation 5 of 10\n",
            "Model Number: 436 with model NVAR in generation 5 of 10\n",
            "Model Number: 437 with model FBProphet in generation 5 of 10\n"
          ]
        },
        {
          "output_type": "stream",
          "name": "stderr",
          "text": [
            "INFO:fbprophet:Disabling yearly seasonality. Run prophet with yearly_seasonality=True to override this.\n",
            "INFO:fbprophet:Disabling daily seasonality. Run prophet with daily_seasonality=True to override this.\n",
            "INFO:fbprophet:Disabling yearly seasonality. Run prophet with yearly_seasonality=True to override this.\n",
            "INFO:fbprophet:Disabling daily seasonality. Run prophet with daily_seasonality=True to override this.\n"
          ]
        },
        {
          "output_type": "stream",
          "name": "stdout",
          "text": [
            "Model Number: 438 with model FBProphet in generation 5 of 10\n"
          ]
        },
        {
          "output_type": "stream",
          "name": "stderr",
          "text": [
            "INFO:fbprophet:Disabling yearly seasonality. Run prophet with yearly_seasonality=True to override this.\n",
            "INFO:fbprophet:Disabling daily seasonality. Run prophet with daily_seasonality=True to override this.\n"
          ]
        },
        {
          "output_type": "stream",
          "name": "stdout",
          "text": [
            "Model Number: 439 with model FBProphet in generation 5 of 10\n"
          ]
        },
        {
          "output_type": "stream",
          "name": "stderr",
          "text": [
            "INFO:fbprophet:Disabling yearly seasonality. Run prophet with yearly_seasonality=True to override this.\n",
            "INFO:fbprophet:Disabling daily seasonality. Run prophet with daily_seasonality=True to override this.\n"
          ]
        },
        {
          "output_type": "stream",
          "name": "stdout",
          "text": [
            "Model Number: 440 with model FBProphet in generation 5 of 10\n",
            "Model Number: 441 with model AverageValueNaive in generation 5 of 10\n",
            "Model Number: 442 with model AverageValueNaive in generation 5 of 10\n",
            "Model Number: 443 with model AverageValueNaive in generation 5 of 10\n",
            "Model Number: 444 with model DatepartRegression in generation 5 of 10\n",
            "Template Eval Error: ValueError(\"regression_type='User' but no future_regressor passed\") in model 444: DatepartRegression\n",
            "Model Number: 445 with model DatepartRegression in generation 5 of 10\n",
            "Template Eval Error: ValueError('Model DatepartRegression returned NaN for one or more series') in model 445: DatepartRegression\n",
            "Model Number: 446 with model DatepartRegression in generation 5 of 10\n",
            "Template Eval Error: ValueError(\"regression_type='User' but no future_regressor passed\") in model 446: DatepartRegression\n",
            "Model Number: 447 with model SeasonalNaive in generation 5 of 10\n"
          ]
        },
        {
          "output_type": "stream",
          "name": "stderr",
          "text": [
            "/usr/local/lib/python3.7/dist-packages/sklearn/neighbors/_regression.py:470: UserWarning:\n",
            "\n",
            "One or more samples have no neighbors within specified radius; predicting NaN.\n",
            "\n"
          ]
        },
        {
          "output_type": "stream",
          "name": "stdout",
          "text": [
            "Model Number: 448 with model SeasonalNaive in generation 5 of 10\n",
            "Model Number: 449 with model SeasonalNaive in generation 5 of 10\n",
            "Model Number: 450 with model UnobservedComponents in generation 5 of 10\n",
            "Model Number: 451 with model UnobservedComponents in generation 5 of 10\n",
            "Template Eval Error: ValueError('Model UnobservedComponents returned NaN for one or more series') in model 451: UnobservedComponents\n",
            "Model Number: 452 with model UnobservedComponents in generation 5 of 10\n",
            "Model Number: 453 with model LastValueNaive in generation 5 of 10\n",
            "Model Number: 454 with model LastValueNaive in generation 5 of 10\n",
            "Model Number: 455 with model LastValueNaive in generation 5 of 10\n",
            "Model Number: 456 with model WindowRegression in generation 5 of 10\n"
          ]
        },
        {
          "output_type": "stream",
          "name": "stderr",
          "text": [
            "/usr/local/lib/python3.7/dist-packages/sklearn/utils/validation.py:993: DataConversionWarning:\n",
            "\n",
            "A column-vector y was passed when a 1d array was expected. Please change the shape of y to (n_samples, ), for example using ravel().\n",
            "\n",
            "/usr/local/lib/python3.7/dist-packages/sklearn/svm/_base.py:1208: ConvergenceWarning:\n",
            "\n",
            "Liblinear failed to converge, increase the number of iterations.\n",
            "\n"
          ]
        },
        {
          "output_type": "stream",
          "name": "stdout",
          "text": [
            "Model Number: 457 with model WindowRegression in generation 5 of 10\n",
            "Template Eval Error: ValueError('Found array with 0 sample(s) (shape=(0, 0)) while a minimum of 1 is required.') in model 457: WindowRegression\n",
            "Model Number: 458 with model WindowRegression in generation 5 of 10\n",
            "Model Number: 459 with model GLM in generation 5 of 10\n",
            "Template Eval Error: ValueError('The first guess on the deviance function returned a nan.  This could be a boundary  problem and should be reported.') in model 459: GLM\n",
            "Model Number: 460 with model GLM in generation 5 of 10\n"
          ]
        },
        {
          "output_type": "stream",
          "name": "stderr",
          "text": [
            "/usr/local/lib/python3.7/dist-packages/statsmodels/genmod/families/family.py:1227: RuntimeWarning:\n",
            "\n",
            "invalid value encountered in log\n",
            "\n"
          ]
        },
        {
          "output_type": "stream",
          "name": "stdout",
          "text": [
            "Model Number: 461 with model GLM in generation 5 of 10\n",
            "Model Number: 462 with model GLM in generation 5 of 10\n",
            "Template Eval Error: ValueError('regression_type=user and no future_regressor passed') in model 462: GLM\n",
            "Model Number: 463 with model ZeroesNaive in generation 5 of 10\n",
            "Model Number: 464 with model ZeroesNaive in generation 5 of 10\n"
          ]
        },
        {
          "output_type": "stream",
          "name": "stderr",
          "text": [
            "/usr/local/lib/python3.7/dist-packages/statsmodels/genmod/generalized_linear_model.py:273: DomainWarning:\n",
            "\n",
            "The inverse_power link function does not respect the domain of the Gamma family.\n",
            "\n"
          ]
        },
        {
          "output_type": "stream",
          "name": "stdout",
          "text": [
            "Model Number: 465 with model ZeroesNaive in generation 5 of 10\n",
            "Model Number: 466 with model ETS in generation 5 of 10\n",
            "Model Number: 467 with model ETS in generation 5 of 10\n",
            "Model Number: 468 with model ETS in generation 5 of 10\n",
            "Model Number: 469 with model ETS in generation 5 of 10\n",
            "Model Number: 470 with model GLS in generation 5 of 10\n",
            "Model Number: 471 with model GLS in generation 5 of 10\n",
            "Model Number: 472 with model GLS in generation 5 of 10\n",
            "Model Number: 473 with model GluonTS in generation 5 of 10\n",
            "Template Eval Error: ImportError('GluonTS installation not found or installed version is incompatible with AutoTS.') in model 473: GluonTS\n",
            "Model Number: 474 with model GluonTS in generation 5 of 10\n",
            "Template Eval Error: ImportError('GluonTS installation not found or installed version is incompatible with AutoTS.') in model 474: GluonTS\n",
            "Model Number: 475 with model GluonTS in generation 5 of 10\n",
            "Template Eval Error: ImportError('GluonTS installation not found or installed version is incompatible with AutoTS.') in model 475: GluonTS\n",
            "Model Number: 476 with model GluonTS in generation 5 of 10\n",
            "Template Eval Error: ImportError('GluonTS installation not found or installed version is incompatible with AutoTS.') in model 476: GluonTS\n",
            "Model Number: 477 with model VAR in generation 5 of 10\n",
            "Template Eval Error: ValueError('Only gave one variable to VAR') in model 477: VAR\n",
            "Model Number: 478 with model VAR in generation 5 of 10\n",
            "Template Eval Error: ValueError('Only gave one variable to VAR') in model 478: VAR\n",
            "Model Number: 479 with model VAR in generation 5 of 10\n",
            "Template Eval Error: ValueError('Only gave one variable to VAR') in model 479: VAR\n",
            "Model Number: 480 with model VAR in generation 5 of 10\n",
            "Template Eval Error: ValueError('Only gave one variable to VAR') in model 480: VAR\n",
            "Model Number: 481 with model VECM in generation 5 of 10\n",
            "Template Eval Error: ValueError('Only gave one variable to VECM') in model 481: VECM\n",
            "Model Number: 482 with model VECM in generation 5 of 10\n",
            "Template Eval Error: ValueError('Only gave one variable to VECM') in model 482: VECM\n",
            "Model Number: 483 with model VECM in generation 5 of 10\n",
            "Template Eval Error: ValueError('Only gave one variable to VECM') in model 483: VECM\n",
            "Model Number: 484 with model VECM in generation 5 of 10\n",
            "Template Eval Error: ValueError('Only gave one variable to VECM') in model 484: VECM\n",
            "Model Number: 485 with model UnivariateMotif in generation 5 of 10\n",
            "Template Eval Error: AttributeError(\"module 'numpy.lib.stride_tricks' has no attribute 'sliding_window_view'\") in model 485: UnivariateMotif\n",
            "Model Number: 486 with model UnivariateMotif in generation 5 of 10\n",
            "Template Eval Error: AttributeError(\"module 'numpy.lib.stride_tricks' has no attribute 'sliding_window_view'\") in model 486: UnivariateMotif\n",
            "Model Number: 487 with model UnivariateMotif in generation 5 of 10\n",
            "Template Eval Error: AttributeError(\"module 'numpy.lib.stride_tricks' has no attribute 'sliding_window_view'\") in model 487: UnivariateMotif\n",
            "Model Number: 488 with model UnivariateMotif in generation 5 of 10\n",
            "Template Eval Error: AttributeError(\"module 'numpy.lib.stride_tricks' has no attribute 'sliding_window_view'\") in model 488: UnivariateMotif\n",
            "Model Number: 489 with model MultivariateMotif in generation 5 of 10\n",
            "Template Eval Error: AttributeError(\"module 'numpy.lib.stride_tricks' has no attribute 'sliding_window_view'\") in model 489: MultivariateMotif\n",
            "Model Number: 490 with model MultivariateMotif in generation 5 of 10\n",
            "Template Eval Error: AttributeError(\"module 'numpy.lib.stride_tricks' has no attribute 'sliding_window_view'\") in model 490: MultivariateMotif\n",
            "Model Number: 491 with model MultivariateMotif in generation 5 of 10\n",
            "Template Eval Error: AttributeError(\"module 'numpy.lib.stride_tricks' has no attribute 'sliding_window_view'\") in model 491: MultivariateMotif\n",
            "Model Number: 492 with model MultivariateMotif in generation 5 of 10\n",
            "Template Eval Error: AttributeError(\"module 'numpy.lib.stride_tricks' has no attribute 'sliding_window_view'\") in model 492: MultivariateMotif\n",
            "Model Number: 493 with model Theta in generation 5 of 10\n",
            "Template Eval Error: ModuleNotFoundError(\"No module named 'statsmodels.tsa.forecasting'\") in model 493: Theta\n",
            "Model Number: 494 with model Theta in generation 5 of 10\n",
            "Template Eval Error: ModuleNotFoundError(\"No module named 'statsmodels.tsa.forecasting'\") in model 494: Theta\n",
            "Model Number: 495 with model Theta in generation 5 of 10\n",
            "Template Eval Error: ModuleNotFoundError(\"No module named 'statsmodels.tsa.forecasting'\") in model 495: Theta\n",
            "Model Number: 496 with model Theta in generation 5 of 10\n",
            "Template Eval Error: ModuleNotFoundError(\"No module named 'statsmodels.tsa.forecasting'\") in model 496: Theta\n",
            "Model Number: 497 with model ARDL in generation 5 of 10\n",
            "Template Eval Error: ImportError(\"cannot import name 'ARDL' from 'statsmodels.tsa.api' (/usr/local/lib/python3.7/dist-packages/statsmodels/tsa/api.py)\") in model 497: ARDL\n",
            "Model Number: 498 with model ARDL in generation 5 of 10\n",
            "Template Eval Error: ImportError(\"cannot import name 'ARDL' from 'statsmodels.tsa.api' (/usr/local/lib/python3.7/dist-packages/statsmodels/tsa/api.py)\") in model 498: ARDL\n",
            "Model Number: 499 with model ARDL in generation 5 of 10\n",
            "Template Eval Error: ImportError(\"cannot import name 'ARDL' from 'statsmodels.tsa.api' (/usr/local/lib/python3.7/dist-packages/statsmodels/tsa/api.py)\") in model 499: ARDL\n",
            "Model Number: 500 with model ARDL in generation 5 of 10\n",
            "Template Eval Error: ImportError(\"cannot import name 'ARDL' from 'statsmodels.tsa.api' (/usr/local/lib/python3.7/dist-packages/statsmodels/tsa/api.py)\") in model 500: ARDL\n",
            "New Generation: 6 of 10\n",
            "Model Number: 501 with model SectionalMotif in generation 6 of 10\n",
            "Model Number: 502 with model SectionalMotif in generation 6 of 10\n",
            "Model Number: 503 with model SectionalMotif in generation 6 of 10\n",
            "Model Number: 504 with model SectionalMotif in generation 6 of 10\n",
            "Model Number: 505 with model NVAR in generation 6 of 10\n",
            "Model Number: 506 with model NVAR in generation 6 of 10\n",
            "Model Number: 507 with model NVAR in generation 6 of 10\n",
            "Model Number: 508 with model NVAR in generation 6 of 10\n",
            "Model Number: 509 with model FBProphet in generation 6 of 10\n"
          ]
        },
        {
          "output_type": "stream",
          "name": "stderr",
          "text": [
            "INFO:fbprophet:Disabling yearly seasonality. Run prophet with yearly_seasonality=True to override this.\n",
            "INFO:fbprophet:Disabling daily seasonality. Run prophet with daily_seasonality=True to override this.\n",
            "INFO:fbprophet:Disabling yearly seasonality. Run prophet with yearly_seasonality=True to override this.\n",
            "INFO:fbprophet:Disabling daily seasonality. Run prophet with daily_seasonality=True to override this.\n"
          ]
        },
        {
          "output_type": "stream",
          "name": "stdout",
          "text": [
            "Model Number: 510 with model FBProphet in generation 6 of 10\n"
          ]
        },
        {
          "output_type": "stream",
          "name": "stderr",
          "text": [
            "INFO:fbprophet:Disabling yearly seasonality. Run prophet with yearly_seasonality=True to override this.\n",
            "INFO:fbprophet:Disabling daily seasonality. Run prophet with daily_seasonality=True to override this.\n"
          ]
        },
        {
          "output_type": "stream",
          "name": "stdout",
          "text": [
            "Model Number: 511 with model FBProphet in generation 6 of 10\n"
          ]
        },
        {
          "output_type": "stream",
          "name": "stderr",
          "text": [
            "INFO:fbprophet:Disabling yearly seasonality. Run prophet with yearly_seasonality=True to override this.\n",
            "INFO:fbprophet:Disabling daily seasonality. Run prophet with daily_seasonality=True to override this.\n"
          ]
        },
        {
          "output_type": "stream",
          "name": "stdout",
          "text": [
            "Model Number: 512 with model FBProphet in generation 6 of 10\n",
            "Model Number: 513 with model AverageValueNaive in generation 6 of 10\n",
            "Model Number: 514 with model AverageValueNaive in generation 6 of 10\n",
            "Model Number: 515 with model AverageValueNaive in generation 6 of 10\n",
            "Model Number: 516 with model DatepartRegression in generation 6 of 10\n",
            "Template Eval Error: ValueError(\"regression_type='User' but no future_regressor passed\") in model 516: DatepartRegression\n",
            "Model Number: 517 with model DatepartRegression in generation 6 of 10\n"
          ]
        },
        {
          "output_type": "stream",
          "name": "stderr",
          "text": [
            "[Parallel(n_jobs=1)]: Using backend SequentialBackend with 1 concurrent workers.\n",
            "[Parallel(n_jobs=1)]: Done 300 out of 300 | elapsed:    0.3s finished\n",
            "[Parallel(n_jobs=1)]: Using backend SequentialBackend with 1 concurrent workers.\n",
            "[Parallel(n_jobs=1)]: Done 300 out of 300 | elapsed:    0.0s finished\n"
          ]
        },
        {
          "output_type": "stream",
          "name": "stdout",
          "text": [
            "Model Number: 518 with model DatepartRegression in generation 6 of 10\n",
            "Template Eval Error: ValueError(\"regression_type='User' but no future_regressor passed\") in model 518: DatepartRegression\n",
            "Model Number: 519 with model SeasonalNaive in generation 6 of 10\n",
            "Model Number: 520 with model SeasonalNaive in generation 6 of 10\n",
            "Model Number: 521 with model SeasonalNaive in generation 6 of 10\n",
            "Model Number: 522 with model SeasonalNaive in generation 6 of 10\n",
            "Model Number: 523 with model LastValueNaive in generation 6 of 10\n",
            "Model Number: 524 with model LastValueNaive in generation 6 of 10\n",
            "Model Number: 525 with model UnobservedComponents in generation 6 of 10\n",
            "Model Number: 526 with model UnobservedComponents in generation 6 of 10\n",
            "Template Eval Error: ImportError(\"cannot import name 'STL' from 'statsmodels.tsa.seasonal' (/usr/local/lib/python3.7/dist-packages/statsmodels/tsa/seasonal.py)\") in model 526: UnobservedComponents\n",
            "Model Number: 527 with model UnobservedComponents in generation 6 of 10\n",
            "Template Eval Error: ValueError('Provided exogenous values are not of the appropriate shape. Required (10, 1), got (10,).') in model 527: UnobservedComponents\n",
            "Model Number: 528 with model WindowRegression in generation 6 of 10\n"
          ]
        },
        {
          "output_type": "stream",
          "name": "stderr",
          "text": [
            "/usr/local/lib/python3.7/dist-packages/sklearn/utils/validation.py:993: DataConversionWarning:\n",
            "\n",
            "A column-vector y was passed when a 1d array was expected. Please change the shape of y to (n_samples, ), for example using ravel().\n",
            "\n"
          ]
        },
        {
          "output_type": "stream",
          "name": "stdout",
          "text": [
            "Model Number: 529 with model WindowRegression in generation 6 of 10\n"
          ]
        },
        {
          "output_type": "stream",
          "name": "stderr",
          "text": [
            "/usr/local/lib/python3.7/dist-packages/sklearn/neighbors/_regression.py:470: UserWarning:\n",
            "\n",
            "One or more samples have no neighbors within specified radius; predicting NaN.\n",
            "\n"
          ]
        },
        {
          "output_type": "stream",
          "name": "stdout",
          "text": [
            "Template Eval Error: ValueError(\"Input contains NaN, infinity or a value too large for dtype('float64').\") in model 529: WindowRegression\n",
            "Model Number: 530 with model WindowRegression in generation 6 of 10\n",
            "Model Number: 531 with model GLM in generation 6 of 10\n",
            "Template Eval Error: ValueError('regression_type=user and no future_regressor passed') in model 531: GLM\n",
            "Model Number: 532 with model GLM in generation 6 of 10\n",
            "Template Eval Error: ValueError('regression_type=user and no future_regressor passed') in model 532: GLM\n",
            "Model Number: 533 with model GLM in generation 6 of 10\n",
            "Model Number: 534 with model GLM in generation 6 of 10\n",
            "Template Eval Error: ValueError('NaN, inf or invalid value detected in weights, estimation infeasible.') in model 534: GLM\n",
            "Model Number: 535 with model ETS in generation 6 of 10\n",
            "Model Number: 536 with model ETS in generation 6 of 10\n"
          ]
        },
        {
          "output_type": "stream",
          "name": "stderr",
          "text": [
            "/usr/local/lib/python3.7/dist-packages/statsmodels/genmod/families/family.py:1440: RuntimeWarning:\n",
            "\n",
            "invalid value encountered in log\n",
            "\n",
            "/usr/local/lib/python3.7/dist-packages/statsmodels/genmod/families/family.py:1440: RuntimeWarning:\n",
            "\n",
            "divide by zero encountered in true_divide\n",
            "\n",
            "/usr/local/lib/python3.7/dist-packages/statsmodels/genmod/generalized_linear_model.py:774: RuntimeWarning:\n",
            "\n",
            "divide by zero encountered in true_divide\n",
            "\n",
            "/usr/local/lib/python3.7/dist-packages/statsmodels/genmod/families/family.py:134: RuntimeWarning:\n",
            "\n",
            "divide by zero encountered in true_divide\n",
            "\n"
          ]
        },
        {
          "output_type": "stream",
          "name": "stdout",
          "text": [
            "Model Number: 537 with model ETS in generation 6 of 10\n",
            "Model Number: 538 with model ETS in generation 6 of 10\n",
            "Model Number: 539 with model ZeroesNaive in generation 6 of 10\n",
            "Model Number: 540 with model ZeroesNaive in generation 6 of 10\n",
            "Model Number: 541 with model ZeroesNaive in generation 6 of 10\n",
            "Model Number: 542 with model GLS in generation 6 of 10\n",
            "Model Number: 543 with model GLS in generation 6 of 10\n",
            "Model Number: 544 with model GLS in generation 6 of 10\n",
            "Model Number: 545 with model GluonTS in generation 6 of 10\n",
            "Template Eval Error: ImportError('GluonTS installation not found or installed version is incompatible with AutoTS.') in model 545: GluonTS\n",
            "Model Number: 546 with model GluonTS in generation 6 of 10\n",
            "Template Eval Error: ImportError('GluonTS installation not found or installed version is incompatible with AutoTS.') in model 546: GluonTS\n",
            "Model Number: 547 with model GluonTS in generation 6 of 10\n",
            "Template Eval Error: ImportError('GluonTS installation not found or installed version is incompatible with AutoTS.') in model 547: GluonTS\n",
            "Model Number: 548 with model GluonTS in generation 6 of 10\n",
            "Template Eval Error: ImportError('GluonTS installation not found or installed version is incompatible with AutoTS.') in model 548: GluonTS\n",
            "Model Number: 549 with model VAR in generation 6 of 10\n",
            "Template Eval Error: ValueError('Only gave one variable to VAR') in model 549: VAR\n",
            "Model Number: 550 with model VAR in generation 6 of 10\n",
            "Template Eval Error: ValueError('Only gave one variable to VAR') in model 550: VAR\n",
            "Model Number: 551 with model VAR in generation 6 of 10\n",
            "Template Eval Error: ValueError('Only gave one variable to VAR') in model 551: VAR\n",
            "Model Number: 552 with model VAR in generation 6 of 10\n",
            "Template Eval Error: ValueError('Only gave one variable to VAR') in model 552: VAR\n",
            "Model Number: 553 with model VECM in generation 6 of 10\n",
            "Template Eval Error: ValueError('Only gave one variable to VECM') in model 553: VECM\n",
            "Model Number: 554 with model VECM in generation 6 of 10\n",
            "Template Eval Error: ValueError('Only gave one variable to VECM') in model 554: VECM\n",
            "Model Number: 555 with model VECM in generation 6 of 10\n",
            "Template Eval Error: ValueError('Only gave one variable to VECM') in model 555: VECM\n",
            "Model Number: 556 with model VECM in generation 6 of 10\n",
            "Template Eval Error: ValueError('Only gave one variable to VECM') in model 556: VECM\n",
            "Model Number: 557 with model UnivariateMotif in generation 6 of 10\n",
            "Template Eval Error: AttributeError(\"module 'numpy.lib.stride_tricks' has no attribute 'sliding_window_view'\") in model 557: UnivariateMotif\n",
            "Model Number: 558 with model UnivariateMotif in generation 6 of 10\n",
            "Template Eval Error: AttributeError(\"module 'numpy.lib.stride_tricks' has no attribute 'sliding_window_view'\") in model 558: UnivariateMotif\n",
            "Model Number: 559 with model UnivariateMotif in generation 6 of 10\n",
            "Template Eval Error: AttributeError(\"module 'numpy.lib.stride_tricks' has no attribute 'sliding_window_view'\") in model 559: UnivariateMotif\n",
            "Model Number: 560 with model UnivariateMotif in generation 6 of 10\n",
            "Template Eval Error: AttributeError(\"module 'numpy.lib.stride_tricks' has no attribute 'sliding_window_view'\") in model 560: UnivariateMotif\n",
            "Model Number: 561 with model MultivariateMotif in generation 6 of 10\n",
            "Template Eval Error: AttributeError(\"module 'numpy.lib.stride_tricks' has no attribute 'sliding_window_view'\") in model 561: MultivariateMotif\n",
            "Model Number: 562 with model MultivariateMotif in generation 6 of 10\n",
            "Template Eval Error: AttributeError(\"module 'numpy.lib.stride_tricks' has no attribute 'sliding_window_view'\") in model 562: MultivariateMotif\n",
            "Model Number: 563 with model MultivariateMotif in generation 6 of 10\n",
            "Template Eval Error: AttributeError(\"module 'numpy.lib.stride_tricks' has no attribute 'sliding_window_view'\") in model 563: MultivariateMotif\n",
            "Model Number: 564 with model MultivariateMotif in generation 6 of 10\n",
            "Template Eval Error: ImportError(\"cannot import name 'STL' from 'statsmodels.tsa.seasonal' (/usr/local/lib/python3.7/dist-packages/statsmodels/tsa/seasonal.py)\") in model 564: MultivariateMotif\n",
            "Model Number: 565 with model Theta in generation 6 of 10\n",
            "Template Eval Error: ModuleNotFoundError(\"No module named 'statsmodels.tsa.forecasting'\") in model 565: Theta\n",
            "Model Number: 566 with model Theta in generation 6 of 10\n",
            "Template Eval Error: ModuleNotFoundError(\"No module named 'statsmodels.tsa.forecasting'\") in model 566: Theta\n",
            "Model Number: 567 with model Theta in generation 6 of 10\n",
            "Template Eval Error: ModuleNotFoundError(\"No module named 'statsmodels.tsa.forecasting'\") in model 567: Theta\n",
            "Model Number: 568 with model Theta in generation 6 of 10\n",
            "Template Eval Error: ModuleNotFoundError(\"No module named 'statsmodels.tsa.forecasting'\") in model 568: Theta\n",
            "Model Number: 569 with model ARDL in generation 6 of 10\n",
            "Template Eval Error: ImportError(\"cannot import name 'ARDL' from 'statsmodels.tsa.api' (/usr/local/lib/python3.7/dist-packages/statsmodels/tsa/api.py)\") in model 569: ARDL\n",
            "Model Number: 570 with model ARDL in generation 6 of 10\n",
            "Template Eval Error: ValueError(\"regression_type='User' but future_regressor not supplied\") in model 570: ARDL\n",
            "Model Number: 571 with model ARDL in generation 6 of 10\n",
            "Template Eval Error: ValueError(\"regression_type='User' but future_regressor not supplied\") in model 571: ARDL\n",
            "Model Number: 572 with model ARDL in generation 6 of 10\n",
            "Template Eval Error: ValueError(\"regression_type='User' but future_regressor not supplied\") in model 572: ARDL\n",
            "New Generation: 7 of 10\n",
            "Model Number: 573 with model SectionalMotif in generation 7 of 10\n",
            "Model Number: 574 with model SectionalMotif in generation 7 of 10\n",
            "Template Eval Error: ValueError(\"regression_type=='User' but no future_regressor supplied\") in model 574: SectionalMotif\n",
            "Model Number: 575 with model SectionalMotif in generation 7 of 10\n",
            "Model Number: 576 with model SectionalMotif in generation 7 of 10\n",
            "Template Eval Error: ImportError(\"cannot import name 'STL' from 'statsmodels.tsa.seasonal' (/usr/local/lib/python3.7/dist-packages/statsmodels/tsa/seasonal.py)\") in model 576: SectionalMotif\n",
            "Model Number: 577 with model NVAR in generation 7 of 10\n",
            "Model Number: 578 with model NVAR in generation 7 of 10\n",
            "Model Number: 579 with model NVAR in generation 7 of 10\n",
            "Model Number: 580 with model NVAR in generation 7 of 10\n",
            "Model Number: 581 with model FBProphet in generation 7 of 10\n"
          ]
        },
        {
          "output_type": "stream",
          "name": "stderr",
          "text": [
            "INFO:fbprophet:Disabling yearly seasonality. Run prophet with yearly_seasonality=True to override this.\n",
            "INFO:fbprophet:Disabling daily seasonality. Run prophet with daily_seasonality=True to override this.\n",
            "INFO:fbprophet:Disabling yearly seasonality. Run prophet with yearly_seasonality=True to override this.\n",
            "INFO:fbprophet:Disabling daily seasonality. Run prophet with daily_seasonality=True to override this.\n"
          ]
        },
        {
          "output_type": "stream",
          "name": "stdout",
          "text": [
            "Model Number: 582 with model FBProphet in generation 7 of 10\n"
          ]
        },
        {
          "output_type": "stream",
          "name": "stderr",
          "text": [
            "INFO:fbprophet:Disabling yearly seasonality. Run prophet with yearly_seasonality=True to override this.\n",
            "INFO:fbprophet:Disabling daily seasonality. Run prophet with daily_seasonality=True to override this.\n"
          ]
        },
        {
          "output_type": "stream",
          "name": "stdout",
          "text": [
            "Model Number: 583 with model FBProphet in generation 7 of 10\n",
            "Model Number: 584 with model AverageValueNaive in generation 7 of 10\n",
            "Model Number: 585 with model AverageValueNaive in generation 7 of 10\n",
            "Model Number: 586 with model AverageValueNaive in generation 7 of 10\n",
            "Model Number: 587 with model DatepartRegression in generation 7 of 10\n",
            "Template Eval Error: ValueError(\"regression_type='User' but no future_regressor passed\") in model 587: DatepartRegression\n",
            "Model Number: 588 with model DatepartRegression in generation 7 of 10\n",
            "Template Eval Error: ValueError('Model DatepartRegression returned NaN for one or more series') in model 588: DatepartRegression\n",
            "Model Number: 589 with model DatepartRegression in generation 7 of 10\n",
            "Template Eval Error: ValueError(\"regression_type='User' but no future_regressor passed\") in model 589: DatepartRegression\n",
            "Model Number: 590 with model SeasonalNaive in generation 7 of 10\n"
          ]
        },
        {
          "output_type": "stream",
          "name": "stderr",
          "text": [
            "/usr/local/lib/python3.7/dist-packages/sklearn/neighbors/_regression.py:470: UserWarning:\n",
            "\n",
            "One or more samples have no neighbors within specified radius; predicting NaN.\n",
            "\n"
          ]
        },
        {
          "output_type": "stream",
          "name": "stdout",
          "text": [
            "Model Number: 591 with model SeasonalNaive in generation 7 of 10\n",
            "Model Number: 592 with model SeasonalNaive in generation 7 of 10\n",
            "Model Number: 593 with model SeasonalNaive in generation 7 of 10\n",
            "Model Number: 594 with model LastValueNaive in generation 7 of 10\n",
            "Model Number: 595 with model LastValueNaive in generation 7 of 10\n",
            "Model Number: 596 with model LastValueNaive in generation 7 of 10\n",
            "Model Number: 597 with model UnobservedComponents in generation 7 of 10\n",
            "Model Number: 598 with model UnobservedComponents in generation 7 of 10\n",
            "Model Number: 599 with model UnobservedComponents in generation 7 of 10\n",
            "Model Number: 600 with model WindowRegression in generation 7 of 10\n"
          ]
        },
        {
          "output_type": "stream",
          "name": "stderr",
          "text": [
            "/usr/local/lib/python3.7/dist-packages/sklearn/neighbors/_regression.py:470: UserWarning:\n",
            "\n",
            "One or more samples have no neighbors within specified radius; predicting NaN.\n",
            "\n"
          ]
        },
        {
          "output_type": "stream",
          "name": "stdout",
          "text": [
            "Template Eval Error: ValueError(\"Input contains NaN, infinity or a value too large for dtype('float64').\") in model 600: WindowRegression\n",
            "Model Number: 601 with model WindowRegression in generation 7 of 10\n",
            "Model Number: 602 with model WindowRegression in generation 7 of 10\n",
            "Model Number: 603 with model GLM in generation 7 of 10\n",
            "Model Number: 604 with model GLM in generation 7 of 10\n"
          ]
        },
        {
          "output_type": "stream",
          "name": "stderr",
          "text": [
            "/usr/local/lib/python3.7/dist-packages/statsmodels/genmod/generalized_linear_model.py:273: DomainWarning:\n",
            "\n",
            "The inverse_power link function does not respect the domain of the Gamma family.\n",
            "\n"
          ]
        },
        {
          "output_type": "stream",
          "name": "stdout",
          "text": [
            "Model Number: 605 with model GLM in generation 7 of 10\n",
            "Model Number: 606 with model GLM in generation 7 of 10\n",
            "Template Eval Error: ValueError('The first guess on the deviance function returned a nan.  This could be a boundary  problem and should be reported.') in model 606: GLM\n",
            "Model Number: 607 with model ETS in generation 7 of 10\n",
            "Model Number: 608 with model ETS in generation 7 of 10\n"
          ]
        },
        {
          "output_type": "stream",
          "name": "stderr",
          "text": [
            "/usr/local/lib/python3.7/dist-packages/statsmodels/genmod/families/family.py:1227: RuntimeWarning:\n",
            "\n",
            "invalid value encountered in log\n",
            "\n"
          ]
        },
        {
          "output_type": "stream",
          "name": "stdout",
          "text": [
            "Model Number: 609 with model ETS in generation 7 of 10\n",
            "Model Number: 610 with model ZeroesNaive in generation 7 of 10\n",
            "Model Number: 611 with model ZeroesNaive in generation 7 of 10\n",
            "Model Number: 612 with model ZeroesNaive in generation 7 of 10\n",
            "Model Number: 613 with model GLS in generation 7 of 10\n",
            "Model Number: 614 with model GLS in generation 7 of 10\n",
            "Model Number: 615 with model GLS in generation 7 of 10\n",
            "Model Number: 616 with model GluonTS in generation 7 of 10\n",
            "Template Eval Error: ImportError('GluonTS installation not found or installed version is incompatible with AutoTS.') in model 616: GluonTS\n",
            "Model Number: 617 with model GluonTS in generation 7 of 10\n",
            "Template Eval Error: ImportError('GluonTS installation not found or installed version is incompatible with AutoTS.') in model 617: GluonTS\n",
            "Model Number: 618 with model GluonTS in generation 7 of 10\n",
            "Template Eval Error: ImportError('GluonTS installation not found or installed version is incompatible with AutoTS.') in model 618: GluonTS\n",
            "Model Number: 619 with model GluonTS in generation 7 of 10\n",
            "Template Eval Error: ImportError('GluonTS installation not found or installed version is incompatible with AutoTS.') in model 619: GluonTS\n",
            "Model Number: 620 with model VAR in generation 7 of 10\n",
            "Template Eval Error: ValueError('Only gave one variable to VAR') in model 620: VAR\n",
            "Model Number: 621 with model VAR in generation 7 of 10\n",
            "Template Eval Error: ValueError('Only gave one variable to VAR') in model 621: VAR\n",
            "Model Number: 622 with model VAR in generation 7 of 10\n",
            "Template Eval Error: ValueError('Only gave one variable to VAR') in model 622: VAR\n",
            "Model Number: 623 with model VECM in generation 7 of 10\n",
            "Template Eval Error: ValueError('Only gave one variable to VECM') in model 623: VECM\n",
            "Model Number: 624 with model VECM in generation 7 of 10\n",
            "Template Eval Error: ValueError('Only gave one variable to VECM') in model 624: VECM\n",
            "Model Number: 625 with model VECM in generation 7 of 10\n",
            "Template Eval Error: ValueError('Only gave one variable to VECM') in model 625: VECM\n",
            "Model Number: 626 with model VECM in generation 7 of 10\n",
            "Template Eval Error: ValueError('Only gave one variable to VECM') in model 626: VECM\n",
            "Model Number: 627 with model UnivariateMotif in generation 7 of 10\n",
            "Template Eval Error: AttributeError(\"module 'numpy.lib.stride_tricks' has no attribute 'sliding_window_view'\") in model 627: UnivariateMotif\n",
            "Model Number: 628 with model UnivariateMotif in generation 7 of 10\n",
            "Template Eval Error: AttributeError(\"module 'numpy.lib.stride_tricks' has no attribute 'sliding_window_view'\") in model 628: UnivariateMotif\n",
            "Model Number: 629 with model UnivariateMotif in generation 7 of 10\n",
            "Template Eval Error: AttributeError(\"module 'numpy.lib.stride_tricks' has no attribute 'sliding_window_view'\") in model 629: UnivariateMotif\n",
            "Model Number: 630 with model UnivariateMotif in generation 7 of 10\n",
            "Template Eval Error: AttributeError(\"module 'numpy.lib.stride_tricks' has no attribute 'sliding_window_view'\") in model 630: UnivariateMotif\n",
            "Model Number: 631 with model MultivariateMotif in generation 7 of 10\n",
            "Template Eval Error: ImportError(\"cannot import name 'STL' from 'statsmodels.tsa.seasonal' (/usr/local/lib/python3.7/dist-packages/statsmodels/tsa/seasonal.py)\") in model 631: MultivariateMotif\n",
            "Model Number: 632 with model MultivariateMotif in generation 7 of 10\n",
            "Template Eval Error: AttributeError(\"module 'numpy.lib.stride_tricks' has no attribute 'sliding_window_view'\") in model 632: MultivariateMotif\n",
            "Model Number: 633 with model MultivariateMotif in generation 7 of 10\n",
            "Template Eval Error: ImportError(\"cannot import name 'STL' from 'statsmodels.tsa.seasonal' (/usr/local/lib/python3.7/dist-packages/statsmodels/tsa/seasonal.py)\") in model 633: MultivariateMotif\n",
            "Model Number: 634 with model MultivariateMotif in generation 7 of 10\n",
            "Template Eval Error: ImportError(\"cannot import name 'STL' from 'statsmodels.tsa.seasonal' (/usr/local/lib/python3.7/dist-packages/statsmodels/tsa/seasonal.py)\") in model 634: MultivariateMotif\n",
            "Model Number: 635 with model Theta in generation 7 of 10\n",
            "Template Eval Error: ModuleNotFoundError(\"No module named 'statsmodels.tsa.forecasting'\") in model 635: Theta\n",
            "Model Number: 636 with model Theta in generation 7 of 10\n",
            "Template Eval Error: ModuleNotFoundError(\"No module named 'statsmodels.tsa.forecasting'\") in model 636: Theta\n",
            "Model Number: 637 with model Theta in generation 7 of 10\n",
            "Template Eval Error: ModuleNotFoundError(\"No module named 'statsmodels.tsa.forecasting'\") in model 637: Theta\n",
            "Model Number: 638 with model Theta in generation 7 of 10\n",
            "Template Eval Error: ModuleNotFoundError(\"No module named 'statsmodels.tsa.forecasting'\") in model 638: Theta\n",
            "Model Number: 639 with model ARDL in generation 7 of 10\n",
            "Template Eval Error: ValueError(\"regression_type='User' but future_regressor not supplied\") in model 639: ARDL\n",
            "Model Number: 640 with model ARDL in generation 7 of 10\n",
            "Template Eval Error: ValueError(\"regression_type='User' but future_regressor not supplied\") in model 640: ARDL\n",
            "Model Number: 641 with model ARDL in generation 7 of 10\n",
            "Template Eval Error: ImportError(\"cannot import name 'ARDL' from 'statsmodels.tsa.api' (/usr/local/lib/python3.7/dist-packages/statsmodels/tsa/api.py)\") in model 641: ARDL\n",
            "Model Number: 642 with model ARDL in generation 7 of 10\n",
            "Template Eval Error: ValueError(\"regression_type='User' but future_regressor not supplied\") in model 642: ARDL\n",
            "New Generation: 8 of 10\n",
            "Model Number: 643 with model SectionalMotif in generation 8 of 10\n",
            "Template Eval Error: ValueError('kth(=100) out of bounds (18)') in model 643: SectionalMotif\n",
            "Model Number: 644 with model SectionalMotif in generation 8 of 10\n",
            "Model Number: 645 with model SectionalMotif in generation 8 of 10\n",
            "Model Number: 646 with model SectionalMotif in generation 8 of 10\n",
            "Model Number: 647 with model AverageValueNaive in generation 8 of 10\n",
            "Model Number: 648 with model AverageValueNaive in generation 8 of 10\n",
            "Model Number: 649 with model AverageValueNaive in generation 8 of 10\n",
            "Model Number: 650 with model NVAR in generation 8 of 10\n",
            "Model Number: 651 with model NVAR in generation 8 of 10\n",
            "Model Number: 652 with model NVAR in generation 8 of 10\n",
            "Model Number: 653 with model NVAR in generation 8 of 10\n",
            "Model Number: 654 with model FBProphet in generation 8 of 10\n"
          ]
        },
        {
          "output_type": "stream",
          "name": "stderr",
          "text": [
            "INFO:fbprophet:Disabling yearly seasonality. Run prophet with yearly_seasonality=True to override this.\n",
            "INFO:fbprophet:Disabling daily seasonality. Run prophet with daily_seasonality=True to override this.\n",
            "INFO:fbprophet:Disabling yearly seasonality. Run prophet with yearly_seasonality=True to override this.\n",
            "INFO:fbprophet:Disabling daily seasonality. Run prophet with daily_seasonality=True to override this.\n"
          ]
        },
        {
          "output_type": "stream",
          "name": "stdout",
          "text": [
            "Model Number: 655 with model FBProphet in generation 8 of 10\n"
          ]
        },
        {
          "output_type": "stream",
          "name": "stderr",
          "text": [
            "INFO:fbprophet:Disabling yearly seasonality. Run prophet with yearly_seasonality=True to override this.\n",
            "INFO:fbprophet:Disabling daily seasonality. Run prophet with daily_seasonality=True to override this.\n"
          ]
        },
        {
          "output_type": "stream",
          "name": "stdout",
          "text": [
            "Model Number: 656 with model FBProphet in generation 8 of 10\n"
          ]
        },
        {
          "output_type": "stream",
          "name": "stderr",
          "text": [
            "INFO:fbprophet:Disabling yearly seasonality. Run prophet with yearly_seasonality=True to override this.\n",
            "INFO:fbprophet:Disabling daily seasonality. Run prophet with daily_seasonality=True to override this.\n"
          ]
        },
        {
          "output_type": "stream",
          "name": "stdout",
          "text": [
            "Model Number: 657 with model FBProphet in generation 8 of 10\n",
            "Model Number: 658 with model DatepartRegression in generation 8 of 10\n",
            "Template Eval Error: ValueError(\"regression_type='User' but no future_regressor passed\") in model 658: DatepartRegression\n",
            "Model Number: 659 with model DatepartRegression in generation 8 of 10\n",
            "Model Number: 660 with model DatepartRegression in generation 8 of 10\n",
            "Template Eval Error: ValueError(\"regression_type='User' but no future_regressor passed\") in model 660: DatepartRegression\n",
            "Model Number: 661 with model GLM in generation 8 of 10\n",
            "Template Eval Error: ValueError('NaN, inf or invalid value detected in weights, estimation infeasible.') in model 661: GLM\n",
            "Model Number: 662 with model GLM in generation 8 of 10\n",
            "Template Eval Error: ValueError('NaN, inf or invalid value detected in weights, estimation infeasible.') in model 662: GLM\n",
            "Model Number: 663 with model GLM in generation 8 of 10\n",
            "Model Number: 664 with model GLM in generation 8 of 10\n"
          ]
        },
        {
          "output_type": "stream",
          "name": "stderr",
          "text": [
            "/usr/local/lib/python3.7/dist-packages/statsmodels/genmod/families/family.py:428: RuntimeWarning:\n",
            "\n",
            "divide by zero encountered in true_divide\n",
            "\n",
            "/usr/local/lib/python3.7/dist-packages/statsmodels/genmod/families/family.py:134: RuntimeWarning:\n",
            "\n",
            "divide by zero encountered in true_divide\n",
            "\n",
            "/usr/local/lib/python3.7/dist-packages/statsmodels/genmod/families/links.py:521: RuntimeWarning:\n",
            "\n",
            "overflow encountered in exp\n",
            "\n",
            "/usr/local/lib/python3.7/dist-packages/statsmodels/genmod/families/family.py:134: RuntimeWarning:\n",
            "\n",
            "invalid value encountered in multiply\n",
            "\n",
            "/usr/local/lib/python3.7/dist-packages/statsmodels/genmod/generalized_linear_model.py:1163: RuntimeWarning:\n",
            "\n",
            "invalid value encountered in multiply\n",
            "\n"
          ]
        },
        {
          "output_type": "stream",
          "name": "stdout",
          "text": [
            "Model Number: 665 with model SeasonalNaive in generation 8 of 10\n",
            "Model Number: 666 with model SeasonalNaive in generation 8 of 10\n",
            "Model Number: 667 with model SeasonalNaive in generation 8 of 10\n",
            "Model Number: 668 with model SeasonalNaive in generation 8 of 10\n",
            "Model Number: 669 with model LastValueNaive in generation 8 of 10\n",
            "Model Number: 670 with model LastValueNaive in generation 8 of 10\n",
            "Model Number: 671 with model LastValueNaive in generation 8 of 10\n",
            "Model Number: 672 with model UnobservedComponents in generation 8 of 10\n",
            "Model Number: 673 with model UnobservedComponents in generation 8 of 10\n",
            "Model Number: 674 with model UnobservedComponents in generation 8 of 10\n",
            "Model Number: 675 with model WindowRegression in generation 8 of 10\n",
            "Model Number: 676 with model WindowRegression in generation 8 of 10\n",
            "Template Eval Error: ValueError('Found array with 0 sample(s) (shape=(0, 0)) while a minimum of 1 is required.') in model 676: WindowRegression\n",
            "Model Number: 677 with model WindowRegression in generation 8 of 10\n",
            "Model Number: 678 with model ETS in generation 8 of 10\n",
            "Model Number: 679 with model ETS in generation 8 of 10\n",
            "Model Number: 680 with model ETS in generation 8 of 10\n",
            "Model Number: 681 with model ETS in generation 8 of 10\n",
            "Model Number: 682 with model ZeroesNaive in generation 8 of 10\n",
            "Model Number: 683 with model ZeroesNaive in generation 8 of 10\n",
            "Model Number: 684 with model ZeroesNaive in generation 8 of 10\n",
            "Model Number: 685 with model GLS in generation 8 of 10\n",
            "Model Number: 686 with model GLS in generation 8 of 10\n",
            "Model Number: 687 with model GluonTS in generation 8 of 10\n",
            "Template Eval Error: ImportError('GluonTS installation not found or installed version is incompatible with AutoTS.') in model 687: GluonTS\n",
            "Model Number: 688 with model GluonTS in generation 8 of 10\n",
            "Template Eval Error: ImportError('GluonTS installation not found or installed version is incompatible with AutoTS.') in model 688: GluonTS\n",
            "Model Number: 689 with model GluonTS in generation 8 of 10\n",
            "Template Eval Error: ImportError(\"cannot import name 'STL' from 'statsmodels.tsa.seasonal' (/usr/local/lib/python3.7/dist-packages/statsmodels/tsa/seasonal.py)\") in model 689: GluonTS\n",
            "Model Number: 690 with model GluonTS in generation 8 of 10\n",
            "Template Eval Error: ImportError('GluonTS installation not found or installed version is incompatible with AutoTS.') in model 690: GluonTS\n",
            "Model Number: 691 with model VAR in generation 8 of 10\n",
            "Template Eval Error: ValueError('Only gave one variable to VAR') in model 691: VAR\n",
            "Model Number: 692 with model VAR in generation 8 of 10\n",
            "Template Eval Error: ValueError('Only gave one variable to VAR') in model 692: VAR\n",
            "Model Number: 693 with model VAR in generation 8 of 10\n",
            "Template Eval Error: ValueError('Only gave one variable to VAR') in model 693: VAR\n",
            "Model Number: 694 with model VECM in generation 8 of 10\n",
            "Template Eval Error: ValueError('Only gave one variable to VECM') in model 694: VECM\n",
            "Model Number: 695 with model VECM in generation 8 of 10\n",
            "Template Eval Error: ValueError('Only gave one variable to VECM') in model 695: VECM\n",
            "Model Number: 696 with model VECM in generation 8 of 10\n",
            "Template Eval Error: ValueError('Only gave one variable to VECM') in model 696: VECM\n",
            "Model Number: 697 with model VECM in generation 8 of 10\n",
            "Template Eval Error: ValueError('Only gave one variable to VECM') in model 697: VECM\n",
            "Model Number: 698 with model UnivariateMotif in generation 8 of 10\n",
            "Template Eval Error: AttributeError(\"module 'numpy.lib.stride_tricks' has no attribute 'sliding_window_view'\") in model 698: UnivariateMotif\n",
            "Model Number: 699 with model UnivariateMotif in generation 8 of 10\n",
            "Template Eval Error: AttributeError(\"module 'numpy.lib.stride_tricks' has no attribute 'sliding_window_view'\") in model 699: UnivariateMotif\n",
            "Model Number: 700 with model UnivariateMotif in generation 8 of 10\n",
            "Template Eval Error: AttributeError(\"module 'numpy.lib.stride_tricks' has no attribute 'sliding_window_view'\") in model 700: UnivariateMotif\n",
            "Model Number: 701 with model UnivariateMotif in generation 8 of 10\n",
            "Template Eval Error: AttributeError(\"module 'numpy.lib.stride_tricks' has no attribute 'sliding_window_view'\") in model 701: UnivariateMotif\n",
            "Model Number: 702 with model MultivariateMotif in generation 8 of 10\n",
            "Template Eval Error: ImportError(\"cannot import name 'STL' from 'statsmodels.tsa.seasonal' (/usr/local/lib/python3.7/dist-packages/statsmodels/tsa/seasonal.py)\") in model 702: MultivariateMotif\n",
            "Model Number: 703 with model MultivariateMotif in generation 8 of 10\n",
            "Template Eval Error: AttributeError(\"module 'numpy.lib.stride_tricks' has no attribute 'sliding_window_view'\") in model 703: MultivariateMotif\n",
            "Model Number: 704 with model MultivariateMotif in generation 8 of 10\n",
            "Template Eval Error: AttributeError(\"module 'numpy.lib.stride_tricks' has no attribute 'sliding_window_view'\") in model 704: MultivariateMotif\n",
            "Model Number: 705 with model MultivariateMotif in generation 8 of 10\n",
            "Template Eval Error: AttributeError(\"module 'numpy.lib.stride_tricks' has no attribute 'sliding_window_view'\") in model 705: MultivariateMotif\n",
            "Model Number: 706 with model Theta in generation 8 of 10\n",
            "Template Eval Error: ModuleNotFoundError(\"No module named 'statsmodels.tsa.forecasting'\") in model 706: Theta\n",
            "Model Number: 707 with model Theta in generation 8 of 10\n",
            "Template Eval Error: ModuleNotFoundError(\"No module named 'statsmodels.tsa.forecasting'\") in model 707: Theta\n",
            "Model Number: 708 with model Theta in generation 8 of 10\n",
            "Template Eval Error: ModuleNotFoundError(\"No module named 'statsmodels.tsa.forecasting'\") in model 708: Theta\n",
            "Model Number: 709 with model Theta in generation 8 of 10\n",
            "Template Eval Error: ModuleNotFoundError(\"No module named 'statsmodels.tsa.forecasting'\") in model 709: Theta\n",
            "Model Number: 710 with model ARDL in generation 8 of 10\n",
            "Template Eval Error: ImportError(\"cannot import name 'ARDL' from 'statsmodels.tsa.api' (/usr/local/lib/python3.7/dist-packages/statsmodels/tsa/api.py)\") in model 710: ARDL\n",
            "Model Number: 711 with model ARDL in generation 8 of 10\n",
            "Template Eval Error: ValueError(\"regression_type='User' but future_regressor not supplied\") in model 711: ARDL\n",
            "Model Number: 712 with model ARDL in generation 8 of 10\n",
            "Template Eval Error: ValueError(\"regression_type='User' but future_regressor not supplied\") in model 712: ARDL\n",
            "Model Number: 713 with model ARDL in generation 8 of 10\n",
            "Template Eval Error: ValueError(\"regression_type='User' but future_regressor not supplied\") in model 713: ARDL\n",
            "New Generation: 9 of 10\n",
            "Model Number: 714 with model SectionalMotif in generation 9 of 10\n",
            "Model Number: 715 with model SectionalMotif in generation 9 of 10\n",
            "Template Eval Error: ValueError(\"regression_type=='User' but no future_regressor supplied\") in model 715: SectionalMotif\n",
            "Model Number: 716 with model SectionalMotif in generation 9 of 10\n",
            "Model Number: 717 with model SectionalMotif in generation 9 of 10\n",
            "Template Eval Error: ValueError(\"regression_type=='User' but no future_regressor supplied\") in model 717: SectionalMotif\n",
            "Model Number: 718 with model AverageValueNaive in generation 9 of 10\n",
            "Model Number: 719 with model AverageValueNaive in generation 9 of 10\n",
            "Model Number: 720 with model AverageValueNaive in generation 9 of 10\n",
            "Model Number: 721 with model NVAR in generation 9 of 10\n",
            "Model Number: 722 with model NVAR in generation 9 of 10\n",
            "Model Number: 723 with model NVAR in generation 9 of 10\n",
            "Model Number: 724 with model NVAR in generation 9 of 10\n",
            "Model Number: 725 with model FBProphet in generation 9 of 10\n"
          ]
        },
        {
          "output_type": "stream",
          "name": "stderr",
          "text": [
            "INFO:fbprophet:Disabling yearly seasonality. Run prophet with yearly_seasonality=True to override this.\n",
            "INFO:fbprophet:Disabling daily seasonality. Run prophet with daily_seasonality=True to override this.\n",
            "INFO:fbprophet:Disabling yearly seasonality. Run prophet with yearly_seasonality=True to override this.\n",
            "INFO:fbprophet:Disabling daily seasonality. Run prophet with daily_seasonality=True to override this.\n"
          ]
        },
        {
          "output_type": "stream",
          "name": "stdout",
          "text": [
            "Model Number: 726 with model FBProphet in generation 9 of 10\n"
          ]
        },
        {
          "output_type": "stream",
          "name": "stderr",
          "text": [
            "INFO:fbprophet:Disabling yearly seasonality. Run prophet with yearly_seasonality=True to override this.\n",
            "INFO:fbprophet:Disabling daily seasonality. Run prophet with daily_seasonality=True to override this.\n"
          ]
        },
        {
          "output_type": "stream",
          "name": "stdout",
          "text": [
            "Model Number: 727 with model FBProphet in generation 9 of 10\n",
            "Model Number: 728 with model DatepartRegression in generation 9 of 10\n",
            "Model Number: 729 with model DatepartRegression in generation 9 of 10\n"
          ]
        },
        {
          "output_type": "stream",
          "name": "stderr",
          "text": [
            "[Parallel(n_jobs=1)]: Using backend SequentialBackend with 1 concurrent workers.\n",
            "[Parallel(n_jobs=1)]: Done 300 out of 300 | elapsed:    0.3s finished\n",
            "[Parallel(n_jobs=1)]: Using backend SequentialBackend with 1 concurrent workers.\n",
            "[Parallel(n_jobs=1)]: Done 300 out of 300 | elapsed:    0.0s finished\n",
            "/usr/local/lib/python3.7/dist-packages/sklearn/svm/_base.py:1208: ConvergenceWarning:\n",
            "\n",
            "Liblinear failed to converge, increase the number of iterations.\n",
            "\n"
          ]
        },
        {
          "output_type": "stream",
          "name": "stdout",
          "text": [
            "Model Number: 730 with model DatepartRegression in generation 9 of 10\n",
            "[LibLinear][LibLinear][LibLinear][LibLinear][LibLinear][LibLinear][LibLinear][LibLinear]"
          ]
        },
        {
          "output_type": "stream",
          "name": "stderr",
          "text": [
            "/usr/local/lib/python3.7/dist-packages/sklearn/svm/_base.py:1208: ConvergenceWarning:\n",
            "\n",
            "Liblinear failed to converge, increase the number of iterations.\n",
            "\n",
            "/usr/local/lib/python3.7/dist-packages/sklearn/svm/_base.py:1208: ConvergenceWarning:\n",
            "\n",
            "Liblinear failed to converge, increase the number of iterations.\n",
            "\n",
            "/usr/local/lib/python3.7/dist-packages/sklearn/svm/_base.py:1208: ConvergenceWarning:\n",
            "\n",
            "Liblinear failed to converge, increase the number of iterations.\n",
            "\n",
            "/usr/local/lib/python3.7/dist-packages/sklearn/svm/_base.py:1208: ConvergenceWarning:\n",
            "\n",
            "Liblinear failed to converge, increase the number of iterations.\n",
            "\n",
            "/usr/local/lib/python3.7/dist-packages/sklearn/svm/_base.py:1208: ConvergenceWarning:\n",
            "\n",
            "Liblinear failed to converge, increase the number of iterations.\n",
            "\n",
            "/usr/local/lib/python3.7/dist-packages/sklearn/svm/_base.py:1208: ConvergenceWarning:\n",
            "\n",
            "Liblinear failed to converge, increase the number of iterations.\n",
            "\n",
            "/usr/local/lib/python3.7/dist-packages/sklearn/svm/_base.py:1208: ConvergenceWarning:\n",
            "\n",
            "Liblinear failed to converge, increase the number of iterations.\n",
            "\n",
            "/usr/local/lib/python3.7/dist-packages/sklearn/svm/_base.py:1208: ConvergenceWarning:\n",
            "\n",
            "Liblinear failed to converge, increase the number of iterations.\n",
            "\n",
            "/usr/local/lib/python3.7/dist-packages/sklearn/svm/_base.py:1208: ConvergenceWarning:\n",
            "\n",
            "Liblinear failed to converge, increase the number of iterations.\n",
            "\n"
          ]
        },
        {
          "output_type": "stream",
          "name": "stdout",
          "text": [
            "[LibLinear][LibLinear][LibLinear][LibLinear][LibLinear][LibLinear][LibLinear][LibLinear]"
          ]
        },
        {
          "output_type": "stream",
          "name": "stderr",
          "text": [
            "/usr/local/lib/python3.7/dist-packages/sklearn/svm/_base.py:1208: ConvergenceWarning:\n",
            "\n",
            "Liblinear failed to converge, increase the number of iterations.\n",
            "\n",
            "/usr/local/lib/python3.7/dist-packages/sklearn/svm/_base.py:1208: ConvergenceWarning:\n",
            "\n",
            "Liblinear failed to converge, increase the number of iterations.\n",
            "\n",
            "/usr/local/lib/python3.7/dist-packages/sklearn/svm/_base.py:1208: ConvergenceWarning:\n",
            "\n",
            "Liblinear failed to converge, increase the number of iterations.\n",
            "\n",
            "/usr/local/lib/python3.7/dist-packages/sklearn/svm/_base.py:1208: ConvergenceWarning:\n",
            "\n",
            "Liblinear failed to converge, increase the number of iterations.\n",
            "\n",
            "/usr/local/lib/python3.7/dist-packages/sklearn/svm/_base.py:1208: ConvergenceWarning:\n",
            "\n",
            "Liblinear failed to converge, increase the number of iterations.\n",
            "\n",
            "/usr/local/lib/python3.7/dist-packages/sklearn/svm/_base.py:1208: ConvergenceWarning:\n",
            "\n",
            "Liblinear failed to converge, increase the number of iterations.\n",
            "\n",
            "/usr/local/lib/python3.7/dist-packages/sklearn/svm/_base.py:1208: ConvergenceWarning:\n",
            "\n",
            "Liblinear failed to converge, increase the number of iterations.\n",
            "\n",
            "/usr/local/lib/python3.7/dist-packages/sklearn/svm/_base.py:1208: ConvergenceWarning:\n",
            "\n",
            "Liblinear failed to converge, increase the number of iterations.\n",
            "\n"
          ]
        },
        {
          "output_type": "stream",
          "name": "stdout",
          "text": [
            "[LibLinear][LibLinear][LibLinear][LibLinear][LibLinear][LibLinear][LibLinear][LibLinear][LibLinear]"
          ]
        },
        {
          "output_type": "stream",
          "name": "stderr",
          "text": [
            "/usr/local/lib/python3.7/dist-packages/sklearn/svm/_base.py:1208: ConvergenceWarning:\n",
            "\n",
            "Liblinear failed to converge, increase the number of iterations.\n",
            "\n",
            "/usr/local/lib/python3.7/dist-packages/sklearn/svm/_base.py:1208: ConvergenceWarning:\n",
            "\n",
            "Liblinear failed to converge, increase the number of iterations.\n",
            "\n",
            "/usr/local/lib/python3.7/dist-packages/sklearn/svm/_base.py:1208: ConvergenceWarning:\n",
            "\n",
            "Liblinear failed to converge, increase the number of iterations.\n",
            "\n",
            "/usr/local/lib/python3.7/dist-packages/sklearn/svm/_base.py:1208: ConvergenceWarning:\n",
            "\n",
            "Liblinear failed to converge, increase the number of iterations.\n",
            "\n",
            "/usr/local/lib/python3.7/dist-packages/sklearn/svm/_base.py:1208: ConvergenceWarning:\n",
            "\n",
            "Liblinear failed to converge, increase the number of iterations.\n",
            "\n",
            "/usr/local/lib/python3.7/dist-packages/sklearn/svm/_base.py:1208: ConvergenceWarning:\n",
            "\n",
            "Liblinear failed to converge, increase the number of iterations.\n",
            "\n",
            "/usr/local/lib/python3.7/dist-packages/sklearn/svm/_base.py:1208: ConvergenceWarning:\n",
            "\n",
            "Liblinear failed to converge, increase the number of iterations.\n",
            "\n",
            "/usr/local/lib/python3.7/dist-packages/sklearn/svm/_base.py:1208: ConvergenceWarning:\n",
            "\n",
            "Liblinear failed to converge, increase the number of iterations.\n",
            "\n",
            "/usr/local/lib/python3.7/dist-packages/sklearn/svm/_base.py:1208: ConvergenceWarning:\n",
            "\n",
            "Liblinear failed to converge, increase the number of iterations.\n",
            "\n"
          ]
        },
        {
          "output_type": "stream",
          "name": "stdout",
          "text": [
            "[LibLinear][LibLinear][LibLinear][LibLinear][LibLinear][LibLinear][LibLinear][LibLinear][LibLinear][LibLinear]"
          ]
        },
        {
          "output_type": "stream",
          "name": "stderr",
          "text": [
            "/usr/local/lib/python3.7/dist-packages/sklearn/svm/_base.py:1208: ConvergenceWarning:\n",
            "\n",
            "Liblinear failed to converge, increase the number of iterations.\n",
            "\n",
            "/usr/local/lib/python3.7/dist-packages/sklearn/svm/_base.py:1208: ConvergenceWarning:\n",
            "\n",
            "Liblinear failed to converge, increase the number of iterations.\n",
            "\n",
            "/usr/local/lib/python3.7/dist-packages/sklearn/svm/_base.py:1208: ConvergenceWarning:\n",
            "\n",
            "Liblinear failed to converge, increase the number of iterations.\n",
            "\n",
            "/usr/local/lib/python3.7/dist-packages/sklearn/svm/_base.py:1208: ConvergenceWarning:\n",
            "\n",
            "Liblinear failed to converge, increase the number of iterations.\n",
            "\n",
            "/usr/local/lib/python3.7/dist-packages/sklearn/svm/_base.py:1208: ConvergenceWarning:\n",
            "\n",
            "Liblinear failed to converge, increase the number of iterations.\n",
            "\n",
            "/usr/local/lib/python3.7/dist-packages/sklearn/svm/_base.py:1208: ConvergenceWarning:\n",
            "\n",
            "Liblinear failed to converge, increase the number of iterations.\n",
            "\n",
            "/usr/local/lib/python3.7/dist-packages/sklearn/svm/_base.py:1208: ConvergenceWarning:\n",
            "\n",
            "Liblinear failed to converge, increase the number of iterations.\n",
            "\n",
            "/usr/local/lib/python3.7/dist-packages/sklearn/svm/_base.py:1208: ConvergenceWarning:\n",
            "\n",
            "Liblinear failed to converge, increase the number of iterations.\n",
            "\n",
            "/usr/local/lib/python3.7/dist-packages/sklearn/svm/_base.py:1208: ConvergenceWarning:\n",
            "\n",
            "Liblinear failed to converge, increase the number of iterations.\n",
            "\n",
            "/usr/local/lib/python3.7/dist-packages/sklearn/svm/_base.py:1208: ConvergenceWarning:\n",
            "\n",
            "Liblinear failed to converge, increase the number of iterations.\n",
            "\n"
          ]
        },
        {
          "output_type": "stream",
          "name": "stdout",
          "text": [
            "[LibLinear][LibLinear][LibLinear][LibLinear][LibLinear][LibLinear][LibLinear][LibLinear][LibLinear][LibLinear]"
          ]
        },
        {
          "output_type": "stream",
          "name": "stderr",
          "text": [
            "/usr/local/lib/python3.7/dist-packages/sklearn/svm/_base.py:1208: ConvergenceWarning:\n",
            "\n",
            "Liblinear failed to converge, increase the number of iterations.\n",
            "\n",
            "/usr/local/lib/python3.7/dist-packages/sklearn/svm/_base.py:1208: ConvergenceWarning:\n",
            "\n",
            "Liblinear failed to converge, increase the number of iterations.\n",
            "\n",
            "/usr/local/lib/python3.7/dist-packages/sklearn/svm/_base.py:1208: ConvergenceWarning:\n",
            "\n",
            "Liblinear failed to converge, increase the number of iterations.\n",
            "\n",
            "/usr/local/lib/python3.7/dist-packages/sklearn/svm/_base.py:1208: ConvergenceWarning:\n",
            "\n",
            "Liblinear failed to converge, increase the number of iterations.\n",
            "\n",
            "/usr/local/lib/python3.7/dist-packages/sklearn/svm/_base.py:1208: ConvergenceWarning:\n",
            "\n",
            "Liblinear failed to converge, increase the number of iterations.\n",
            "\n",
            "/usr/local/lib/python3.7/dist-packages/sklearn/svm/_base.py:1208: ConvergenceWarning:\n",
            "\n",
            "Liblinear failed to converge, increase the number of iterations.\n",
            "\n",
            "/usr/local/lib/python3.7/dist-packages/sklearn/svm/_base.py:1208: ConvergenceWarning:\n",
            "\n",
            "Liblinear failed to converge, increase the number of iterations.\n",
            "\n",
            "/usr/local/lib/python3.7/dist-packages/sklearn/svm/_base.py:1208: ConvergenceWarning:\n",
            "\n",
            "Liblinear failed to converge, increase the number of iterations.\n",
            "\n",
            "/usr/local/lib/python3.7/dist-packages/sklearn/svm/_base.py:1208: ConvergenceWarning:\n",
            "\n",
            "Liblinear failed to converge, increase the number of iterations.\n",
            "\n",
            "/usr/local/lib/python3.7/dist-packages/sklearn/svm/_base.py:1208: ConvergenceWarning:\n",
            "\n",
            "Liblinear failed to converge, increase the number of iterations.\n",
            "\n"
          ]
        },
        {
          "output_type": "stream",
          "name": "stdout",
          "text": [
            "[LibLinear][LibLinear][LibLinear][LibLinear][LibLinear]Model Number: 731 with model GLM in generation 9 of 10\n"
          ]
        },
        {
          "output_type": "stream",
          "name": "stderr",
          "text": [
            "/usr/local/lib/python3.7/dist-packages/sklearn/svm/_base.py:1208: ConvergenceWarning:\n",
            "\n",
            "Liblinear failed to converge, increase the number of iterations.\n",
            "\n",
            "/usr/local/lib/python3.7/dist-packages/sklearn/svm/_base.py:1208: ConvergenceWarning:\n",
            "\n",
            "Liblinear failed to converge, increase the number of iterations.\n",
            "\n",
            "/usr/local/lib/python3.7/dist-packages/sklearn/svm/_base.py:1208: ConvergenceWarning:\n",
            "\n",
            "Liblinear failed to converge, increase the number of iterations.\n",
            "\n",
            "/usr/local/lib/python3.7/dist-packages/statsmodels/genmod/generalized_linear_model.py:273: DomainWarning:\n",
            "\n",
            "The inverse_power link function does not respect the domain of the Gamma family.\n",
            "\n"
          ]
        },
        {
          "output_type": "stream",
          "name": "stdout",
          "text": [
            "Model Number: 732 with model GLM in generation 9 of 10\n",
            "Model Number: 733 with model GLM in generation 9 of 10\n",
            "Model Number: 734 with model GLM in generation 9 of 10\n",
            "Model Number: 735 with model WindowRegression in generation 9 of 10\n",
            "Template Eval Error: ValueError(\"regression_type='User' but no future_regressor passed\") in model 735: WindowRegression\n",
            "Model Number: 736 with model WindowRegression in generation 9 of 10\n"
          ]
        },
        {
          "output_type": "stream",
          "name": "stderr",
          "text": [
            "/usr/local/lib/python3.7/dist-packages/autots/models/sklearn.py:1248: DataConversionWarning:\n",
            "\n",
            "A column-vector y was passed when a 1d array was expected. Please change the shape of y to (n_samples,), for example using ravel().\n",
            "\n"
          ]
        },
        {
          "output_type": "stream",
          "name": "stdout",
          "text": [
            "Model Number: 737 with model WindowRegression in generation 9 of 10\n",
            "Model Number: 738 with model SeasonalNaive in generation 9 of 10\n"
          ]
        },
        {
          "output_type": "stream",
          "name": "stderr",
          "text": [
            "/usr/local/lib/python3.7/dist-packages/sklearn/neural_network/_multilayer_perceptron.py:1599: DataConversionWarning:\n",
            "\n",
            "A column-vector y was passed when a 1d array was expected. Please change the shape of y to (n_samples, ), for example using ravel().\n",
            "\n"
          ]
        },
        {
          "output_type": "stream",
          "name": "stdout",
          "text": [
            "Model Number: 739 with model SeasonalNaive in generation 9 of 10\n",
            "Model Number: 740 with model SeasonalNaive in generation 9 of 10\n",
            "Model Number: 741 with model SeasonalNaive in generation 9 of 10\n",
            "Model Number: 742 with model LastValueNaive in generation 9 of 10\n",
            "Model Number: 743 with model LastValueNaive in generation 9 of 10\n",
            "Model Number: 744 with model LastValueNaive in generation 9 of 10\n",
            "Model Number: 745 with model UnobservedComponents in generation 9 of 10\n",
            "Model Number: 746 with model UnobservedComponents in generation 9 of 10\n",
            "Template Eval Error: ValueError('Provided exogenous values are not of the appropriate shape. Required (10, 1), got (10,).') in model 746: UnobservedComponents\n",
            "Model Number: 747 with model UnobservedComponents in generation 9 of 10\n",
            "Template Eval Error: ValueError(\"regression_type='User' but no future_regressor supplied\") in model 747: UnobservedComponents\n",
            "Model Number: 748 with model ETS in generation 9 of 10\n",
            "Model Number: 749 with model ETS in generation 9 of 10\n",
            "Model Number: 750 with model ETS in generation 9 of 10\n",
            "Model Number: 751 with model ETS in generation 9 of 10\n",
            "Model Number: 752 with model ZeroesNaive in generation 9 of 10\n",
            "Model Number: 753 with model ZeroesNaive in generation 9 of 10\n",
            "Template Eval Error: ImportError(\"cannot import name 'STL' from 'statsmodels.tsa.seasonal' (/usr/local/lib/python3.7/dist-packages/statsmodels/tsa/seasonal.py)\") in model 753: ZeroesNaive\n",
            "Model Number: 754 with model ZeroesNaive in generation 9 of 10\n",
            "Model Number: 755 with model GLS in generation 9 of 10\n",
            "Model Number: 756 with model GLS in generation 9 of 10\n",
            "Model Number: 757 with model GluonTS in generation 9 of 10\n",
            "Template Eval Error: ImportError('GluonTS installation not found or installed version is incompatible with AutoTS.') in model 757: GluonTS\n",
            "Model Number: 758 with model GluonTS in generation 9 of 10\n",
            "Template Eval Error: ImportError('GluonTS installation not found or installed version is incompatible with AutoTS.') in model 758: GluonTS\n",
            "Model Number: 759 with model GluonTS in generation 9 of 10\n",
            "Template Eval Error: ImportError('GluonTS installation not found or installed version is incompatible with AutoTS.') in model 759: GluonTS\n",
            "Model Number: 760 with model GluonTS in generation 9 of 10\n",
            "Template Eval Error: ImportError('GluonTS installation not found or installed version is incompatible with AutoTS.') in model 760: GluonTS\n",
            "Model Number: 761 with model VAR in generation 9 of 10\n",
            "Template Eval Error: ValueError('Only gave one variable to VAR') in model 761: VAR\n",
            "Model Number: 762 with model VAR in generation 9 of 10\n",
            "Template Eval Error: ValueError('Only gave one variable to VAR') in model 762: VAR\n",
            "Model Number: 763 with model VAR in generation 9 of 10\n",
            "Template Eval Error: ValueError('Only gave one variable to VAR') in model 763: VAR\n",
            "Model Number: 764 with model VAR in generation 9 of 10\n",
            "Template Eval Error: ValueError('Only gave one variable to VAR') in model 764: VAR\n",
            "Model Number: 765 with model VECM in generation 9 of 10\n",
            "Template Eval Error: ValueError('Only gave one variable to VECM') in model 765: VECM\n",
            "Model Number: 766 with model VECM in generation 9 of 10\n",
            "Template Eval Error: ValueError('Only gave one variable to VECM') in model 766: VECM\n",
            "Model Number: 767 with model VECM in generation 9 of 10\n",
            "Template Eval Error: ValueError('Only gave one variable to VECM') in model 767: VECM\n",
            "Model Number: 768 with model VECM in generation 9 of 10\n",
            "Template Eval Error: ValueError('Only gave one variable to VECM') in model 768: VECM\n",
            "Model Number: 769 with model UnivariateMotif in generation 9 of 10\n",
            "Template Eval Error: AttributeError(\"module 'numpy.lib.stride_tricks' has no attribute 'sliding_window_view'\") in model 769: UnivariateMotif\n",
            "Model Number: 770 with model UnivariateMotif in generation 9 of 10\n",
            "Template Eval Error: AttributeError(\"module 'numpy.lib.stride_tricks' has no attribute 'sliding_window_view'\") in model 770: UnivariateMotif\n",
            "Model Number: 771 with model UnivariateMotif in generation 9 of 10\n",
            "Template Eval Error: AttributeError(\"module 'numpy.lib.stride_tricks' has no attribute 'sliding_window_view'\") in model 771: UnivariateMotif\n",
            "Model Number: 772 with model UnivariateMotif in generation 9 of 10\n",
            "Template Eval Error: AttributeError(\"module 'numpy.lib.stride_tricks' has no attribute 'sliding_window_view'\") in model 772: UnivariateMotif\n",
            "Model Number: 773 with model MultivariateMotif in generation 9 of 10\n",
            "Template Eval Error: AttributeError(\"module 'numpy.lib.stride_tricks' has no attribute 'sliding_window_view'\") in model 773: MultivariateMotif\n",
            "Model Number: 774 with model MultivariateMotif in generation 9 of 10\n",
            "Template Eval Error: ImportError(\"cannot import name 'STL' from 'statsmodels.tsa.seasonal' (/usr/local/lib/python3.7/dist-packages/statsmodels/tsa/seasonal.py)\") in model 774: MultivariateMotif\n",
            "Model Number: 775 with model MultivariateMotif in generation 9 of 10\n",
            "Template Eval Error: AttributeError(\"module 'numpy.lib.stride_tricks' has no attribute 'sliding_window_view'\") in model 775: MultivariateMotif\n",
            "Model Number: 776 with model MultivariateMotif in generation 9 of 10\n",
            "Template Eval Error: AttributeError(\"module 'numpy.lib.stride_tricks' has no attribute 'sliding_window_view'\") in model 776: MultivariateMotif\n",
            "Model Number: 777 with model Theta in generation 9 of 10\n",
            "Template Eval Error: ModuleNotFoundError(\"No module named 'statsmodels.tsa.forecasting'\") in model 777: Theta\n",
            "Model Number: 778 with model Theta in generation 9 of 10\n",
            "Template Eval Error: ModuleNotFoundError(\"No module named 'statsmodels.tsa.forecasting'\") in model 778: Theta\n",
            "Model Number: 779 with model Theta in generation 9 of 10\n",
            "Template Eval Error: ModuleNotFoundError(\"No module named 'statsmodels.tsa.forecasting'\") in model 779: Theta\n",
            "Model Number: 780 with model Theta in generation 9 of 10\n",
            "Template Eval Error: ModuleNotFoundError(\"No module named 'statsmodels.tsa.forecasting'\") in model 780: Theta\n",
            "Model Number: 781 with model ARDL in generation 9 of 10\n",
            "Template Eval Error: ImportError(\"cannot import name 'ARDL' from 'statsmodels.tsa.api' (/usr/local/lib/python3.7/dist-packages/statsmodels/tsa/api.py)\") in model 781: ARDL\n",
            "Model Number: 782 with model ARDL in generation 9 of 10\n",
            "Template Eval Error: ImportError(\"cannot import name 'ARDL' from 'statsmodels.tsa.api' (/usr/local/lib/python3.7/dist-packages/statsmodels/tsa/api.py)\") in model 782: ARDL\n",
            "Model Number: 783 with model ARDL in generation 9 of 10\n",
            "Template Eval Error: ValueError(\"regression_type='User' but future_regressor not supplied\") in model 783: ARDL\n",
            "Model Number: 784 with model ARDL in generation 9 of 10\n",
            "Template Eval Error: ValueError(\"regression_type='User' but future_regressor not supplied\") in model 784: ARDL\n",
            "New Generation: 10 of 10\n",
            "Model Number: 785 with model SectionalMotif in generation 10 of 10\n",
            "Model Number: 786 with model SectionalMotif in generation 10 of 10\n",
            "Model Number: 787 with model SectionalMotif in generation 10 of 10\n",
            "Template Eval Error: ValueError(\"regression_type=='User' but no future_regressor supplied\") in model 787: SectionalMotif\n",
            "Model Number: 788 with model NVAR in generation 10 of 10\n",
            "Model Number: 789 with model NVAR in generation 10 of 10\n",
            "Model Number: 790 with model NVAR in generation 10 of 10\n",
            "Model Number: 791 with model NVAR in generation 10 of 10\n",
            "Model Number: 792 with model AverageValueNaive in generation 10 of 10\n",
            "Model Number: 793 with model AverageValueNaive in generation 10 of 10\n",
            "Model Number: 794 with model AverageValueNaive in generation 10 of 10\n"
          ]
        },
        {
          "output_type": "stream",
          "name": "stderr",
          "text": [
            "INFO:fbprophet:Disabling yearly seasonality. Run prophet with yearly_seasonality=True to override this.\n"
          ]
        },
        {
          "output_type": "stream",
          "name": "stdout",
          "text": [
            "Model Number: 795 with model FBProphet in generation 10 of 10\n"
          ]
        },
        {
          "output_type": "stream",
          "name": "stderr",
          "text": [
            "INFO:fbprophet:Disabling daily seasonality. Run prophet with daily_seasonality=True to override this.\n",
            "INFO:fbprophet:Disabling yearly seasonality. Run prophet with yearly_seasonality=True to override this.\n",
            "INFO:fbprophet:Disabling daily seasonality. Run prophet with daily_seasonality=True to override this.\n"
          ]
        },
        {
          "output_type": "stream",
          "name": "stdout",
          "text": [
            "Model Number: 796 with model FBProphet in generation 10 of 10\n"
          ]
        },
        {
          "output_type": "stream",
          "name": "stderr",
          "text": [
            "INFO:fbprophet:Disabling yearly seasonality. Run prophet with yearly_seasonality=True to override this.\n",
            "INFO:fbprophet:Disabling daily seasonality. Run prophet with daily_seasonality=True to override this.\n"
          ]
        },
        {
          "output_type": "stream",
          "name": "stdout",
          "text": [
            "Model Number: 797 with model FBProphet in generation 10 of 10\n"
          ]
        },
        {
          "output_type": "stream",
          "name": "stderr",
          "text": [
            "INFO:fbprophet:Disabling yearly seasonality. Run prophet with yearly_seasonality=True to override this.\n",
            "INFO:fbprophet:Disabling daily seasonality. Run prophet with daily_seasonality=True to override this.\n"
          ]
        },
        {
          "output_type": "stream",
          "name": "stdout",
          "text": [
            "Model Number: 798 with model FBProphet in generation 10 of 10\n",
            "Model Number: 799 with model DatepartRegression in generation 10 of 10\n",
            "Template Eval Error: ValueError(\"regression_type='User' but no future_regressor passed\") in model 799: DatepartRegression\n",
            "Model Number: 800 with model DatepartRegression in generation 10 of 10\n",
            "Template Eval Error: ValueError('Model DatepartRegression returned NaN for one or more series') in model 800: DatepartRegression\n",
            "Model Number: 801 with model DatepartRegression in generation 10 of 10\n"
          ]
        },
        {
          "output_type": "stream",
          "name": "stderr",
          "text": [
            "/usr/local/lib/python3.7/dist-packages/sklearn/neighbors/_regression.py:470: UserWarning:\n",
            "\n",
            "One or more samples have no neighbors within specified radius; predicting NaN.\n",
            "\n"
          ]
        },
        {
          "output_type": "stream",
          "name": "stdout",
          "text": [
            "Epoch 1/50\n",
            "12/12 [==============================] - 6s 7ms/step - loss: 0.2945\n",
            "Epoch 2/50\n",
            "12/12 [==============================] - 0s 7ms/step - loss: 0.1785\n",
            "Epoch 3/50\n",
            "12/12 [==============================] - 0s 7ms/step - loss: 0.0926\n",
            "Epoch 4/50\n",
            "12/12 [==============================] - 0s 7ms/step - loss: 0.0899\n",
            "Epoch 5/50\n",
            "12/12 [==============================] - 0s 8ms/step - loss: 0.0809\n",
            "Epoch 6/50\n",
            "12/12 [==============================] - 0s 7ms/step - loss: 0.0843\n",
            "Epoch 7/50\n",
            "12/12 [==============================] - 0s 7ms/step - loss: 0.0786\n",
            "Epoch 8/50\n",
            "12/12 [==============================] - 0s 7ms/step - loss: 0.0819\n",
            "Epoch 9/50\n",
            "12/12 [==============================] - 0s 8ms/step - loss: 0.0830\n",
            "Epoch 10/50\n",
            "12/12 [==============================] - 0s 7ms/step - loss: 0.0831\n",
            "Epoch 11/50\n",
            "12/12 [==============================] - 0s 7ms/step - loss: 0.0780\n",
            "Epoch 12/50\n",
            "12/12 [==============================] - 0s 8ms/step - loss: 0.0777\n",
            "Epoch 13/50\n",
            "12/12 [==============================] - 0s 7ms/step - loss: 0.0798\n",
            "Epoch 14/50\n",
            "12/12 [==============================] - 0s 7ms/step - loss: 0.0772\n",
            "Epoch 15/50\n",
            "12/12 [==============================] - 0s 8ms/step - loss: 0.0824\n",
            "Epoch 16/50\n",
            "12/12 [==============================] - 0s 8ms/step - loss: 0.0752\n",
            "Epoch 17/50\n",
            "12/12 [==============================] - 0s 8ms/step - loss: 0.0783\n",
            "Epoch 18/50\n",
            "12/12 [==============================] - 0s 7ms/step - loss: 0.0760\n",
            "Epoch 19/50\n",
            "12/12 [==============================] - 0s 8ms/step - loss: 0.0797\n",
            "Epoch 20/50\n",
            "12/12 [==============================] - 0s 8ms/step - loss: 0.0712\n",
            "Epoch 21/50\n",
            "12/12 [==============================] - 0s 9ms/step - loss: 0.0743\n",
            "Epoch 22/50\n",
            "12/12 [==============================] - 0s 8ms/step - loss: 0.0764\n",
            "Epoch 23/50\n",
            "12/12 [==============================] - 0s 8ms/step - loss: 0.0762\n",
            "Epoch 24/50\n",
            "12/12 [==============================] - 0s 8ms/step - loss: 0.0743\n",
            "Epoch 25/50\n",
            "12/12 [==============================] - 0s 8ms/step - loss: 0.0719\n",
            "Epoch 26/50\n",
            "12/12 [==============================] - 0s 7ms/step - loss: 0.0760\n",
            "Epoch 27/50\n",
            "12/12 [==============================] - 0s 8ms/step - loss: 0.0751\n",
            "Epoch 28/50\n",
            "12/12 [==============================] - 0s 8ms/step - loss: 0.0730\n",
            "Epoch 29/50\n",
            "12/12 [==============================] - 0s 7ms/step - loss: 0.0702\n",
            "Epoch 30/50\n",
            "12/12 [==============================] - 0s 8ms/step - loss: 0.0738\n",
            "Epoch 31/50\n",
            "12/12 [==============================] - 0s 7ms/step - loss: 0.0712\n",
            "Epoch 32/50\n",
            "12/12 [==============================] - 0s 8ms/step - loss: 0.0725\n",
            "Epoch 33/50\n",
            "12/12 [==============================] - 0s 8ms/step - loss: 0.0683\n",
            "Epoch 34/50\n",
            "12/12 [==============================] - 0s 7ms/step - loss: 0.0712\n",
            "Epoch 35/50\n",
            "12/12 [==============================] - 0s 9ms/step - loss: 0.0707\n",
            "Epoch 36/50\n",
            "12/12 [==============================] - 0s 7ms/step - loss: 0.0750\n",
            "Epoch 37/50\n",
            "12/12 [==============================] - 0s 8ms/step - loss: 0.0719\n",
            "Epoch 38/50\n",
            "12/12 [==============================] - 0s 8ms/step - loss: 0.0722\n",
            "Epoch 39/50\n",
            "12/12 [==============================] - 0s 8ms/step - loss: 0.0682\n",
            "Epoch 40/50\n",
            "12/12 [==============================] - 0s 8ms/step - loss: 0.0698\n",
            "Epoch 41/50\n",
            "12/12 [==============================] - 0s 8ms/step - loss: 0.0732\n",
            "Epoch 42/50\n",
            "12/12 [==============================] - 0s 8ms/step - loss: 0.0681\n",
            "Epoch 43/50\n",
            "12/12 [==============================] - 0s 8ms/step - loss: 0.0706\n",
            "Epoch 44/50\n",
            "12/12 [==============================] - 0s 7ms/step - loss: 0.0731\n",
            "Epoch 45/50\n",
            "12/12 [==============================] - 0s 8ms/step - loss: 0.0680\n",
            "Epoch 46/50\n",
            "12/12 [==============================] - 0s 8ms/step - loss: 0.0739\n",
            "Epoch 47/50\n",
            "12/12 [==============================] - 0s 8ms/step - loss: 0.0689\n",
            "Epoch 48/50\n",
            "12/12 [==============================] - 0s 9ms/step - loss: 0.0713\n",
            "Epoch 49/50\n",
            "12/12 [==============================] - 0s 8ms/step - loss: 0.0745\n",
            "Epoch 50/50\n",
            "12/12 [==============================] - 0s 8ms/step - loss: 0.0701\n",
            "WARNING:tensorflow:5 out of the last 5 calls to <function Model.make_predict_function.<locals>.predict_function at 0x7f29768ddb90> triggered tf.function retracing. Tracing is expensive and the excessive number of tracings could be due to (1) creating @tf.function repeatedly in a loop, (2) passing tensors with different shapes, (3) passing Python objects instead of tensors. For (1), please define your @tf.function outside of the loop. For (2), @tf.function has experimental_relax_shapes=True option that relaxes argument shapes that can avoid unnecessary retracing. For (3), please refer to https://www.tensorflow.org/guide/function#controlling_retracing and https://www.tensorflow.org/api_docs/python/tf/function for  more details.\n"
          ]
        },
        {
          "output_type": "stream",
          "name": "stderr",
          "text": [
            "WARNING:tensorflow:5 out of the last 5 calls to <function Model.make_predict_function.<locals>.predict_function at 0x7f29768ddb90> triggered tf.function retracing. Tracing is expensive and the excessive number of tracings could be due to (1) creating @tf.function repeatedly in a loop, (2) passing tensors with different shapes, (3) passing Python objects instead of tensors. For (1), please define your @tf.function outside of the loop. For (2), @tf.function has experimental_relax_shapes=True option that relaxes argument shapes that can avoid unnecessary retracing. For (3), please refer to https://www.tensorflow.org/guide/function#controlling_retracing and https://www.tensorflow.org/api_docs/python/tf/function for  more details.\n"
          ]
        },
        {
          "output_type": "stream",
          "name": "stdout",
          "text": [
            "Model Number: 802 with model GLM in generation 10 of 10\n",
            "Template Eval Error: ValueError('NaN, inf or invalid value detected in weights, estimation infeasible.') in model 802: GLM\n",
            "Model Number: 803 with model GLM in generation 10 of 10\n"
          ]
        },
        {
          "output_type": "stream",
          "name": "stderr",
          "text": [
            "/usr/local/lib/python3.7/dist-packages/statsmodels/genmod/families/family.py:428: RuntimeWarning:\n",
            "\n",
            "divide by zero encountered in true_divide\n",
            "\n",
            "/usr/local/lib/python3.7/dist-packages/statsmodels/genmod/families/family.py:134: RuntimeWarning:\n",
            "\n",
            "divide by zero encountered in true_divide\n",
            "\n",
            "/usr/local/lib/python3.7/dist-packages/statsmodels/genmod/generalized_linear_model.py:273: DomainWarning:\n",
            "\n",
            "The inverse_power link function does not respect the domain of the Gamma family.\n",
            "\n"
          ]
        },
        {
          "output_type": "stream",
          "name": "stdout",
          "text": [
            "Model Number: 804 with model GLM in generation 10 of 10\n",
            "Model Number: 805 with model WindowRegression in generation 10 of 10\n",
            "Template Eval Error: ValueError(\"regression_type='User' but no future_regressor passed\") in model 805: WindowRegression\n",
            "Model Number: 806 with model WindowRegression in generation 10 of 10\n",
            "Template Eval Error: ValueError('Some value(s) of y are out of the valid range for family PoissonDistribution') in model 806: WindowRegression\n",
            "Model Number: 807 with model WindowRegression in generation 10 of 10\n",
            "Template Eval Error: ValueError(\"regression_type='User' but no future_regressor passed\") in model 807: WindowRegression\n",
            "Model Number: 808 with model SeasonalNaive in generation 10 of 10\n",
            "Model Number: 809 with model SeasonalNaive in generation 10 of 10\n",
            "Model Number: 810 with model SeasonalNaive in generation 10 of 10\n",
            "Model Number: 811 with model SeasonalNaive in generation 10 of 10\n",
            "Model Number: 812 with model ETS in generation 10 of 10\n",
            "Model Number: 813 with model ETS in generation 10 of 10\n",
            "Model Number: 814 with model ETS in generation 10 of 10\n",
            "Model Number: 815 with model ETS in generation 10 of 10\n",
            "Model Number: 816 with model LastValueNaive in generation 10 of 10\n",
            "Model Number: 817 with model LastValueNaive in generation 10 of 10\n",
            "Model Number: 818 with model LastValueNaive in generation 10 of 10\n",
            "Model Number: 819 with model UnobservedComponents in generation 10 of 10\n",
            "Model Number: 820 with model UnobservedComponents in generation 10 of 10\n",
            "Model Number: 821 with model UnobservedComponents in generation 10 of 10\n",
            "Model Number: 822 with model ZeroesNaive in generation 10 of 10\n",
            "Model Number: 823 with model ZeroesNaive in generation 10 of 10\n",
            "Model Number: 824 with model Ensemble in generation 11 of 0\n",
            "Model Number: 825 with model Ensemble in generation 11 of 0\n",
            "Model Number: 826 with model Ensemble in generation 11 of 0\n",
            "Model Number: 827 with model Ensemble in generation 11 of 0\n",
            "Model Number: 828 with model Ensemble in generation 11 of 0\n"
          ]
        },
        {
          "output_type": "stream",
          "name": "stderr",
          "text": [
            "INFO:fbprophet:Disabling yearly seasonality. Run prophet with yearly_seasonality=True to override this.\n",
            "INFO:fbprophet:Disabling daily seasonality. Run prophet with daily_seasonality=True to override this.\n",
            "[Parallel(n_jobs=1)]: Using backend SequentialBackend with 1 concurrent workers.\n",
            "[Parallel(n_jobs=1)]: Done 300 out of 300 | elapsed:    0.3s finished\n",
            "[Parallel(n_jobs=1)]: Using backend SequentialBackend with 1 concurrent workers.\n",
            "[Parallel(n_jobs=1)]: Done 300 out of 300 | elapsed:    0.0s finished\n"
          ]
        },
        {
          "output_type": "stream",
          "name": "stdout",
          "text": [
            "Validation Round: 1\n",
            "Model Number: 1 of 109 with model Ensemble for Validation 1\n",
            "1 - Ensemble with avg smape 9.54: \n",
            "Model Number: 2 of 109 with model Ensemble for Validation 1\n",
            "2 - Ensemble with avg smape 10.19: \n",
            "Model Number: 3 of 109 with model Ensemble for Validation 1\n",
            "3 - Ensemble with avg smape 10.18: \n",
            "Model Number: 4 of 109 with model SectionalMotif for Validation 1\n",
            "4 - SectionalMotif with avg smape 9.65: \n",
            "Model Number: 5 of 109 with model Ensemble for Validation 1\n",
            "5 - Ensemble with avg smape 9.64: \n",
            "Model Number: 6 of 109 with model SectionalMotif for Validation 1\n",
            "6 - SectionalMotif with avg smape 9.67: \n",
            "Model Number: 7 of 109 with model SectionalMotif for Validation 1\n",
            "7 - SectionalMotif with avg smape 9.59: \n",
            "Model Number: 8 of 109 with model SectionalMotif for Validation 1\n",
            "8 - SectionalMotif with avg smape 14.16: \n",
            "Model Number: 9 of 109 with model SectionalMotif for Validation 1\n",
            "9 - SectionalMotif with avg smape 11.32: \n",
            "Model Number: 10 of 109 with model SectionalMotif for Validation 1\n",
            "10 - SectionalMotif with avg smape 11.32: \n",
            "Model Number: 11 of 109 with model SectionalMotif for Validation 1\n",
            "11 - SectionalMotif with avg smape 11.35: \n",
            "Model Number: 12 of 109 with model NVAR for Validation 1\n",
            "12 - NVAR with avg smape 11.52: \n",
            "Model Number: 13 of 109 with model AverageValueNaive for Validation 1\n",
            "13 - AverageValueNaive with avg smape 10.13: \n",
            "Model Number: 14 of 109 with model AverageValueNaive for Validation 1\n",
            "14 - AverageValueNaive with avg smape 9.47: \n",
            "Model Number: 15 of 109 with model AverageValueNaive for Validation 1\n",
            "15 - AverageValueNaive with avg smape 11.31: \n",
            "Model Number: 16 of 109 with model NVAR for Validation 1\n",
            "16 - NVAR with avg smape 11.57: \n",
            "Model Number: 17 of 109 with model NVAR for Validation 1\n",
            "17 - NVAR with avg smape 11.55: \n",
            "Model Number: 18 of 109 with model NVAR for Validation 1\n",
            "18 - NVAR with avg smape 11.58: \n",
            "Model Number: 19 of 109 with model NVAR for Validation 1\n",
            "19 - NVAR with avg smape 11.56: \n",
            "Model Number: 20 of 109 with model NVAR for Validation 1\n",
            "20 - NVAR with avg smape 11.42: \n",
            "Model Number: 21 of 109 with model NVAR for Validation 1\n",
            "21 - NVAR with avg smape 11.42: \n",
            "Model Number: 22 of 109 with model FBProphet for Validation 1\n"
          ]
        },
        {
          "output_type": "stream",
          "name": "stderr",
          "text": [
            "INFO:fbprophet:Disabling yearly seasonality. Run prophet with yearly_seasonality=True to override this.\n",
            "INFO:fbprophet:Disabling daily seasonality. Run prophet with daily_seasonality=True to override this.\n",
            "INFO:fbprophet:Disabling yearly seasonality. Run prophet with yearly_seasonality=True to override this.\n",
            "INFO:fbprophet:Disabling daily seasonality. Run prophet with daily_seasonality=True to override this.\n"
          ]
        },
        {
          "output_type": "stream",
          "name": "stdout",
          "text": [
            "22 - FBProphet with avg smape 13.12: \n",
            "Model Number: 23 of 109 with model FBProphet for Validation 1\n",
            "23 - FBProphet with avg smape 13.12: \n",
            "Model Number: 24 of 109 with model AverageValueNaive for Validation 1\n",
            "24 - AverageValueNaive with avg smape 13.49: \n",
            "Model Number: 25 of 109 with model NVAR for Validation 1\n",
            "25 - NVAR with avg smape 10.52: \n",
            "Model Number: 26 of 109 with model AverageValueNaive for Validation 1\n",
            "26 - AverageValueNaive with avg smape 11.13: \n",
            "Model Number: 27 of 109 with model Ensemble for Validation 1\n"
          ]
        },
        {
          "output_type": "stream",
          "name": "stderr",
          "text": [
            "INFO:fbprophet:Disabling yearly seasonality. Run prophet with yearly_seasonality=True to override this.\n",
            "INFO:fbprophet:Disabling daily seasonality. Run prophet with daily_seasonality=True to override this.\n",
            "[Parallel(n_jobs=1)]: Using backend SequentialBackend with 1 concurrent workers.\n",
            "[Parallel(n_jobs=1)]: Done 300 out of 300 | elapsed:    0.3s finished\n",
            "[Parallel(n_jobs=1)]: Using backend SequentialBackend with 1 concurrent workers.\n",
            "[Parallel(n_jobs=1)]: Done 300 out of 300 | elapsed:    0.0s finished\n"
          ]
        },
        {
          "output_type": "stream",
          "name": "stdout",
          "text": [
            "27 - Ensemble with avg smape 18.94: \n",
            "Model Number: 28 of 109 with model SectionalMotif for Validation 1\n"
          ]
        },
        {
          "output_type": "stream",
          "name": "stderr",
          "text": [
            "INFO:fbprophet:Disabling yearly seasonality. Run prophet with yearly_seasonality=True to override this.\n",
            "INFO:fbprophet:Disabling daily seasonality. Run prophet with daily_seasonality=True to override this.\n"
          ]
        },
        {
          "output_type": "stream",
          "name": "stdout",
          "text": [
            "28 - SectionalMotif with avg smape 12.47: \n",
            "Model Number: 29 of 109 with model FBProphet for Validation 1\n"
          ]
        },
        {
          "output_type": "stream",
          "name": "stderr",
          "text": [
            "INFO:fbprophet:Disabling yearly seasonality. Run prophet with yearly_seasonality=True to override this.\n",
            "INFO:fbprophet:Disabling daily seasonality. Run prophet with daily_seasonality=True to override this.\n"
          ]
        },
        {
          "output_type": "stream",
          "name": "stdout",
          "text": [
            "29 - FBProphet with avg smape 18.13: \n",
            "Model Number: 30 of 109 with model FBProphet for Validation 1\n"
          ]
        },
        {
          "output_type": "stream",
          "name": "stderr",
          "text": [
            "INFO:fbprophet:Disabling yearly seasonality. Run prophet with yearly_seasonality=True to override this.\n",
            "INFO:fbprophet:Disabling daily seasonality. Run prophet with daily_seasonality=True to override this.\n"
          ]
        },
        {
          "output_type": "stream",
          "name": "stdout",
          "text": [
            "30 - FBProphet with avg smape 18.13: \n",
            "Model Number: 31 of 109 with model FBProphet for Validation 1\n",
            "31 - FBProphet with avg smape 14.21: \n",
            "Model Number: 32 of 109 with model DatepartRegression for Validation 1\n"
          ]
        },
        {
          "output_type": "stream",
          "name": "stderr",
          "text": [
            "[Parallel(n_jobs=1)]: Using backend SequentialBackend with 1 concurrent workers.\n",
            "[Parallel(n_jobs=1)]: Done 300 out of 300 | elapsed:    0.3s finished\n",
            "[Parallel(n_jobs=1)]: Using backend SequentialBackend with 1 concurrent workers.\n",
            "[Parallel(n_jobs=1)]: Done 300 out of 300 | elapsed:    0.0s finished\n",
            "INFO:fbprophet:Disabling yearly seasonality. Run prophet with yearly_seasonality=True to override this.\n",
            "INFO:fbprophet:Disabling daily seasonality. Run prophet with daily_seasonality=True to override this.\n"
          ]
        },
        {
          "output_type": "stream",
          "name": "stdout",
          "text": [
            "32 - DatepartRegression with avg smape 35.51: \n",
            "Model Number: 33 of 109 with model FBProphet for Validation 1\n",
            "33 - FBProphet with avg smape 14.99: \n",
            "Model Number: 34 of 109 with model DatepartRegression for Validation 1\n"
          ]
        },
        {
          "output_type": "stream",
          "name": "stderr",
          "text": [
            "[Parallel(n_jobs=1)]: Using backend SequentialBackend with 1 concurrent workers.\n",
            "[Parallel(n_jobs=1)]: Done 300 out of 300 | elapsed:    0.3s finished\n",
            "[Parallel(n_jobs=1)]: Using backend SequentialBackend with 1 concurrent workers.\n",
            "[Parallel(n_jobs=1)]: Done 300 out of 300 | elapsed:    0.0s finished\n"
          ]
        },
        {
          "output_type": "stream",
          "name": "stdout",
          "text": [
            "34 - DatepartRegression with avg smape 34.79: \n",
            "Model Number: 35 of 109 with model DatepartRegression for Validation 1\n",
            "35 - DatepartRegression with avg smape 21.76: \n",
            "Model Number: 36 of 109 with model GLM for Validation 1\n",
            "36 - GLM with avg smape 14.7: \n",
            "Model Number: 37 of 109 with model FBProphet for Validation 1\n"
          ]
        },
        {
          "output_type": "stream",
          "name": "stderr",
          "text": [
            "INFO:fbprophet:Disabling yearly seasonality. Run prophet with yearly_seasonality=True to override this.\n",
            "INFO:fbprophet:Disabling daily seasonality. Run prophet with daily_seasonality=True to override this.\n"
          ]
        },
        {
          "output_type": "stream",
          "name": "stdout",
          "text": [
            "37 - FBProphet with avg smape 16.46: \n",
            "Model Number: 38 of 109 with model AverageValueNaive for Validation 1\n",
            "38 - AverageValueNaive with avg smape 4.39: \n",
            "Model Number: 39 of 109 with model DatepartRegression for Validation 1\n"
          ]
        },
        {
          "output_type": "stream",
          "name": "stderr",
          "text": [
            "[Parallel(n_jobs=1)]: Using backend SequentialBackend with 1 concurrent workers.\n",
            "[Parallel(n_jobs=1)]: Done 300 out of 300 | elapsed:    0.3s finished\n",
            "[Parallel(n_jobs=1)]: Using backend SequentialBackend with 1 concurrent workers.\n",
            "[Parallel(n_jobs=1)]: Done 300 out of 300 | elapsed:    0.0s finished\n"
          ]
        },
        {
          "output_type": "stream",
          "name": "stdout",
          "text": [
            "39 - DatepartRegression with avg smape 35.02: \n",
            "Model Number: 40 of 109 with model WindowRegression for Validation 1\n",
            "40 - WindowRegression with avg smape 7.08: \n",
            "Model Number: 41 of 109 with model GLM for Validation 1\n",
            "41 - GLM with avg smape 4.41: \n",
            "Model Number: 42 of 109 with model GLM for Validation 1\n"
          ]
        },
        {
          "output_type": "stream",
          "name": "stderr",
          "text": [
            "/usr/local/lib/python3.7/dist-packages/statsmodels/genmod/generalized_linear_model.py:273: DomainWarning:\n",
            "\n",
            "The inverse_power link function does not respect the domain of the Gamma family.\n",
            "\n"
          ]
        },
        {
          "output_type": "stream",
          "name": "stdout",
          "text": [
            "42 - GLM with avg smape 4.41: \n",
            "Model Number: 43 of 109 with model FBProphet for Validation 1\n"
          ]
        },
        {
          "output_type": "stream",
          "name": "stderr",
          "text": [
            "INFO:fbprophet:Disabling yearly seasonality. Run prophet with yearly_seasonality=True to override this.\n",
            "INFO:fbprophet:Disabling daily seasonality. Run prophet with daily_seasonality=True to override this.\n"
          ]
        },
        {
          "output_type": "stream",
          "name": "stdout",
          "text": [
            "43 - FBProphet with avg smape 18.64: \n",
            "Model Number: 44 of 109 with model AverageValueNaive for Validation 1\n",
            "44 - AverageValueNaive with avg smape 4.22: \n",
            "Model Number: 45 of 109 with model SeasonalNaive for Validation 1\n",
            "45 - SeasonalNaive with avg smape 10.01: \n",
            "Model Number: 46 of 109 with model DatepartRegression for Validation 1\n",
            "46 - DatepartRegression with avg smape 40.54: \n",
            "Model Number: 47 of 109 with model SeasonalNaive for Validation 1\n",
            "47 - SeasonalNaive with avg smape 10.03: \n",
            "Model Number: 48 of 109 with model AverageValueNaive for Validation 1\n",
            "48 - AverageValueNaive with avg smape 4.63: \n",
            "Model Number: 49 of 109 with model SeasonalNaive for Validation 1\n",
            "49 - SeasonalNaive with avg smape 16.64: \n",
            "Model Number: 50 of 109 with model UnobservedComponents for Validation 1\n",
            "50 - UnobservedComponents with avg smape 7.36: \n",
            "Model Number: 51 of 109 with model SeasonalNaive for Validation 1\n",
            "51 - SeasonalNaive with avg smape 7.06: \n",
            "Model Number: 52 of 109 with model ETS for Validation 1\n",
            "52 - ETS with avg smape 12.02: \n",
            "Model Number: 53 of 109 with model SeasonalNaive for Validation 1\n",
            "53 - SeasonalNaive with avg smape 6.87: \n",
            "Model Number: 54 of 109 with model SeasonalNaive for Validation 1\n",
            "54 - SeasonalNaive with avg smape 9.95: \n",
            "Model Number: 55 of 109 with model DatepartRegression for Validation 1\n",
            "55 - DatepartRegression with avg smape 16.12: \n",
            "Model Number: 56 of 109 with model ETS for Validation 1\n"
          ]
        },
        {
          "output_type": "stream",
          "name": "stderr",
          "text": [
            "/usr/local/lib/python3.7/dist-packages/sklearn/svm/_base.py:1208: ConvergenceWarning:\n",
            "\n",
            "Liblinear failed to converge, increase the number of iterations.\n",
            "\n"
          ]
        },
        {
          "output_type": "stream",
          "name": "stdout",
          "text": [
            "56 - ETS with avg smape 10.95: \n",
            "Model Number: 57 of 109 with model SeasonalNaive for Validation 1\n",
            "57 - SeasonalNaive with avg smape 6.94: \n",
            "Model Number: 58 of 109 with model SeasonalNaive for Validation 1\n",
            "58 - SeasonalNaive with avg smape 6.94: \n",
            "Model Number: 59 of 109 with model DatepartRegression for Validation 1\n",
            "Epoch 1/50\n",
            "12/12 [==============================] - 6s 7ms/step - loss: 0.2925\n",
            "Epoch 2/50\n",
            "12/12 [==============================] - 0s 7ms/step - loss: 0.1878\n",
            "Epoch 3/50\n",
            "12/12 [==============================] - 0s 7ms/step - loss: 0.1086\n",
            "Epoch 4/50\n",
            "12/12 [==============================] - 0s 7ms/step - loss: 0.0929\n",
            "Epoch 5/50\n",
            "12/12 [==============================] - 0s 8ms/step - loss: 0.0872\n",
            "Epoch 6/50\n",
            "12/12 [==============================] - 0s 8ms/step - loss: 0.0894\n",
            "Epoch 7/50\n",
            "12/12 [==============================] - 0s 7ms/step - loss: 0.0898\n",
            "Epoch 8/50\n",
            "12/12 [==============================] - 0s 8ms/step - loss: 0.0863\n",
            "Epoch 9/50\n",
            "12/12 [==============================] - 0s 8ms/step - loss: 0.0874\n",
            "Epoch 10/50\n",
            "12/12 [==============================] - 0s 9ms/step - loss: 0.0853\n",
            "Epoch 11/50\n",
            "12/12 [==============================] - 0s 8ms/step - loss: 0.0916\n",
            "Epoch 12/50\n",
            "12/12 [==============================] - 0s 7ms/step - loss: 0.0848\n",
            "Epoch 13/50\n",
            "12/12 [==============================] - 0s 7ms/step - loss: 0.0869\n",
            "Epoch 14/50\n",
            "12/12 [==============================] - 0s 8ms/step - loss: 0.0865\n",
            "Epoch 15/50\n",
            "12/12 [==============================] - 0s 8ms/step - loss: 0.0884\n",
            "Epoch 16/50\n",
            "12/12 [==============================] - 0s 7ms/step - loss: 0.0888\n",
            "Epoch 17/50\n",
            "12/12 [==============================] - 0s 7ms/step - loss: 0.0864\n",
            "Epoch 18/50\n",
            "12/12 [==============================] - 0s 8ms/step - loss: 0.0861\n",
            "Epoch 19/50\n",
            "12/12 [==============================] - 0s 8ms/step - loss: 0.0865\n",
            "Epoch 20/50\n",
            "12/12 [==============================] - 0s 8ms/step - loss: 0.0859\n",
            "Epoch 21/50\n",
            "12/12 [==============================] - 0s 7ms/step - loss: 0.0834\n",
            "Epoch 22/50\n",
            "12/12 [==============================] - 0s 13ms/step - loss: 0.0863\n",
            "Epoch 23/50\n",
            "12/12 [==============================] - 0s 12ms/step - loss: 0.0868\n",
            "Epoch 24/50\n",
            "12/12 [==============================] - 0s 8ms/step - loss: 0.0810\n",
            "Epoch 25/50\n",
            "12/12 [==============================] - 0s 8ms/step - loss: 0.0867\n",
            "Epoch 26/50\n",
            "12/12 [==============================] - 0s 8ms/step - loss: 0.0867\n",
            "Epoch 27/50\n",
            "12/12 [==============================] - 0s 7ms/step - loss: 0.0843\n",
            "Epoch 28/50\n",
            "12/12 [==============================] - 0s 8ms/step - loss: 0.0842\n",
            "Epoch 29/50\n",
            "12/12 [==============================] - 0s 8ms/step - loss: 0.0822\n",
            "Epoch 30/50\n",
            "12/12 [==============================] - 0s 7ms/step - loss: 0.0822\n",
            "Epoch 31/50\n",
            "12/12 [==============================] - 0s 8ms/step - loss: 0.0833\n",
            "Epoch 32/50\n",
            "12/12 [==============================] - 0s 8ms/step - loss: 0.0828\n",
            "Epoch 33/50\n",
            "12/12 [==============================] - 0s 8ms/step - loss: 0.0827\n",
            "Epoch 34/50\n",
            "12/12 [==============================] - 0s 7ms/step - loss: 0.0845\n",
            "Epoch 35/50\n",
            "12/12 [==============================] - 0s 7ms/step - loss: 0.0894\n",
            "Epoch 36/50\n",
            "12/12 [==============================] - 0s 7ms/step - loss: 0.0800\n",
            "Epoch 37/50\n",
            "12/12 [==============================] - 0s 7ms/step - loss: 0.0811\n",
            "Epoch 38/50\n",
            "12/12 [==============================] - 0s 7ms/step - loss: 0.0820\n",
            "Epoch 39/50\n",
            "12/12 [==============================] - 0s 9ms/step - loss: 0.0826\n",
            "Epoch 40/50\n",
            "12/12 [==============================] - 0s 8ms/step - loss: 0.0793\n",
            "Epoch 41/50\n",
            "12/12 [==============================] - 0s 7ms/step - loss: 0.0808\n",
            "Epoch 42/50\n",
            "12/12 [==============================] - 0s 8ms/step - loss: 0.0805\n",
            "Epoch 43/50\n",
            "12/12 [==============================] - 0s 8ms/step - loss: 0.0798\n",
            "Epoch 44/50\n",
            "12/12 [==============================] - 0s 8ms/step - loss: 0.0822\n",
            "Epoch 45/50\n",
            "12/12 [==============================] - 0s 8ms/step - loss: 0.0836\n",
            "Epoch 46/50\n",
            "12/12 [==============================] - 0s 7ms/step - loss: 0.0855\n",
            "Epoch 47/50\n",
            "12/12 [==============================] - 0s 8ms/step - loss: 0.0843\n",
            "Epoch 48/50\n",
            "12/12 [==============================] - 0s 7ms/step - loss: 0.0820\n",
            "Epoch 49/50\n",
            "12/12 [==============================] - 0s 8ms/step - loss: 0.0828\n",
            "Epoch 50/50\n",
            "12/12 [==============================] - 0s 7ms/step - loss: 0.0780\n",
            "WARNING:tensorflow:6 out of the last 6 calls to <function Model.make_predict_function.<locals>.predict_function at 0x7f2970cbdd40> triggered tf.function retracing. Tracing is expensive and the excessive number of tracings could be due to (1) creating @tf.function repeatedly in a loop, (2) passing tensors with different shapes, (3) passing Python objects instead of tensors. For (1), please define your @tf.function outside of the loop. For (2), @tf.function has experimental_relax_shapes=True option that relaxes argument shapes that can avoid unnecessary retracing. For (3), please refer to https://www.tensorflow.org/guide/function#controlling_retracing and https://www.tensorflow.org/api_docs/python/tf/function for  more details.\n"
          ]
        },
        {
          "output_type": "stream",
          "name": "stderr",
          "text": [
            "WARNING:tensorflow:6 out of the last 6 calls to <function Model.make_predict_function.<locals>.predict_function at 0x7f2970cbdd40> triggered tf.function retracing. Tracing is expensive and the excessive number of tracings could be due to (1) creating @tf.function repeatedly in a loop, (2) passing tensors with different shapes, (3) passing Python objects instead of tensors. For (1), please define your @tf.function outside of the loop. For (2), @tf.function has experimental_relax_shapes=True option that relaxes argument shapes that can avoid unnecessary retracing. For (3), please refer to https://www.tensorflow.org/guide/function#controlling_retracing and https://www.tensorflow.org/api_docs/python/tf/function for  more details.\n"
          ]
        },
        {
          "output_type": "stream",
          "name": "stdout",
          "text": [
            "59 - DatepartRegression with avg smape 29.0: \n",
            "Model Number: 60 of 109 with model LastValueNaive for Validation 1\n",
            "60 - LastValueNaive with avg smape 16.2: \n",
            "Model Number: 61 of 109 with model LastValueNaive for Validation 1\n",
            "61 - LastValueNaive with avg smape 16.26: \n",
            "Model Number: 62 of 109 with model GLM for Validation 1\n",
            "62 - GLM with avg smape 10.88: \n",
            "Model Number: 63 of 109 with model LastValueNaive for Validation 1\n"
          ]
        },
        {
          "output_type": "stream",
          "name": "stderr",
          "text": [
            "/usr/local/lib/python3.7/dist-packages/statsmodels/genmod/generalized_linear_model.py:273: DomainWarning:\n",
            "\n",
            "The inverse_power link function does not respect the domain of the Gamma family.\n",
            "\n"
          ]
        },
        {
          "output_type": "stream",
          "name": "stdout",
          "text": [
            "63 - LastValueNaive with avg smape 17.99: \n",
            "Model Number: 64 of 109 with model UnobservedComponents for Validation 1\n",
            "64 - UnobservedComponents with avg smape 6.0: \n",
            "Model Number: 65 of 109 with model LastValueNaive for Validation 1\n",
            "65 - LastValueNaive with avg smape 16.61: \n",
            "Model Number: 66 of 109 with model LastValueNaive for Validation 1\n",
            "66 - LastValueNaive with avg smape 16.61: \n",
            "Model Number: 67 of 109 with model ETS for Validation 1\n",
            "67 - ETS with avg smape 13.05: \n",
            "Model Number: 68 of 109 with model WindowRegression for Validation 1\n"
          ]
        },
        {
          "output_type": "stream",
          "name": "stderr",
          "text": [
            "/usr/local/lib/python3.7/dist-packages/sklearn/neural_network/_multilayer_perceptron.py:549: ConvergenceWarning:\n",
            "\n",
            "lbfgs failed to converge (status=1):\n",
            "STOP: TOTAL NO. of ITERATIONS REACHED LIMIT.\n",
            "\n",
            "Increase the number of iterations (max_iter) or scale the data as shown in:\n",
            "    https://scikit-learn.org/stable/modules/preprocessing.html\n",
            "\n"
          ]
        },
        {
          "output_type": "stream",
          "name": "stdout",
          "text": [
            "68 - WindowRegression with avg smape 15.53: \n",
            "Model Number: 69 of 109 with model WindowRegression for Validation 1\n"
          ]
        },
        {
          "output_type": "stream",
          "name": "stderr",
          "text": [
            "/usr/local/lib/python3.7/dist-packages/sklearn/utils/validation.py:993: DataConversionWarning:\n",
            "\n",
            "A column-vector y was passed when a 1d array was expected. Please change the shape of y to (n_samples, ), for example using ravel().\n",
            "\n",
            "/usr/local/lib/python3.7/dist-packages/sklearn/svm/_base.py:1208: ConvergenceWarning:\n",
            "\n",
            "Liblinear failed to converge, increase the number of iterations.\n",
            "\n"
          ]
        },
        {
          "output_type": "stream",
          "name": "stdout",
          "text": [
            "69 - WindowRegression with avg smape 25.62: \n",
            "Model Number: 70 of 109 with model WindowRegression for Validation 1\n",
            "70 - WindowRegression with avg smape 25.63: \n",
            "Model Number: 71 of 109 with model UnobservedComponents for Validation 1\n",
            "71 - UnobservedComponents with avg smape 5.52: \n",
            "Model Number: 72 of 109 with model GLM for Validation 1\n",
            "72 - GLM with avg smape 18.81: \n",
            "Model Number: 73 of 109 with model UnobservedComponents for Validation 1\n",
            "73 - UnobservedComponents with avg smape 5.5: \n",
            "Model Number: 74 of 109 with model DatepartRegression for Validation 1\n",
            "74 - DatepartRegression with avg smape 55.5: \n",
            "Model Number: 75 of 109 with model GLM for Validation 1\n"
          ]
        },
        {
          "output_type": "stream",
          "name": "stderr",
          "text": [
            "/usr/local/lib/python3.7/dist-packages/sklearn/svm/_base.py:1208: ConvergenceWarning:\n",
            "\n",
            "Liblinear failed to converge, increase the number of iterations.\n",
            "\n"
          ]
        },
        {
          "output_type": "stream",
          "name": "stdout",
          "text": [
            "75 - GLM with avg smape 12.46: \n",
            "Model Number: 76 of 109 with model GLM for Validation 1\n",
            "76 - GLM with avg smape 12.46: \n",
            "Model Number: 77 of 109 with model GLM for Validation 1\n",
            "77 - GLM with avg smape 12.46: \n",
            "Model Number: 78 of 109 with model UnobservedComponents for Validation 1\n"
          ]
        },
        {
          "output_type": "stream",
          "name": "stderr",
          "text": [
            "/usr/local/lib/python3.7/dist-packages/statsmodels/genmod/generalized_linear_model.py:273: DomainWarning:\n",
            "\n",
            "The inverse_power link function does not respect the domain of the Gamma family.\n",
            "\n"
          ]
        },
        {
          "output_type": "stream",
          "name": "stdout",
          "text": [
            "78 - UnobservedComponents with avg smape 5.16: \n",
            "Model Number: 79 of 109 with model WindowRegression for Validation 1\n",
            "79 - WindowRegression with avg smape 25.73: \n",
            "Model Number: 80 of 109 with model LastValueNaive for Validation 1\n",
            "80 - LastValueNaive with avg smape 16.61: \n",
            "Model Number: 81 of 109 with model LastValueNaive for Validation 1\n",
            "81 - LastValueNaive with avg smape 16.61: \n",
            "Model Number: 82 of 109 with model ETS for Validation 1\n",
            "82 - ETS with avg smape 7.38: \n",
            "Model Number: 83 of 109 with model WindowRegression for Validation 1\n"
          ]
        },
        {
          "output_type": "stream",
          "name": "stderr",
          "text": [
            "/usr/local/lib/python3.7/dist-packages/autots/models/sklearn.py:1248: DataConversionWarning:\n",
            "\n",
            "A column-vector y was passed when a 1d array was expected. Please change the shape of y to (n_samples,), for example using ravel().\n",
            "\n"
          ]
        },
        {
          "output_type": "stream",
          "name": "stdout",
          "text": [
            "83 - WindowRegression with avg smape 11.34: \n",
            "Model Number: 84 of 109 with model WindowRegression for Validation 1\n",
            "84 - WindowRegression with avg smape 25.77: \n",
            "Model Number: 85 of 109 with model ETS for Validation 1\n",
            "85 - ETS with avg smape 12.68: \n",
            "Model Number: 86 of 109 with model ETS for Validation 1\n",
            "86 - ETS with avg smape 12.65: \n",
            "Model Number: 87 of 109 with model ZeroesNaive for Validation 1\n",
            "87 - ZeroesNaive with avg smape 12.47: \n",
            "Model Number: 88 of 109 with model ZeroesNaive for Validation 1\n",
            "88 - ZeroesNaive with avg smape 12.47: \n",
            "Model Number: 89 of 109 with model ZeroesNaive for Validation 1\n",
            "89 - ZeroesNaive with avg smape 12.47: \n",
            "Model Number: 90 of 109 with model ZeroesNaive for Validation 1\n",
            "90 - ZeroesNaive with avg smape 9.2: \n",
            "Model Number: 91 of 109 with model ZeroesNaive for Validation 1\n",
            "91 - ZeroesNaive with avg smape 12.47: \n",
            "Model Number: 92 of 109 with model ZeroesNaive for Validation 1\n",
            "92 - ZeroesNaive with avg smape 12.47: \n",
            "Model Number: 93 of 109 with model LastValueNaive for Validation 1\n",
            "93 - LastValueNaive with avg smape 9.79: \n",
            "Model Number: 94 of 109 with model ETS for Validation 1\n",
            "94 - ETS with avg smape 7.09: \n",
            "Model Number: 95 of 109 with model ETS for Validation 1\n",
            "95 - ETS with avg smape 7.08: \n",
            "Model Number: 96 of 109 with model ZeroesNaive for Validation 1\n",
            "96 - ZeroesNaive with avg smape 11.35: \n",
            "Model Number: 97 of 109 with model WindowRegression for Validation 1\n",
            "97 - WindowRegression with avg smape 8.77: \n",
            "Model Number: 98 of 109 with model ZeroesNaive for Validation 1\n"
          ]
        },
        {
          "output_type": "stream",
          "name": "stderr",
          "text": [
            "/usr/local/lib/python3.7/dist-packages/sklearn/utils/validation.py:993: DataConversionWarning:\n",
            "\n",
            "A column-vector y was passed when a 1d array was expected. Please change the shape of y to (n_samples, ), for example using ravel().\n",
            "\n"
          ]
        },
        {
          "output_type": "stream",
          "name": "stdout",
          "text": [
            "98 - ZeroesNaive with avg smape 5.49: \n",
            "Model Number: 99 of 109 with model UnobservedComponents for Validation 1\n",
            "99 - UnobservedComponents with avg smape 4.67: \n",
            "Model Number: 100 of 109 with model UnobservedComponents for Validation 1\n",
            "100 - UnobservedComponents with avg smape 5.26: \n",
            "Model Number: 101 of 109 with model GLS for Validation 1\n",
            "101 - GLS with avg smape 5.72: \n",
            "Model Number: 102 of 109 with model GLS for Validation 1\n",
            "102 - GLS with avg smape 5.72: \n",
            "Model Number: 103 of 109 with model GLS for Validation 1\n",
            "103 - GLS with avg smape 6.0: \n",
            "Model Number: 104 of 109 with model UnobservedComponents for Validation 1\n",
            "104 - UnobservedComponents with avg smape 26.76: \n",
            "Model Number: 105 of 109 with model GLS for Validation 1\n",
            "105 - GLS with avg smape 26.64: \n",
            "Model Number: 106 of 109 with model GLS for Validation 1\n",
            "106 - GLS with avg smape 26.72: \n",
            "Model Number: 107 of 109 with model GLS for Validation 1\n",
            "107 - GLS with avg smape 26.73: \n",
            "Model Number: 108 of 109 with model GLS for Validation 1\n",
            "108 - GLS with avg smape 4.28: \n",
            "Model Number: 109 of 109 with model GLS for Validation 1\n",
            "109 - GLS with avg smape 26.64: \n",
            "Validation Round: 2\n",
            "Model Number: 1 of 109 with model Ensemble for Validation 2\n",
            "1 - Ensemble with avg smape 3.97: \n",
            "Model Number: 2 of 109 with model Ensemble for Validation 2\n",
            "2 - Ensemble with avg smape 4.88: \n",
            "Model Number: 3 of 109 with model Ensemble for Validation 2\n",
            "3 - Ensemble with avg smape 4.91: \n",
            "Model Number: 4 of 109 with model SectionalMotif for Validation 2\n",
            "4 - SectionalMotif with avg smape 3.66: \n",
            "Model Number: 5 of 109 with model Ensemble for Validation 2\n",
            "5 - Ensemble with avg smape 3.65: \n",
            "Model Number: 6 of 109 with model SectionalMotif for Validation 2\n",
            "6 - SectionalMotif with avg smape 3.65: \n",
            "Model Number: 7 of 109 with model SectionalMotif for Validation 2\n",
            "7 - SectionalMotif with avg smape 3.64: \n",
            "Model Number: 8 of 109 with model SectionalMotif for Validation 2\n",
            "8 - SectionalMotif with avg smape 13.72: \n",
            "Model Number: 9 of 109 with model SectionalMotif for Validation 2\n",
            "9 - SectionalMotif with avg smape 12.59: \n",
            "Model Number: 10 of 109 with model SectionalMotif for Validation 2\n",
            "10 - SectionalMotif with avg smape 12.59: \n",
            "Model Number: 11 of 109 with model SectionalMotif for Validation 2\n",
            "11 - SectionalMotif with avg smape 12.82: \n",
            "Model Number: 12 of 109 with model NVAR for Validation 2\n",
            "12 - NVAR with avg smape 6.97: \n",
            "Model Number: 13 of 109 with model AverageValueNaive for Validation 2\n",
            "13 - AverageValueNaive with avg smape 4.6: \n",
            "Model Number: 14 of 109 with model AverageValueNaive for Validation 2\n",
            "14 - AverageValueNaive with avg smape 4.6: \n",
            "Model Number: 15 of 109 with model AverageValueNaive for Validation 2\n",
            "15 - AverageValueNaive with avg smape 4.39: \n",
            "Model Number: 16 of 109 with model NVAR for Validation 2\n",
            "16 - NVAR with avg smape 7.37: \n",
            "Model Number: 17 of 109 with model NVAR for Validation 2\n",
            "17 - NVAR with avg smape 7.36: \n",
            "Model Number: 18 of 109 with model NVAR for Validation 2\n",
            "18 - NVAR with avg smape 7.33: \n",
            "Model Number: 19 of 109 with model NVAR for Validation 2\n",
            "19 - NVAR with avg smape 7.31: \n",
            "Model Number: 20 of 109 with model NVAR for Validation 2\n",
            "20 - NVAR with avg smape 7.21: \n",
            "Model Number: 21 of 109 with model NVAR for Validation 2\n",
            "21 - NVAR with avg smape 7.21: \n",
            "Model Number: 22 of 109 with model FBProphet for Validation 2\n"
          ]
        },
        {
          "output_type": "stream",
          "name": "stderr",
          "text": [
            "INFO:fbprophet:Disabling yearly seasonality. Run prophet with yearly_seasonality=True to override this.\n",
            "INFO:fbprophet:Disabling daily seasonality. Run prophet with daily_seasonality=True to override this.\n",
            "INFO:fbprophet:Disabling yearly seasonality. Run prophet with yearly_seasonality=True to override this.\n",
            "INFO:fbprophet:Disabling daily seasonality. Run prophet with daily_seasonality=True to override this.\n"
          ]
        },
        {
          "output_type": "stream",
          "name": "stdout",
          "text": [
            "22 - FBProphet with avg smape 13.5: \n",
            "Model Number: 23 of 109 with model FBProphet for Validation 2\n",
            "23 - FBProphet with avg smape 13.5: \n",
            "Model Number: 24 of 109 with model AverageValueNaive for Validation 2\n",
            "24 - AverageValueNaive with avg smape 8.64: \n",
            "Model Number: 25 of 109 with model NVAR for Validation 2\n",
            "25 - NVAR with avg smape 7.37: \n",
            "Model Number: 26 of 109 with model AverageValueNaive for Validation 2\n",
            "26 - AverageValueNaive with avg smape 2.64: \n",
            "Model Number: 27 of 109 with model Ensemble for Validation 2\n"
          ]
        },
        {
          "output_type": "stream",
          "name": "stderr",
          "text": [
            "INFO:fbprophet:Disabling yearly seasonality. Run prophet with yearly_seasonality=True to override this.\n",
            "INFO:fbprophet:Disabling daily seasonality. Run prophet with daily_seasonality=True to override this.\n",
            "[Parallel(n_jobs=1)]: Using backend SequentialBackend with 1 concurrent workers.\n",
            "[Parallel(n_jobs=1)]: Done 300 out of 300 | elapsed:    0.3s finished\n",
            "[Parallel(n_jobs=1)]: Using backend SequentialBackend with 1 concurrent workers.\n",
            "[Parallel(n_jobs=1)]: Done 300 out of 300 | elapsed:    0.0s finished\n"
          ]
        },
        {
          "output_type": "stream",
          "name": "stdout",
          "text": [
            "27 - Ensemble with avg smape 4.81: \n",
            "Model Number: 28 of 109 with model SectionalMotif for Validation 2\n"
          ]
        },
        {
          "output_type": "stream",
          "name": "stderr",
          "text": [
            "INFO:fbprophet:Disabling yearly seasonality. Run prophet with yearly_seasonality=True to override this.\n",
            "INFO:fbprophet:Disabling daily seasonality. Run prophet with daily_seasonality=True to override this.\n"
          ]
        },
        {
          "output_type": "stream",
          "name": "stdout",
          "text": [
            "28 - SectionalMotif with avg smape 13.45: \n",
            "Model Number: 29 of 109 with model FBProphet for Validation 2\n"
          ]
        },
        {
          "output_type": "stream",
          "name": "stderr",
          "text": [
            "INFO:fbprophet:Disabling yearly seasonality. Run prophet with yearly_seasonality=True to override this.\n",
            "INFO:fbprophet:Disabling daily seasonality. Run prophet with daily_seasonality=True to override this.\n"
          ]
        },
        {
          "output_type": "stream",
          "name": "stdout",
          "text": [
            "29 - FBProphet with avg smape 16.04: \n",
            "Model Number: 30 of 109 with model FBProphet for Validation 2\n"
          ]
        },
        {
          "output_type": "stream",
          "name": "stderr",
          "text": [
            "INFO:fbprophet:Disabling yearly seasonality. Run prophet with yearly_seasonality=True to override this.\n",
            "INFO:fbprophet:Disabling daily seasonality. Run prophet with daily_seasonality=True to override this.\n"
          ]
        },
        {
          "output_type": "stream",
          "name": "stdout",
          "text": [
            "30 - FBProphet with avg smape 16.04: \n",
            "Model Number: 31 of 109 with model FBProphet for Validation 2\n",
            "31 - FBProphet with avg smape 12.81: \n",
            "Model Number: 32 of 109 with model DatepartRegression for Validation 2\n"
          ]
        },
        {
          "output_type": "stream",
          "name": "stderr",
          "text": [
            "[Parallel(n_jobs=1)]: Using backend SequentialBackend with 1 concurrent workers.\n",
            "[Parallel(n_jobs=1)]: Done 300 out of 300 | elapsed:    0.3s finished\n",
            "[Parallel(n_jobs=1)]: Using backend SequentialBackend with 1 concurrent workers.\n",
            "[Parallel(n_jobs=1)]: Done 300 out of 300 | elapsed:    0.0s finished\n",
            "INFO:fbprophet:Disabling yearly seasonality. Run prophet with yearly_seasonality=True to override this.\n",
            "INFO:fbprophet:Disabling daily seasonality. Run prophet with daily_seasonality=True to override this.\n"
          ]
        },
        {
          "output_type": "stream",
          "name": "stdout",
          "text": [
            "32 - DatepartRegression with avg smape 5.29: \n",
            "Model Number: 33 of 109 with model FBProphet for Validation 2\n",
            "33 - FBProphet with avg smape 16.48: \n",
            "Model Number: 34 of 109 with model DatepartRegression for Validation 2\n"
          ]
        },
        {
          "output_type": "stream",
          "name": "stderr",
          "text": [
            "[Parallel(n_jobs=1)]: Using backend SequentialBackend with 1 concurrent workers.\n",
            "[Parallel(n_jobs=1)]: Done 300 out of 300 | elapsed:    0.3s finished\n",
            "[Parallel(n_jobs=1)]: Using backend SequentialBackend with 1 concurrent workers.\n",
            "[Parallel(n_jobs=1)]: Done 300 out of 300 | elapsed:    0.0s finished\n"
          ]
        },
        {
          "output_type": "stream",
          "name": "stdout",
          "text": [
            "34 - DatepartRegression with avg smape 5.29: \n",
            "Model Number: 35 of 109 with model DatepartRegression for Validation 2\n",
            "35 - DatepartRegression with avg smape 5.07: \n",
            "Model Number: 36 of 109 with model GLM for Validation 2\n",
            "36 - GLM with avg smape 4.47: \n",
            "Model Number: 37 of 109 with model FBProphet for Validation 2\n"
          ]
        },
        {
          "output_type": "stream",
          "name": "stderr",
          "text": [
            "INFO:fbprophet:Disabling yearly seasonality. Run prophet with yearly_seasonality=True to override this.\n",
            "INFO:fbprophet:Disabling daily seasonality. Run prophet with daily_seasonality=True to override this.\n"
          ]
        },
        {
          "output_type": "stream",
          "name": "stdout",
          "text": [
            "37 - FBProphet with avg smape 13.7: \n",
            "Model Number: 38 of 109 with model AverageValueNaive for Validation 2\n",
            "38 - AverageValueNaive with avg smape 21.41: \n",
            "Model Number: 39 of 109 with model DatepartRegression for Validation 2\n"
          ]
        },
        {
          "output_type": "stream",
          "name": "stderr",
          "text": [
            "[Parallel(n_jobs=1)]: Using backend SequentialBackend with 1 concurrent workers.\n",
            "[Parallel(n_jobs=1)]: Done 300 out of 300 | elapsed:    0.3s finished\n",
            "[Parallel(n_jobs=1)]: Using backend SequentialBackend with 1 concurrent workers.\n",
            "[Parallel(n_jobs=1)]: Done 300 out of 300 | elapsed:    0.0s finished\n"
          ]
        },
        {
          "output_type": "stream",
          "name": "stdout",
          "text": [
            "39 - DatepartRegression with avg smape 5.19: \n",
            "Model Number: 40 of 109 with model WindowRegression for Validation 2\n",
            "40 - WindowRegression with avg smape 12.83: \n",
            "Model Number: 41 of 109 with model GLM for Validation 2\n",
            "41 - GLM with avg smape 21.03: \n",
            "Model Number: 42 of 109 with model GLM for Validation 2\n"
          ]
        },
        {
          "output_type": "stream",
          "name": "stderr",
          "text": [
            "/usr/local/lib/python3.7/dist-packages/statsmodels/genmod/generalized_linear_model.py:273: DomainWarning:\n",
            "\n",
            "The inverse_power link function does not respect the domain of the Gamma family.\n",
            "\n"
          ]
        },
        {
          "output_type": "stream",
          "name": "stdout",
          "text": [
            "42 - GLM with avg smape 21.03: \n",
            "Model Number: 43 of 109 with model FBProphet for Validation 2\n"
          ]
        },
        {
          "output_type": "stream",
          "name": "stderr",
          "text": [
            "INFO:fbprophet:Disabling yearly seasonality. Run prophet with yearly_seasonality=True to override this.\n",
            "INFO:fbprophet:Disabling daily seasonality. Run prophet with daily_seasonality=True to override this.\n"
          ]
        },
        {
          "output_type": "stream",
          "name": "stdout",
          "text": [
            "43 - FBProphet with avg smape 15.63: \n",
            "Model Number: 44 of 109 with model AverageValueNaive for Validation 2\n",
            "44 - AverageValueNaive with avg smape 18.6: \n",
            "Model Number: 45 of 109 with model SeasonalNaive for Validation 2\n",
            "45 - SeasonalNaive with avg smape 4.42: \n",
            "Model Number: 46 of 109 with model DatepartRegression for Validation 2\n",
            "46 - DatepartRegression with avg smape 5.3: \n",
            "Model Number: 47 of 109 with model SeasonalNaive for Validation 2\n",
            "47 - SeasonalNaive with avg smape 4.4: \n",
            "Model Number: 48 of 109 with model AverageValueNaive for Validation 2\n",
            "48 - AverageValueNaive with avg smape 20.81: \n",
            "Model Number: 49 of 109 with model SeasonalNaive for Validation 2\n",
            "49 - SeasonalNaive with avg smape 13.77: \n",
            "Model Number: 50 of 109 with model UnobservedComponents for Validation 2\n",
            "50 - UnobservedComponents with avg smape 5.82: \n",
            "Model Number: 51 of 109 with model SeasonalNaive for Validation 2\n",
            "51 - SeasonalNaive with avg smape 8.28: \n",
            "Model Number: 52 of 109 with model ETS for Validation 2\n",
            "52 - ETS with avg smape 5.35: \n",
            "Model Number: 53 of 109 with model SeasonalNaive for Validation 2\n",
            "53 - SeasonalNaive with avg smape 4.31: \n",
            "Model Number: 54 of 109 with model SeasonalNaive for Validation 2\n",
            "54 - SeasonalNaive with avg smape 5.41: \n",
            "Model Number: 55 of 109 with model DatepartRegression for Validation 2\n",
            "55 - DatepartRegression with avg smape 43.43: \n",
            "Model Number: 56 of 109 with model ETS for Validation 2\n"
          ]
        },
        {
          "output_type": "stream",
          "name": "stderr",
          "text": [
            "/usr/local/lib/python3.7/dist-packages/sklearn/svm/_base.py:1208: ConvergenceWarning:\n",
            "\n",
            "Liblinear failed to converge, increase the number of iterations.\n",
            "\n"
          ]
        },
        {
          "output_type": "stream",
          "name": "stdout",
          "text": [
            "56 - ETS with avg smape 5.92: \n",
            "Model Number: 57 of 109 with model SeasonalNaive for Validation 2\n",
            "57 - SeasonalNaive with avg smape 6.01: \n",
            "Model Number: 58 of 109 with model SeasonalNaive for Validation 2\n",
            "58 - SeasonalNaive with avg smape 6.01: \n",
            "Model Number: 59 of 109 with model DatepartRegression for Validation 2\n",
            "Epoch 1/50\n",
            "11/11 [==============================] - 6s 8ms/step - loss: 0.2975\n",
            "Epoch 2/50\n",
            "11/11 [==============================] - 0s 9ms/step - loss: 0.2013\n",
            "Epoch 3/50\n",
            "11/11 [==============================] - 0s 7ms/step - loss: 0.1062\n",
            "Epoch 4/50\n",
            "11/11 [==============================] - 0s 7ms/step - loss: 0.0956\n",
            "Epoch 5/50\n",
            "11/11 [==============================] - 0s 7ms/step - loss: 0.0846\n",
            "Epoch 6/50\n",
            "11/11 [==============================] - 0s 9ms/step - loss: 0.0872\n",
            "Epoch 7/50\n",
            "11/11 [==============================] - 0s 8ms/step - loss: 0.0889\n",
            "Epoch 8/50\n",
            "11/11 [==============================] - 0s 8ms/step - loss: 0.0848\n",
            "Epoch 9/50\n",
            "11/11 [==============================] - 0s 8ms/step - loss: 0.0876\n",
            "Epoch 10/50\n",
            "11/11 [==============================] - 0s 8ms/step - loss: 0.0844\n",
            "Epoch 11/50\n",
            "11/11 [==============================] - 0s 7ms/step - loss: 0.0853\n",
            "Epoch 12/50\n",
            "11/11 [==============================] - 0s 9ms/step - loss: 0.0850\n",
            "Epoch 13/50\n",
            "11/11 [==============================] - 0s 8ms/step - loss: 0.0842\n",
            "Epoch 14/50\n",
            "11/11 [==============================] - 0s 8ms/step - loss: 0.0847\n",
            "Epoch 15/50\n",
            "11/11 [==============================] - 0s 9ms/step - loss: 0.0834\n",
            "Epoch 16/50\n",
            "11/11 [==============================] - 0s 7ms/step - loss: 0.0877\n",
            "Epoch 17/50\n",
            "11/11 [==============================] - 0s 7ms/step - loss: 0.0881\n",
            "Epoch 18/50\n",
            "11/11 [==============================] - 0s 8ms/step - loss: 0.0814\n",
            "Epoch 19/50\n",
            "11/11 [==============================] - 0s 8ms/step - loss: 0.0854\n",
            "Epoch 20/50\n",
            "11/11 [==============================] - 0s 8ms/step - loss: 0.0858\n",
            "Epoch 21/50\n",
            "11/11 [==============================] - 0s 8ms/step - loss: 0.0888\n",
            "Epoch 22/50\n",
            "11/11 [==============================] - 0s 7ms/step - loss: 0.0845\n",
            "Epoch 23/50\n",
            "11/11 [==============================] - 0s 10ms/step - loss: 0.0876\n",
            "Epoch 24/50\n",
            "11/11 [==============================] - 0s 8ms/step - loss: 0.0856\n",
            "Epoch 25/50\n",
            "11/11 [==============================] - 0s 8ms/step - loss: 0.0889\n",
            "Epoch 26/50\n",
            "11/11 [==============================] - 0s 8ms/step - loss: 0.0825\n",
            "Epoch 27/50\n",
            "11/11 [==============================] - 0s 8ms/step - loss: 0.0820\n",
            "Epoch 28/50\n",
            "11/11 [==============================] - 0s 8ms/step - loss: 0.0809\n",
            "Epoch 29/50\n",
            "11/11 [==============================] - 0s 8ms/step - loss: 0.0873\n",
            "Epoch 30/50\n",
            "11/11 [==============================] - 0s 8ms/step - loss: 0.0873\n",
            "Epoch 31/50\n",
            "11/11 [==============================] - 0s 8ms/step - loss: 0.0840\n",
            "Epoch 32/50\n",
            "11/11 [==============================] - 0s 8ms/step - loss: 0.0830\n",
            "Epoch 33/50\n",
            "11/11 [==============================] - 0s 9ms/step - loss: 0.0842\n",
            "Epoch 34/50\n",
            "11/11 [==============================] - 0s 8ms/step - loss: 0.0828\n",
            "Epoch 35/50\n",
            "11/11 [==============================] - 0s 8ms/step - loss: 0.0793\n",
            "Epoch 36/50\n",
            "11/11 [==============================] - 0s 7ms/step - loss: 0.0863\n",
            "Epoch 37/50\n",
            "11/11 [==============================] - 0s 9ms/step - loss: 0.0834\n",
            "Epoch 38/50\n",
            "11/11 [==============================] - 0s 8ms/step - loss: 0.0811\n",
            "Epoch 39/50\n",
            "11/11 [==============================] - 0s 8ms/step - loss: 0.0878\n",
            "Epoch 40/50\n",
            "11/11 [==============================] - 0s 8ms/step - loss: 0.0808\n",
            "Epoch 41/50\n",
            "11/11 [==============================] - 0s 8ms/step - loss: 0.0811\n",
            "Epoch 42/50\n",
            "11/11 [==============================] - 0s 8ms/step - loss: 0.0865\n",
            "Epoch 43/50\n",
            "11/11 [==============================] - 0s 8ms/step - loss: 0.0848\n",
            "Epoch 44/50\n",
            "11/11 [==============================] - 0s 8ms/step - loss: 0.0840\n",
            "Epoch 45/50\n",
            "11/11 [==============================] - 0s 7ms/step - loss: 0.0845\n",
            "Epoch 46/50\n",
            "11/11 [==============================] - 0s 8ms/step - loss: 0.0803\n",
            "Epoch 47/50\n",
            "11/11 [==============================] - 0s 8ms/step - loss: 0.0846\n",
            "Epoch 48/50\n",
            "11/11 [==============================] - 0s 8ms/step - loss: 0.0826\n",
            "Epoch 49/50\n",
            "11/11 [==============================] - 0s 8ms/step - loss: 0.0814\n",
            "Epoch 50/50\n",
            "11/11 [==============================] - 0s 8ms/step - loss: 0.0818\n",
            "59 - DatepartRegression with avg smape 27.55: \n",
            "Model Number: 60 of 109 with model LastValueNaive for Validation 2\n",
            "60 - LastValueNaive with avg smape 7.31: \n",
            "Model Number: 61 of 109 with model LastValueNaive for Validation 2\n",
            "61 - LastValueNaive with avg smape 7.33: \n",
            "Model Number: 62 of 109 with model GLM for Validation 2\n",
            "62 - GLM with avg smape 7.76: \n"
          ]
        },
        {
          "output_type": "stream",
          "name": "stderr",
          "text": [
            "/usr/local/lib/python3.7/dist-packages/statsmodels/genmod/generalized_linear_model.py:273: DomainWarning:\n",
            "\n",
            "The inverse_power link function does not respect the domain of the Gamma family.\n",
            "\n"
          ]
        },
        {
          "output_type": "stream",
          "name": "stdout",
          "text": [
            "Model Number: 63 of 109 with model LastValueNaive for Validation 2\n",
            "63 - LastValueNaive with avg smape 6.77: \n",
            "Model Number: 64 of 109 with model UnobservedComponents for Validation 2\n",
            "64 - UnobservedComponents with avg smape 6.52: \n",
            "Model Number: 65 of 109 with model LastValueNaive for Validation 2\n",
            "65 - LastValueNaive with avg smape 7.47: \n",
            "Model Number: 66 of 109 with model LastValueNaive for Validation 2\n",
            "66 - LastValueNaive with avg smape 7.47: \n",
            "Model Number: 67 of 109 with model ETS for Validation 2\n",
            "67 - ETS with avg smape 6.67: \n",
            "Model Number: 68 of 109 with model WindowRegression for Validation 2\n"
          ]
        },
        {
          "output_type": "stream",
          "name": "stderr",
          "text": [
            "/usr/local/lib/python3.7/dist-packages/sklearn/neural_network/_multilayer_perceptron.py:549: ConvergenceWarning:\n",
            "\n",
            "lbfgs failed to converge (status=1):\n",
            "STOP: TOTAL NO. of ITERATIONS REACHED LIMIT.\n",
            "\n",
            "Increase the number of iterations (max_iter) or scale the data as shown in:\n",
            "    https://scikit-learn.org/stable/modules/preprocessing.html\n",
            "\n"
          ]
        },
        {
          "output_type": "stream",
          "name": "stdout",
          "text": [
            "68 - WindowRegression with avg smape 16.44: \n",
            "Model Number: 69 of 109 with model WindowRegression for Validation 2\n"
          ]
        },
        {
          "output_type": "stream",
          "name": "stderr",
          "text": [
            "/usr/local/lib/python3.7/dist-packages/sklearn/utils/validation.py:993: DataConversionWarning:\n",
            "\n",
            "A column-vector y was passed when a 1d array was expected. Please change the shape of y to (n_samples, ), for example using ravel().\n",
            "\n",
            "/usr/local/lib/python3.7/dist-packages/sklearn/svm/_base.py:1208: ConvergenceWarning:\n",
            "\n",
            "Liblinear failed to converge, increase the number of iterations.\n",
            "\n"
          ]
        },
        {
          "output_type": "stream",
          "name": "stdout",
          "text": [
            "69 - WindowRegression with avg smape 4.59: \n",
            "Model Number: 70 of 109 with model WindowRegression for Validation 2\n",
            "70 - WindowRegression with avg smape 5.08: \n",
            "Model Number: 71 of 109 with model UnobservedComponents for Validation 2\n",
            "71 - UnobservedComponents with avg smape 6.92: \n",
            "Model Number: 72 of 109 with model GLM for Validation 2\n",
            "72 - GLM with avg smape 13.05: \n",
            "Model Number: 73 of 109 with model UnobservedComponents for Validation 2\n",
            "73 - UnobservedComponents with avg smape 7.01: \n",
            "Model Number: 74 of 109 with model DatepartRegression for Validation 2\n",
            "74 - DatepartRegression with avg smape 22.48: \n",
            "Model Number: 75 of 109 with model GLM for Validation 2\n"
          ]
        },
        {
          "output_type": "stream",
          "name": "stderr",
          "text": [
            "/usr/local/lib/python3.7/dist-packages/sklearn/svm/_base.py:1208: ConvergenceWarning:\n",
            "\n",
            "Liblinear failed to converge, increase the number of iterations.\n",
            "\n"
          ]
        },
        {
          "output_type": "stream",
          "name": "stdout",
          "text": [
            "75 - GLM with avg smape 3.59: \n",
            "Model Number: 76 of 109 with model GLM for Validation 2\n",
            "76 - GLM with avg smape 3.59: \n",
            "Model Number: 77 of 109 with model GLM for Validation 2\n",
            "77 - GLM with avg smape 3.59: \n",
            "Model Number: 78 of 109 with model UnobservedComponents for Validation 2\n"
          ]
        },
        {
          "output_type": "stream",
          "name": "stderr",
          "text": [
            "/usr/local/lib/python3.7/dist-packages/statsmodels/genmod/generalized_linear_model.py:273: DomainWarning:\n",
            "\n",
            "The inverse_power link function does not respect the domain of the Gamma family.\n",
            "\n"
          ]
        },
        {
          "output_type": "stream",
          "name": "stdout",
          "text": [
            "78 - UnobservedComponents with avg smape 7.73: \n",
            "Model Number: 79 of 109 with model WindowRegression for Validation 2\n",
            "79 - WindowRegression with avg smape 4.66: \n",
            "Model Number: 80 of 109 with model LastValueNaive for Validation 2\n",
            "80 - LastValueNaive with avg smape 7.47: \n",
            "Model Number: 81 of 109 with model LastValueNaive for Validation 2\n",
            "81 - LastValueNaive with avg smape 7.47: \n",
            "Model Number: 82 of 109 with model ETS for Validation 2\n",
            "82 - ETS with avg smape 6.74: \n",
            "Model Number: 83 of 109 with model WindowRegression for Validation 2\n"
          ]
        },
        {
          "output_type": "stream",
          "name": "stderr",
          "text": [
            "/usr/local/lib/python3.7/dist-packages/autots/models/sklearn.py:1248: DataConversionWarning:\n",
            "\n",
            "A column-vector y was passed when a 1d array was expected. Please change the shape of y to (n_samples,), for example using ravel().\n",
            "\n"
          ]
        },
        {
          "output_type": "stream",
          "name": "stdout",
          "text": [
            "83 - WindowRegression with avg smape 5.91: \n",
            "Model Number: 84 of 109 with model WindowRegression for Validation 2\n",
            "84 - WindowRegression with avg smape 4.66: \n",
            "Model Number: 85 of 109 with model ETS for Validation 2\n",
            "85 - ETS with avg smape 6.41: \n",
            "Model Number: 86 of 109 with model ETS for Validation 2\n",
            "86 - ETS with avg smape 6.43: \n",
            "Model Number: 87 of 109 with model ZeroesNaive for Validation 2\n",
            "87 - ZeroesNaive with avg smape 6.49: \n",
            "Model Number: 88 of 109 with model ZeroesNaive for Validation 2\n",
            "88 - ZeroesNaive with avg smape 6.49: \n",
            "Model Number: 89 of 109 with model ZeroesNaive for Validation 2\n",
            "89 - ZeroesNaive with avg smape 6.49: \n",
            "Model Number: 90 of 109 with model ZeroesNaive for Validation 2\n",
            "90 - ZeroesNaive with avg smape 10.1: \n",
            "Model Number: 91 of 109 with model ZeroesNaive for Validation 2\n",
            "91 - ZeroesNaive with avg smape 6.49: \n",
            "Model Number: 92 of 109 with model ZeroesNaive for Validation 2\n",
            "92 - ZeroesNaive with avg smape 6.49: \n",
            "Model Number: 93 of 109 with model LastValueNaive for Validation 2\n",
            "93 - LastValueNaive with avg smape 5.99: \n",
            "Model Number: 94 of 109 with model ETS for Validation 2\n",
            "94 - ETS with avg smape 6.49: \n",
            "Model Number: 95 of 109 with model ETS for Validation 2\n",
            "95 - ETS with avg smape 6.53: \n",
            "Model Number: 96 of 109 with model ZeroesNaive for Validation 2\n",
            "96 - ZeroesNaive with avg smape 6.7: \n",
            "Model Number: 97 of 109 with model WindowRegression for Validation 2\n",
            "97 - WindowRegression with avg smape 7.66: \n",
            "Model Number: 98 of 109 with model ZeroesNaive for Validation 2\n"
          ]
        },
        {
          "output_type": "stream",
          "name": "stderr",
          "text": [
            "/usr/local/lib/python3.7/dist-packages/sklearn/utils/validation.py:993: DataConversionWarning:\n",
            "\n",
            "A column-vector y was passed when a 1d array was expected. Please change the shape of y to (n_samples, ), for example using ravel().\n",
            "\n"
          ]
        },
        {
          "output_type": "stream",
          "name": "stdout",
          "text": [
            "98 - ZeroesNaive with avg smape 12.55: \n",
            "Model Number: 99 of 109 with model UnobservedComponents for Validation 2\n",
            "99 - UnobservedComponents with avg smape 4.42: \n",
            "Model Number: 100 of 109 with model UnobservedComponents for Validation 2\n",
            "100 - UnobservedComponents with avg smape 9.77: \n",
            "Model Number: 101 of 109 with model GLS for Validation 2\n",
            "101 - GLS with avg smape 7.02: \n",
            "Model Number: 102 of 109 with model GLS for Validation 2\n",
            "102 - GLS with avg smape 7.02: \n",
            "Model Number: 103 of 109 with model GLS for Validation 2\n",
            "103 - GLS with avg smape 8.32: \n",
            "Model Number: 104 of 109 with model UnobservedComponents for Validation 2\n",
            "104 - UnobservedComponents with avg smape 20.13: \n",
            "Model Number: 105 of 109 with model GLS for Validation 2\n",
            "105 - GLS with avg smape 20.47: \n",
            "Model Number: 106 of 109 with model GLS for Validation 2\n",
            "106 - GLS with avg smape 20.53: \n",
            "Model Number: 107 of 109 with model GLS for Validation 2\n",
            "107 - GLS with avg smape 20.53: \n",
            "Model Number: 108 of 109 with model GLS for Validation 2\n",
            "108 - GLS with avg smape 10.89: \n",
            "Model Number: 109 of 109 with model GLS for Validation 2\n",
            "109 - GLS with avg smape 20.46: \n",
            "Dogecoin Price Prediction\n",
            "               Close\n",
            "2022-01-21  0.165734\n",
            "2022-01-22  0.168606\n",
            "2022-01-23  0.169390\n",
            "2022-01-24  0.176919\n",
            "2022-01-25  0.176799\n",
            "2022-01-26  0.172821\n",
            "2022-01-27  0.166310\n",
            "2022-01-28  0.162109\n",
            "2022-01-29  0.162996\n",
            "2022-01-30  0.162769\n"
          ]
        }
      ]
    },
    {
      "cell_type": "markdown",
      "source": [
        "#Resumo\n",
        "Existem muitas abordagens de aprendizado de máquina que podemos usar para prever os preços futuros do Dogecoin. Neste artigo, apresentei como você pode prever os preços futuros do Dogecoin usando a biblioteca autots em Python. Espero que você tenha gostado deste artigo sobre como prever os preços futuros do Dogecoin com Machine Learning usando Python. Sinta-se à vontade para fazer suas perguntas valiosas na seção de comentários abaixo.\n",
        "\n"
      ],
      "metadata": {
        "id": "8JcgY0iHE53I"
      }
    }
  ]
}