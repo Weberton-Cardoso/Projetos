{
  "nbformat": 4,
  "nbformat_minor": 0,
  "metadata": {
    "colab": {
      "name": "Previsão de preço Dogecoin.ipynb",
      "provenance": [],
      "authorship_tag": "ABX9TyMiWUKN7+z92NqIZ6vePdCn",
      "include_colab_link": true
    },
    "kernelspec": {
      "name": "python3",
      "display_name": "Python 3"
    },
    "language_info": {
      "name": "python"
    }
  },
  "cells": [
    {
      "cell_type": "markdown",
      "metadata": {
        "id": "view-in-github",
        "colab_type": "text"
      },
      "source": [
        "<a href=\"https://colab.research.google.com/github/Weberton-Cardoso/Projetos/blob/master/Previs%C3%A3o_de_pre%C3%A7o_Dogecoin.ipynb\" target=\"_parent\"><img src=\"https://colab.research.google.com/assets/colab-badge.svg\" alt=\"Open In Colab\"/></a>"
      ]
    },
    {
      "cell_type": "markdown",
      "source": [
        "#Previsão de preço Dogecoin\n",
        "Prever o preço de uma criptomoeda é um problema de regressão no aprendizado de máquina. O Bitcoin é um dos exemplos mais bem-sucedidos de criptomoeda, mas recentemente vimos uma grande queda nos preços do bitcoin devido ao dogecoin. Ao contrário do bitcoin, o dogecoin é muito barato no momento, mas especialistas financeiros estão prevendo que podemos ver um grande aumento nos preços do dogecoin.\n",
        "\n",
        "Existem muitas abordagens de aprendizado de máquina que podemos usar para a tarefa de previsão de preços do Dogecoin. Você pode treinar um modelo de aprendizado de máquina ou também pode usar um modelo poderoso já disponível, como o Facebook Prophet Model. Mas na seção abaixo, usarei a biblioteca autots em Python para a tarefa de previsão de preços Dogecoin com aprendizado de máquina."
      ],
      "metadata": {
        "id": "D-LeFu5eEi2f"
      }
    },
    {
      "cell_type": "code",
      "execution_count": 1,
      "metadata": {
        "id": "lZyGGQb3wneZ"
      },
      "outputs": [],
      "source": [
        "import numpy as np\n",
        "import pandas as pd\n",
        "import matplotlib.pyplot as plt\n",
        "import seaborn as sns\n",
        "from seaborn import regression\n"
      ]
    },
    {
      "cell_type": "markdown",
      "source": [
        ""
      ],
      "metadata": {
        "id": "IufOTM9bE1I6"
      }
    },
    {
      "cell_type": "code",
      "source": [
        "sns.set()"
      ],
      "metadata": {
        "id": "iV66Dfo95cxD"
      },
      "execution_count": 2,
      "outputs": []
    },
    {
      "cell_type": "code",
      "source": [
        "plt.style.use('seaborn-whitegrid')"
      ],
      "metadata": {
        "id": "AYiXPPta5ioP"
      },
      "execution_count": 3,
      "outputs": []
    },
    {
      "cell_type": "code",
      "source": [
        "data = pd.read_csv('/content/DOGE-USD.csv')"
      ],
      "metadata": {
        "id": "23uyUPWN5sB_"
      },
      "execution_count": 9,
      "outputs": []
    },
    {
      "cell_type": "code",
      "source": [
        "print(data.head())"
      ],
      "metadata": {
        "colab": {
          "base_uri": "https://localhost:8080/"
        },
        "id": "WmoUI9u-555e",
        "outputId": "374bafc3-b1b6-449a-8a94-30ae99ea6421"
      },
      "execution_count": 10,
      "outputs": [
        {
          "output_type": "stream",
          "name": "stdout",
          "text": [
            "         Date      Open      High       Low     Close  Adj Close     Volume\n",
            "0  2021-01-20  0.009096  0.009153  0.008529  0.009060   0.009060  220205442\n",
            "1  2021-01-21  0.009062  0.009089  0.008061  0.008166   0.008166  215419839\n",
            "2  2021-01-22  0.008165  0.008769  0.007654  0.008524   0.008524  185490003\n",
            "3  2021-01-23  0.008520  0.008808  0.008388  0.008579   0.008579  154393737\n",
            "4  2021-01-24  0.008578  0.008951  0.008516  0.008727   0.008727  162191977\n"
          ]
        }
      ]
    },
    {
      "cell_type": "markdown",
      "source": [
        "### Neste conjunto de dados, a coluna “close” contém os valores cujos valores futuros queremos prever, então vamos dar uma olhada nos valores históricos dos preços de fechamento do Dogecoin:"
      ],
      "metadata": {
        "id": "_957NseZ7GPG"
      }
    },
    {
      "cell_type": "code",
      "source": [
        "data.dropna()\n",
        "plt.figure(figsize=(10, 4))\n",
        "plt.title(\"DogeCoin Price INR\")\n",
        "plt.xlabel(\"Date\")\n",
        "plt.ylabel(\"Close\")\n",
        "plt.plot(data[\"Close\"])\n",
        "plt.show()"
      ],
      "metadata": {
        "colab": {
          "base_uri": "https://localhost:8080/",
          "height": 293
        },
        "id": "KPCLc16S7Y8w",
        "outputId": "92402944-9ce0-4159-a8e1-cf0211b470a6"
      },
      "execution_count": 15,
      "outputs": [
        {
          "output_type": "display_data",
          "data": {
            "image/png": "[encoded data removed]",
            "text/plain": [
              "<Figure size 720x288 with 1 Axes>"
            ]
          },
          "metadata": {}
        }
      ]
    },
    {
      "cell_type": "markdown",
      "source": [
        "## Agora estarei usando a biblioteca autots em Python para treinar um modelo de aprendizado de máquina para prever os preços futuros do Dogecoin. "
      ],
      "metadata": {
        "id": "Wl0Jr8SR8a5k"
      }
    },
    {
      "cell_type": "code",
      "source": [
        "#Agora vamos treinar o modelo de previsão de preços do Dogecoin e dar uma olhada nos preços futuros do Dogecoin:\n",
        "\n",
        "from autots import AutoTS\n",
        "model = AutoTS(forecast_length=10, frequency='infer', ensemble='simple', drop_data_older_than_periods=200)\n",
        "model = model.fit(data, date_col='Date', value_col='Close', id_col=None)\n",
        "\n",
        "\n",
        "prediction = model.predict()\n",
        "forecast = prediction.forecast\n",
        "print(\"Dogecoin Price Prediction\")\n",
        "print(forecast)"
      ],
      "metadata": {
        "id": "ehEr_Vu08dAA"
      },
      "execution_count": null,
      "outputs": []
    },
    {
      "cell_type": "markdown",
      "source": [
        "#Dogecoin Price Prediction\n",
        "#    *  Close*\n",
        "#2022-01-21  0.165734\n",
        "#2022-01-22  0.168606\n",
        "#2022-01-23  0.169390\n",
        "#2022-01-24  0.176919\n",
        "#2022-01-25  0.176799\n",
        "#2022-01-26  0.172821\n",
        "#2022-01-27  0.166310\n",
        "#2022-01-28  0.162109\n",
        "#2022-01-29  0.162996\n",
        "#2022-01-30  0.162769"
      ],
      "metadata": {
        "id": "bVwK9vs4Gsfp"
      }
    },
    {
      "cell_type": "markdown",
      "source": [
        "#Resumo\n",
        "Existem muitas abordagens de aprendizado de máquina que podemos usar para prever os preços futuros do Dogecoin. Neste artigo, apresentei como você pode prever os preços futuros do Dogecoin usando a biblioteca autots em Python. Espero que você tenha gostado deste artigo sobre como prever os preços futuros do Dogecoin com Machine Learning usando Python. Sinta-se à vontade para fazer suas perguntas valiosas na seção de comentários abaixo.\n",
        "\n"
      ],
      "metadata": {
        "id": "8JcgY0iHE53I"
      }
    }
  ]
}