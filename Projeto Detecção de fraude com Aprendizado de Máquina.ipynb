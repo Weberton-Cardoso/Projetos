{
 "cells": [
  {
   "cell_type": "markdown",
   "id": "f67499d7",
   "metadata": {},
   "source": [
    "# Projeto Detecção de fraude com Aprendizado de Máquina\n",
    "\n",
    "A fraude é um dos principais problemas que encontramos principalmente em bancos, seguros de vida, seguros de saúde e muitos outros. Essas grandes fraudes dependem da pessoa que está tentando vender o produto ou serviço falso, se você estiver maduro o suficiente para decidir o que está errado, nunca entrará em nenhuma transação fraudulenta. Mas uma dessas fraudes que vem aumentando muito nos dias de hoje é a fraude na realização de pagamentos. Neste artigo, mostrarei uma solução para detecção de fraudes com aprendizado de máquina."
   ]
  },
  {
   "cell_type": "markdown",
   "id": "cc916782",
   "metadata": {},
   "source": [
    "O conjunto de dados que estou usando são dados de transações para compras on-line coletados de um varejista de comércio eletrônico. O conjunto de dados contém mais de 39.000 transações, cada transação contém 5 recursos que descrevem a natureza das transações. "
   ]
  },
  {
   "cell_type": "code",
   "execution_count": 3,
   "id": "158d11b9",
   "metadata": {},
   "outputs": [],
   "source": [
    "import pandas as pd\n",
    "from sklearn.model_selection import train_test_split\n",
    "from sklearn.linear_model import LogisticRegression\n",
    "from sklearn.metrics import accuracy_score, confusion_matrix"
   ]
  },
  {
   "cell_type": "markdown",
   "id": "2abf0058",
   "metadata": {},
   "source": [
    "# Modelo de detecção de fraude de pagamento\n",
    "\n",
    "Felizmente, o conjunto de dados que estou usando já está muito bem estruturado, sem valores ausentes, e não encontro nenhum escopo de limpeza de dados nele. Então, sem perder tempo, vou mergulhar na construção do nosso modelo de aprendizado de máquina. Então, agora vou começar importando os dados:"
   ]
  },
  {
   "cell_type": "code",
   "execution_count": 5,
   "id": "a6d953a5",
   "metadata": {},
   "outputs": [
    {
     "data": {
      "text/html": [
       "<div>\n",
       "<style scoped>\n",
       "    .dataframe tbody tr th:only-of-type {\n",
       "        vertical-align: middle;\n",
       "    }\n",
       "\n",
       "    .dataframe tbody tr th {\n",
       "        vertical-align: top;\n",
       "    }\n",
       "\n",
       "    .dataframe thead th {\n",
       "        text-align: right;\n",
       "    }\n",
       "</style>\n",
       "<table border=\"1\" class=\"dataframe\">\n",
       "  <thead>\n",
       "    <tr style=\"text-align: right;\">\n",
       "      <th></th>\n",
       "      <th>accountAgeDays</th>\n",
       "      <th>numItems</th>\n",
       "      <th>localTime</th>\n",
       "      <th>paymentMethod</th>\n",
       "      <th>paymentMethodAgeDays</th>\n",
       "      <th>label</th>\n",
       "    </tr>\n",
       "  </thead>\n",
       "  <tbody>\n",
       "    <tr>\n",
       "      <th>0</th>\n",
       "      <td>29</td>\n",
       "      <td>1</td>\n",
       "      <td>4.745402</td>\n",
       "      <td>paypal</td>\n",
       "      <td>28.204861</td>\n",
       "      <td>0</td>\n",
       "    </tr>\n",
       "    <tr>\n",
       "      <th>1</th>\n",
       "      <td>725</td>\n",
       "      <td>1</td>\n",
       "      <td>4.742303</td>\n",
       "      <td>storecredit</td>\n",
       "      <td>0.000000</td>\n",
       "      <td>0</td>\n",
       "    </tr>\n",
       "    <tr>\n",
       "      <th>2</th>\n",
       "      <td>845</td>\n",
       "      <td>1</td>\n",
       "      <td>4.921318</td>\n",
       "      <td>creditcard</td>\n",
       "      <td>0.000000</td>\n",
       "      <td>0</td>\n",
       "    </tr>\n",
       "    <tr>\n",
       "      <th>3</th>\n",
       "      <td>503</td>\n",
       "      <td>1</td>\n",
       "      <td>4.886641</td>\n",
       "      <td>creditcard</td>\n",
       "      <td>0.000000</td>\n",
       "      <td>0</td>\n",
       "    </tr>\n",
       "    <tr>\n",
       "      <th>4</th>\n",
       "      <td>2000</td>\n",
       "      <td>1</td>\n",
       "      <td>5.040929</td>\n",
       "      <td>creditcard</td>\n",
       "      <td>0.000000</td>\n",
       "      <td>0</td>\n",
       "    </tr>\n",
       "  </tbody>\n",
       "</table>\n",
       "</div>"
      ],
      "text/plain": [
       "   accountAgeDays  numItems  localTime paymentMethod  paymentMethodAgeDays  \\\n",
       "0              29         1   4.745402        paypal             28.204861   \n",
       "1             725         1   4.742303   storecredit              0.000000   \n",
       "2             845         1   4.921318    creditcard              0.000000   \n",
       "3             503         1   4.886641    creditcard              0.000000   \n",
       "4            2000         1   5.040929    creditcard              0.000000   \n",
       "\n",
       "   label  \n",
       "0      0  \n",
       "1      0  \n",
       "2      0  \n",
       "3      0  \n",
       "4      0  "
      ]
     },
     "execution_count": 5,
     "metadata": {},
     "output_type": "execute_result"
    }
   ],
   "source": [
    "df = pd.read_csv('E:/Documentos/payment_fraud.csv')\n",
    "df.head()"
   ]
  },
  {
   "cell_type": "markdown",
   "id": "b2274051",
   "metadata": {},
   "source": [
    "Agora, vou dividir os dados em conjuntos de treinamento e teste:"
   ]
  },
  {
   "cell_type": "code",
   "execution_count": 21,
   "id": "a3a9f7a2",
   "metadata": {},
   "outputs": [],
   "source": [
    "X_train, X_test, y_train, y_test = train_test_split(\n",
    "    df.drop('paymentMethod', axis=1), df['label'],\n",
    "    test_size=0.33, random_state=17)"
   ]
  },
  {
   "cell_type": "markdown",
   "id": "7498d782",
   "metadata": {},
   "source": [
    "Como este é um problema de classificação binária, utilizarei um algoritmo de Regressão Logística , pois é um dos algoritmos mais poderosos para um modelo de classificação binária.\n",
    "Agora vamos simplesmente treinar o modelo de detecção de fraude usando o algoritmo de regressão logística e dar uma olhada na pontuação de precisão que obteremos usando este algoritmo:"
   ]
  },
  {
   "cell_type": "code",
   "execution_count": 22,
   "id": "c95fe1e2",
   "metadata": {},
   "outputs": [
    {
     "name": "stdout",
     "output_type": "stream",
     "text": [
      "1.0\n"
     ]
    }
   ],
   "source": [
    "clf = LogisticRegression().fit(X_train, y_train)\n",
    "\n",
    "# Fazendo previsões no conjunto de testes\n",
    "y_pred = clf.predict(X_test)\n",
    "from sklearn.metrics import accuracy_score\n",
    "print(accuracy_score(y_pred, y_test))"
   ]
  },
  {
   "cell_type": "markdown",
   "id": "74f26803",
   "metadata": {},
   "source": [
    "# Avaliando o Modelo de Detecção de Fraude\n",
    "\n",
    "Agora, vamos avaliar o desempenho do nosso modelo. Usarei o algoritmo da matriz de confusão para avaliar o desempenho do nosso modelo. Podemos usar o algoritmo da matriz de confusão apenas com um código de uma linha:"
   ]
  },
  {
   "cell_type": "code",
   "execution_count": 24,
   "id": "d6fde306",
   "metadata": {},
   "outputs": [
    {
     "name": "stdout",
     "output_type": "stream",
     "text": [
      "[[12753     0]\n",
      " [    0   190]]\n"
     ]
    }
   ],
   "source": [
    "# Comparando as previsões do conjunto de testes com rótulos de verdade\n",
    "print(confusion_matrix(y_test, y_pred))"
   ]
  },
  {
   "cell_type": "markdown",
   "id": "f16146bf",
   "metadata": {},
   "source": [
    "# Conclusão\n",
    "\n",
    "Portanto, de todas as transações no conjunto de dados, 190 transações são reconhecidas corretamente como fraude e 12.753 transações são reconhecidas como transações não fraudulentas. "
   ]
  },
  {
   "cell_type": "code",
   "execution_count": null,
   "id": "ed0594b8",
   "metadata": {},
   "outputs": [],
   "source": []
  }
 ],
 "metadata": {
  "kernelspec": {
   "display_name": "Python 3 (ipykernel)",
   "language": "python",
   "name": "python3"
  },
  "language_info": {
   "codemirror_mode": {
    "name": "ipython",
    "version": 3
   },
   "file_extension": ".py",
   "mimetype": "text/x-python",
   "name": "python",
   "nbconvert_exporter": "python",
   "pygments_lexer": "ipython3",
   "version": "3.8.5"
  }
 },
 "nbformat": 4,
 "nbformat_minor": 5
}
